{
 "cells": [
  {
   "cell_type": "markdown",
   "metadata": {},
   "source": [
    "## <center><font color=navy>Big Data Economics</font></center>\n",
    "### <center>Maximum Likelihood Estimation (MLE)</center>\n",
    "#### <center>Ali Habibnia</center>\n",
    "\n",
    "\n",
    "<center> Assistant Professor, Department of Economics, </center>\n",
    "<center> and Division of Computational Modeling & Data Analytics at Virginia Tech</center>\n",
    "<center> habibnia@vt.edu </center> "
   ]
  },
  {
   "cell_type": "markdown",
   "metadata": {},
   "source": [
    "<div class=\"alert alert-block alert-info\">\n",
    "\n",
    "### <center>Linear Regression : The Probabilistic Perspective</center>\n",
    "\n",
    "Probability is a great way to express the relationship between the data and the model, concisely. We are familiar with how Linear Regression works. We know the loss function just tries to minimize the quadratic distance between data points and the model (line). Today, we will revisit Linear Regression from a probabilistic perspective, using a method known as the Maximum Likelihood estimation.\n",
    "\n",
    "<img src=\"images/lr2.png\"  width=\"600\">\n",
    "</div>\n",
    "\n",
    "\n"
   ]
  },
  {
   "cell_type": "markdown",
   "metadata": {},
   "source": [
    "### Readings:\n",
    "\n",
    "1. ***Chapter 8.2*** [The Elements of Statistical Learning: Data Mining, Inference, and Prediction](https://web.stanford.edu/~hastie/ElemStatLearn/printings/ESLII_print12.pdf). \n",
    "2. For a quick review see: ***Chapter 24.1***, Understanding Machine Learning From Theory to Algorithms.\n",
    "3. Nando de Fretais’s [lecture](https://www.youtube.com/watch?v=voN8omBe2r4)"
   ]
  },
  {
   "cell_type": "markdown",
   "metadata": {},
   "source": [
    "> In simple terms, MLE lets us choose a model (parameters) that explains the data (sample set) better than all other models. For any given regression model, the objective function can be derived based on the principle of Maximum Likelihood.\n",
    "\n",
    "- Maximum Likelihood Estimation or MLE is a tool based on probability. \n",
    "- Probability is a framework for meauring and managing uncertainty. \n",
    "- Every inference we make, has some degree of uncertainty associated with it. \n",
    "- It is essential for us to quantify this uncertainty."
   ]
  },
  {
   "cell_type": "markdown",
   "metadata": {},
   "source": [
    "### Normal (Gaussian) Distribution\n",
    "\n",
    "A probability distribution is a function that provides us the probabilities of all possible outcomes of a stochastic process. The most commonly occurring distribution is the Gaussian Distribution or the Normal Distribution.\n",
    "\n",
    "The gaussian distribution is a means to measure the uncertainty of a variable that is continuous between −∞\n",
    " and +∞. The distribution is centered at mean, μ. The width depends on the parameter σ, the standard deviation (variance, $σ^2$). Naturally, area under the curve equals 1.\n",
    "\n",
    "<img src=\"images/normal1.png\"  width=\"600\">\n",
    "\n",
    "<img src=\"images/normalpdfcdf.gif\"  width=\"550\">\n"
   ]
  },
  {
   "cell_type": "markdown",
   "metadata": {},
   "source": [
    "> ##### Do you remember what is the \"Standard Normal Distribution\"?"
   ]
  },
  {
   "cell_type": "markdown",
   "metadata": {},
   "source": [
    "### How is Gaussian Distribution relevant to linear regression? \n",
    "\n",
    "The data points in the sample set, do not accurately represent the original data generating distribution or process. Hence we consider the process stochastic and build our model to accomodate a certain level of uncertainty. Every data point can be considered a random variable sampled from the data generating distribution which we assume to be gaussian. By that logic, estimation is basically recreating the original distribution, that generated the sample data."
   ]
  },
  {
   "cell_type": "markdown",
   "metadata": {},
   "source": [
    "### Random Sampling\n",
    "The process of sampling from a normal distribution is expressed as, $x∼N(μ,σ^2)$. ‘$x$’ is a random variable sampled or generated or simulated from the guassian distribution. As we sample from this distribution, most samples will fall around the center, near the mean, because of higher probability density in the center.\n",
    "\n",
    "<img src=\"images/sampling1.png\"  width=\"600\">\n",
    "\n"
   ]
  },
  {
   "cell_type": "markdown",
   "metadata": {},
   "source": [
    "### Multivariate Gaussian\n",
    "\n",
    "The 2D gaussian distribution or bivariate distribution, consists of 2 random variables $x_1$ and $x_2$. It can have many different shapes. The shape depends on the covariance matrix, $Σ$. The Multivariate Gaussian Distribution is a generalization of bivariate distribution, for ‘$n$’ dimensions.\n",
    "\n",
    "<img src=\"images/bivariate3d.png\"  width=\"600\">\n",
    "\n",
    "<img src=\"images/bivariatepdf.png\"  width=\"350\">\n",
    "\n",
    "In the above expression, $y$ and $μ$ are vectors of ‘$n$’ dimensions, and $Σ$ is a matrix of shape ‘$n$x$n$’.\n",
    "\n",
    "\n"
   ]
  },
  {
   "cell_type": "markdown",
   "metadata": {},
   "source": [
    "### Maximum Likelihood\n",
    "\n",
    "Consider 3 data points, $y_1=1$,$y_2=0.5$,$y_3=1.5$, which are independent and drawn from a guassian with unknown mean θ and variance 1. \n",
    "\n",
    "Let’s say we have two choices for θ: {1, 2.5}. Which would you choose? Which model (θ) would explain the data better?\n",
    "\n",
    "In general, any data point drawn from a gaussian with mean θ and and variance 1, can be written as,\n",
    "\n",
    "### $y_i∼N(θ,1)=θ+N(0,1)$\n",
    "\n",
    "θ, the mean, shifts the center of the standard normal distribution (μ=0 and σ2=1).\n",
    "\n",
    "The likelihood of data (y1,y2,y3) having been drawn from N(θ,1), can be defined as,\n",
    "\n",
    "### $P(y_1,y_2,y_3|θ) = P(y_1|θ)P(y_2|θ)P(y_3|θ)$\n",
    "\n",
    "as $y_1,y_2,y_3$ are independent."
   ]
  },
  {
   "cell_type": "markdown",
   "metadata": {},
   "source": [
    "Now, we have two normal distributions defined by θ = 1 and θ = 2.5. Let us draw both and plot the data points. In the figure below, notice the dotted lines that connect the bell curve to the data points. Consider the point $y_2=0.5$ in the first distribution( $N(μ=1,σ^2=1)$ ). The length of the dotted line gives the probability of the $y_2=0.5$ being drawn from $N(μ=1,σ^2=1)$.\n",
    "\n",
    "<img src=\"images/toy-eg.png\"  width=\"400\">\n",
    "\n",
    "The likelihood of data $(y_1,y_2,y_3)$ having been drawn from $N(μ=1,σ62=1)$, is given by,\n",
    "\n",
    "### $P(y_1,y_2,y_3|θ=1) = P(y_1|θ=1)P(y_2|θ=1)P(y_3|θ=1)$\n",
    "\n",
    "The individual probabilities in the equation above, are equal to the heights of corresponding dotted lines in the figure. \n",
    "\n",
    " - We see that the likelihood, given by the product of individual probabilities of data points given model, is basically the product of lengths of dotted lines. \n",
    " \n",
    "It is obvious that the likelihood of model θ=1 is higher. We choose the model (θ=1), that maximizes the likelihood.\n"
   ]
  },
  {
   "cell_type": "markdown",
   "metadata": {},
   "source": [
    "### Linear Regression\n",
    "\n",
    "We are ready to apply MLE to linear regression, where the objective is to find the best line that fits the data points. But first, let us make some assumptions. We assume each label, $y_i$, is gaussian distributed with mean, $x_i^Tθ$ and variance, $σ^2$, given by\n",
    "\n",
    "<img src=\"images/reg.png\"  width=\"300\">\n",
    "\n",
    "The mean, $x_i^Tθ$ represents the best fit line. The data points will vary about the line, and the second term, captures this variance, $N(0,σ^2)$\n",
    "\n",
    "<img src=\"images/lr1.png\"  width=\"600\">\n",
    "\n"
   ]
  },
  {
   "cell_type": "markdown",
   "metadata": {},
   "source": [
    "### Estimation\n",
    "\n",
    "If we assume that each point $y_i$ is gaussian distributed, the process of estimation becomes the process of maximizing the product of the individual probabilities, which is equivalent to maximizing the log likelihood. We switch to log space, as it is more convenient and it removes the exponential in the gaussian distribution.\n",
    "\n",
    "\n",
    "<img src=\"images/lr2.png\"  width=\"600\">\n",
    "\n",
    "As the data points are independent, we can write the joint probability distribution of $y,θ,σ$ as,\n",
    "\n",
    "<img src=\"images/ml1.png\"  width=\"500\">\n",
    "\n",
    "\n"
   ]
  },
  {
   "cell_type": "markdown",
   "metadata": {},
   "source": [
    "rewriting in matrix form,\n",
    "\n",
    "<img src=\"images/ml2.png\"  width=\"400\">\n",
    "\n"
   ]
  },
  {
   "cell_type": "markdown",
   "metadata": {},
   "source": [
    "Log likelihood,\n",
    "\n",
    "<img src=\"images/ml3.png\"  width=\"400\">\n",
    "\n"
   ]
  },
  {
   "cell_type": "markdown",
   "metadata": {},
   "source": [
    "The first term is a constant and the second term is a parabola, the peak (maxima) of which can be found by equating the derivative of $l(θ)$ to zero. Equating first derivative to zero, we get,\n",
    "\n",
    "<img src=\"images/ml4.png\"  width=\"350\">\n",
    "\n"
   ]
  },
  {
   "cell_type": "markdown",
   "metadata": {},
   "source": [
    "we get,\n",
    "\n",
    "<img src=\"images/ml5.png\"  width=\"200\">\n",
    "\n",
    "Finally, we reach our goal of finding the best model for linear regression. This equation is commonly known as the normal equation. The same equation can be derived using the least squares method."
   ]
  },
  {
   "cell_type": "markdown",
   "metadata": {},
   "source": [
    "### Showcase:  Maximum likelihood estimation to fit a linear (polynomial) model to some data points\n"
   ]
  },
  {
   "cell_type": "code",
   "execution_count": 3,
   "metadata": {},
   "outputs": [],
   "source": [
    "import numpy as np\n",
    "import math\n",
    "\n",
    "x = np.linspace(0.0,10.0, num=100)\n",
    "a = 4.0\n",
    "b = -3.5\n",
    "c = 0.0\n",
    "y = (a*(x**2)) + (b*x) + c\n",
    "\n",
    "#   let's add noise to the data\n",
    "#   np.random.normal(mean, standardDeviation, num)\n",
    "noise = np.random.normal(0, 10., 100)\n",
    "y = y+noise"
   ]
  },
  {
   "cell_type": "code",
   "execution_count": 28,
   "metadata": {},
   "outputs": [
    {
     "data": {
      "image/png": "[encoded data removed]",
      "text/plain": [
       "<Figure size 432x288 with 1 Axes>"
      ]
     },
     "metadata": {
      "needs_background": "light"
     },
     "output_type": "display_data"
    },
    {
     "data": {
      "text/plain": [
       "<Figure size 432x288 with 0 Axes>"
      ]
     },
     "metadata": {},
     "output_type": "display_data"
    }
   ],
   "source": [
    "#   plot my data\n",
    "%matplotlib inline\n",
    "import matplotlib.pyplot as plt\n",
    "plt.figure()\n",
    "plt.plot(x,y, 'ok')\n",
    "plt.grid(True)\n",
    "plt.show()\n",
    "plt.savefig('myData.png', dpi=300, type='png')"
   ]
  },
  {
   "cell_type": "code",
   "execution_count": 29,
   "metadata": {},
   "outputs": [],
   "source": [
    "#   define a function to calculate the log likiehood\n",
    "def calcLogLikelihood(guess, true, n):\n",
    "    error = true-guess\n",
    "    sigma = np.std(error)\n",
    "    f = ((1.0/(2.0*math.pi*sigma*sigma))**(n/2))* \\\n",
    "        np.exp(-1*((np.dot(error.T,error))/(2*sigma*sigma)))\n",
    "    return np.log(f)"
   ]
  },
  {
   "cell_type": "code",
   "execution_count": 30,
   "metadata": {},
   "outputs": [],
   "source": [
    "#   define my function which will return the objective function to be minimized\n",
    "def myFunction(var):\n",
    "    yGuess = (var[2]*(x**2)) + (var[1]*x) + var[0]\n",
    "    f = calcLogLikelihood(yGuess, y, float(len(yGuess)))\n",
    "    return (-1*f)"
   ]
  },
  {
   "cell_type": "code",
   "execution_count": 31,
   "metadata": {},
   "outputs": [],
   "source": [
    "#    Let's pick some random starting points for the optimizaiton    \n",
    "nvar = 3\n",
    "var = np.zeros(nvar)\n",
    "var[0] = -1\n",
    "var[1] = 1.5\n",
    "var[2] = -1.0"
   ]
  },
  {
   "cell_type": "code",
   "execution_count": 32,
   "metadata": {},
   "outputs": [
    {
     "name": "stdout",
     "output_type": "stream",
     "text": [
      "Optimization terminated successfully.\n",
      "         Current function value: 380.089609\n",
      "         Iterations: 14\n",
      "         Function evaluations: 130\n",
      "         Gradient evaluations: 26\n"
     ]
    }
   ],
   "source": [
    "#   let's maximize the liklihood (minimize -1*max(likelihood)\n",
    "#   In numerical optimization, the Broyden–Fletcher–Goldfarb–Shanno (BFGS) algorithm\n",
    "#   is an iterative method for solving unconstrained nonlinear optimization problems.\n",
    "\n",
    "from scipy.optimize import minimize\n",
    "res = minimize(myFunction, var, method='BFGS',\n",
    "                options={'disp': True})"
   ]
  },
  {
   "cell_type": "code",
   "execution_count": 33,
   "metadata": {},
   "outputs": [
    {
     "data": {
      "text/plain": [
       "      fun: 380.0896087488445\n",
       " hess_inv: array([[ 7.0125222 , -2.84080428,  0.23827251],\n",
       "       [-2.84080428,  1.71106895, -0.16597606],\n",
       "       [ 0.23827251, -0.16597606,  0.01730676]])\n",
       "      jac: array([0.00000000e+00, 0.00000000e+00, 7.62939453e-06])\n",
       "  message: 'Optimization terminated successfully.'\n",
       "     nfev: 130\n",
       "      nit: 14\n",
       "     njev: 26\n",
       "   status: 0\n",
       "  success: True\n",
       "        x: array([-1.41118235, -3.24773431,  4.00964233])"
      ]
     },
     "execution_count": 33,
     "metadata": {},
     "output_type": "execute_result"
    }
   ],
   "source": [
    "res"
   ]
  },
  {
   "cell_type": "code",
   "execution_count": 17,
   "metadata": {},
   "outputs": [],
   "source": [
    "#   pefrom least squres fit using scikitlearn\n",
    "from sklearn.preprocessing import PolynomialFeatures\n",
    "from sklearn.linear_model import LinearRegression\n",
    "from sklearn.pipeline import Pipeline\n",
    "model = Pipeline([('poly', PolynomialFeatures(degree=2)),\n",
    "    ('linear', LinearRegression(fit_intercept=False))])\n",
    "\n",
    "model = model.fit(x[:, np.newaxis], y)\n",
    "coefs = model.named_steps['linear'].coef_"
   ]
  },
  {
   "cell_type": "code",
   "execution_count": 18,
   "metadata": {},
   "outputs": [
    {
     "data": {
      "text/plain": [
       "array([-0.09796836, -3.25735478,  3.95873605])"
      ]
     },
     "execution_count": 18,
     "metadata": {},
     "output_type": "execute_result"
    }
   ],
   "source": [
    "coefs"
   ]
  },
  {
   "cell_type": "code",
   "execution_count": 13,
   "metadata": {},
   "outputs": [
    {
     "data": {
      "image/png": "[encoded data removed]",
      "text/plain": [
       "<Figure size 432x288 with 1 Axes>"
      ]
     },
     "metadata": {
      "needs_background": "light"
     },
     "output_type": "display_data"
    },
    {
     "data": {
      "text/plain": [
       "<Figure size 432x288 with 0 Axes>"
      ]
     },
     "metadata": {},
     "output_type": "display_data"
    }
   ],
   "source": [
    "#   plot the data and model fits\n",
    "plt.figure()\n",
    "plt.plot(x,y, 'ok')\n",
    "plt.plot(x,model.predict(x[:,np.newaxis]), '-r', label='Least Squres')\n",
    "plt.plot(x,(res.x[2]*(x**2)) + (res.x[1]*x) + res.x[0], '--b', label='Max Likelihood')\n",
    "plt.grid(True)\n",
    "plt.legend(loc=2)\n",
    "plt.show()\n",
    "plt.savefig('maxLikelihoodComp.png', dpi=300, type='png')"
   ]
  }
 ],
 "metadata": {
  "kernelspec": {
   "display_name": "Python 3 (ipykernel)",
   "language": "python",
   "name": "python3"
  },
  "language_info": {
   "codemirror_mode": {
    "name": "ipython",
    "version": 3
   },
   "file_extension": ".py",
   "mimetype": "text/x-python",
   "name": "python",
   "nbconvert_exporter": "python",
   "pygments_lexer": "ipython3",
   "version": "3.10.0"
  }
 },
 "nbformat": 4,
 "nbformat_minor": 2
}
