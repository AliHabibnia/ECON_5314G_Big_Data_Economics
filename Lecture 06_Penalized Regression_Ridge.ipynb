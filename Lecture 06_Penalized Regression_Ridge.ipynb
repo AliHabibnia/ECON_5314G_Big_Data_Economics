{
 "cells": [
  {
   "cell_type": "markdown",
   "metadata": {},
   "source": [
    "## <center><font color=navy>Big Data Economics</font></center>\n",
    "### <center>Penalized Regression - Ridge Regression</center>\n",
    "#### <center>Ali Habibnia</center>\n",
    "\n",
    "    \n",
    "<center> Assistant Professor, Department of Economics, </center>\n",
    "<center> and Division of Computational Modeling & Data Analytics at Virginia Tech</center>\n",
    "<center> habibnia@vt.edu </center> "
   ]
  },
  {
   "cell_type": "markdown",
   "metadata": {},
   "source": [
    "<div class=\"alert alert-block alert-info\">\n",
    "\n",
    "### <center>Penalized regression (a.k.a. shrinkage/regularization methods)</center>\n",
    "\n",
    "Instead of solving the classic normal equation or using statistical tests for variable/model selection, penalized regression minimizes **constrained objective functions** to find the best set of regression parameters for a given data set. Typically, this is a set of parameters that model a linear relationship but also satisfy certain penalties for assigning **correlated** or **meaningless** variables to large regression coefficients.\n",
    "\n",
    "<img src=\"images/penalize.jpg\"  width=\"500\">\n",
    "\n",
    "\n",
    "> In this notebook we’ll describe the most commonly used penalized regression methods, including ridge regression, lasso regression and elastic net regression. \n",
    "</div>\n",
    "\n",
    "\n"
   ]
  },
  {
   "cell_type": "markdown",
   "metadata": {},
   "source": [
    "### Readings:\n",
    "\n",
    "1. ***Chapter 5.2  - 6.5,*** Graham Elliott, and Allan Timmermann, Economic Forecasting, Princeton University Press, 2016.\n",
    "2. ***Chapter 3.4,*** [The Elements of Statistical Learning: Data Mining, Inference, and Prediction](https://web.stanford.edu/~hastie/ElemStatLearn/printings/ESLII_print12.pdf). \n",
    "3. [Bayesian Interpretations of Regularization](https://www.mit.edu/~9.520/spring09/Classes/class15-bayes.pdf)"
   ]
  },
  {
   "cell_type": "markdown",
   "metadata": {},
   "source": [
    "### Goals\n",
    "\n",
    "- The standard linear model performs poorly in a situation, where you have a large multivariate data set containing a number of variables superior to the number of samples, $p>>n$.\n",
    "\n",
    "- A better alternative is the penalized regression allowing to create a linear regression model that is penalized, for having too many variables in the model, by adding a constraint in the equation. \n",
    "\n",
    "- The consequence of imposing this penalty, is to reduce (i.e. shrink) the coefficient values towards zero. This allows the less contributive variables to have a coefficient close to zero (or equal zero in LASSO).\n"
   ]
  },
  {
   "cell_type": "markdown",
   "metadata": {},
   "source": [
    "### Bias-Variance Trade-Off in Multiple Regression"
   ]
  },
  {
   "cell_type": "markdown",
   "metadata": {},
   "source": [
    "<center>  $  y = X\\beta + \\varepsilon $   </center>\n",
    "<br>\n",
    "<center>  $\\varepsilon \\sim N(0,\\sigma^2) $   </center>\n",
    "<br>\n",
    "<center>  $  L_{OLS}(\\hat\\beta) = \\sum_{i=1}^n (y_i - x_i' \\hat\\beta)^2 = ||y-X'\\beta||^2$   </center>\n",
    "<br>\n",
    "<center>  $\\hat\\beta_{OLS} = (X′X)^{−1}(X′Y) $   </center>\n",
    "\n",
    "> In statistics, there are two critical characteristics of estimators to be considered: the **bias** and the **variance**. \n",
    "\n",
    "The bias is the difference between the true population parameter and the expected estimator:\n",
    "\n",
    "<br>\n",
    "<center>  $Bias (\\hat\\beta_{OLS}) = E(\\hat\\beta_{OLS}) - \\beta $   </center>\n",
    "\n",
    "It measures the accuracy of the estimates. Variance, on the other hand, measures the spread, or uncertainty, in these estimates. It is given by\n",
    "\n",
    "<br>\n",
    "<center>  $Var (\\hat\\beta_{OLS}) = \\sigma^2(X′X)^{−1} $   </center>\n",
    "\n",
    "where the unknown error variance σ2 can be estimated from the residuals as\n",
    "\n",
    "<center>  $\\sigma^2 = \\frac{\\varepsilon' \\varepsilon}{n-p} $   </center>\n",
    "\n",
    "> #### Both the bias and the variance are desired to be low, as large values result in poor predictions from the model. \n"
   ]
  },
  {
   "cell_type": "markdown",
   "metadata": {},
   "source": [
    "<img src=\"images/tradeoff.jpg\"  width=\"400\">\n",
    "\n",
    "This graphic illustrates what bias and variance are. Imagine the bull's-eye is the true population parameter that we are estimating, $\\beta$, and the shots at it are the values of our estimates resulting from four different estimators - low bias and variance, high bias and variance, and the combinations thereof.\n",
    "\n"
   ]
  },
  {
   "cell_type": "markdown",
   "metadata": {},
   "source": [
    "The model's error can be decomposed into three parts: \n",
    "1. error resulting from a large variance\n",
    "2. error resulting from significant bias\n",
    "3. the remainder - the unexplainable part\n",
    "\n",
    "<br>\n",
    "<center>  $E(\\varepsilon) = Bias^2 + Variance + \\sigma^2 $   </center>\n",
    "\n",
    "<br>\n",
    "<center>  $E(\\varepsilon) = (E(X\\hat\\beta) - X\\beta)^2 + E(X\\hat\\beta - E(X\\hat\\beta))^2 + \\sigma^2\n",
    "$   </center>"
   ]
  },
  {
   "cell_type": "markdown",
   "metadata": {},
   "source": [
    "#### Proof\n",
    "\n",
    "MSE is an unbiased estimator of $\\sigma^2$ and the mean squared error of an estimator\n",
    "\n",
    "<br>\n",
    "<center>  $MSE (\\hat\\theta) = E([\\hat\\theta - \\theta]^2) $   </center>\n",
    "\n",
    "<br>\n",
    "Can be re-expressed\n",
    "\n",
    "<img src=\"images/mse.png\"  width=\"500\">\n",
    "\n",
    "\n",
    "\n"
   ]
  },
  {
   "cell_type": "markdown",
   "metadata": {},
   "source": [
    "The OLS estimator has the desired property of being unbiased. However, it can have a huge variance. Specifically, this happens when:\n",
    "\n",
    "1. The predictor variables are highly correlated with each other;\n",
    "2. There are many predictors. This is reflected in the formula for variance given above: if $p$ approaches $n$, the variance approaches infinity.\n",
    "\n",
    "> The general solution to this is: reduce variance at the cost of introducing some bias. This approach is called regularization and is almost always beneficial for the predictive performance of the model. "
   ]
  },
  {
   "cell_type": "markdown",
   "metadata": {},
   "source": [
    "<img src=\"images/tradeoff2.png\"  width=\"600\">\n",
    "\n",
    "As the model complexity, which in the case of linear regression can be thought of as the number of predictors, increases, estimates' variance also increases, but the bias decreases. The unbiased OLS would place us on the right-hand side of the picture, which is far from optimal. That's why we regularize: to lower the variance at the cost of some bias, thus moving left on the plot, towards the optimum."
   ]
  },
  {
   "cell_type": "markdown",
   "metadata": {},
   "source": [
    "### Ridge Regression  (L-2 norm or Tikhonov regularization)\n",
    "#### Ridge regression shrinks the regression coefficients, so that variables, with minor contribution to the outcome, have their coefficients close to zero."
   ]
  },
  {
   "cell_type": "markdown",
   "metadata": {},
   "source": [
    "- We would like to decrease the model complexity, that is the number of predictors. \n",
    "- We could use the forward or backward selection for this, but that way we would not be able to tell anything about the removed variables' effect on the response. \n",
    "- Removing predictors from the model can be seen as settings their coefficients to zero. \n",
    "- Instead of forcing them to be exactly zero, let's penalize them if they are too far from zero, thus enforcing them to be small in a continuous way. \n",
    "- Ridge regression penalizes the size of the regression coefficients.\n",
    "- This way, we decrease model complexity while keeping all variables in the model. This, basically, is what Ridge Regression does.\n",
    "\n",
    "#### Model Specification\n",
    "\n",
    "In Ridge Regression, the OLS loss function is augmented in such a way that we not only minimize the sum of squared residuals but also penalize the size of parameter estimates, in order to shrink them towards zero. The shrinkage of the coefficients is achieved by penalizing the regression model with a penalty term called **L2-norm**, which is equivalent to square of the magnitude of the coefficients.\n",
    "\n",
    "<br>\n",
    "<center>  $L_{ridge}(\\hat\\beta) = \\sum_{I=1}^n(y_i-x_i’\\hat\\beta)^2 + \\lambda \\sum_{j=1}^p\\hat\\beta^2 = ||y-X\\hat\\beta||^2 + ||\\hat\\beta||^2$   </center>\n",
    "\n",
    "Remember that we can formulate and solve constrained optimization problems by using Lagrange multipliers (a good review of Lagrange multipliers without permanent scarring [here](http://www.cs.berkeley.edu/~klein/papers/lagrange-multipliers.pdf)).\n",
    "\n",
    "This is equivalent to saying minimizing the loss/cost function under the condition as below\n",
    "\n",
    "<br>\n",
    "<center>  for some $~ C > 0, ~~ \\sum_{j=1}^p\\hat\\beta^2< C$ </center>\n",
    "\n",
    "The idea is to impose a constraint on the size of our parameters which can be modified or tuned through cross-validation. This constraint (or bias) is an additional variable that we control. The Lagrange multiplier $\\lambda$, or tuning parameter $C$ controls the degree to which the coefficients are restricted. "
   ]
  },
  {
   "cell_type": "markdown",
   "metadata": {},
   "source": [
    "<img src=\"images/ridgelasso.png\"  width=\"600\">\n",
    "\n",
    "- Using the constraints for the coefficients of Ridge and Lasso regression, we can plot the figure. \n",
    "\n",
    "- We will assume a hypothetical data-set with only two features.\n",
    "\n",
    "- The elliptical contours are the cost function of linear regression. Now if we have relaxed conditions on the coefficients, then the constrained regions can get bigger and eventually they will hit the centre of the ellipse. This is the case when Ridge and Lasso regression resembles linear regression results. \n",
    "\n",
    "<img src=\"images/stable.png\"  width=\"600\">\n",
    "\n",
    "- When using OLS, the estimates provided can often create a ridge in parameter space — the plane in the graph above where many different values on this space can do as well, or nearly as well, as the estimate provided.\n",
    "\n",
    "- By adding a penalty or tuning factor, the OLS parameter space can be lifted up the thing that ridge causing a better estimate. It’s not guaranteed for a better estimate, but it can be helpful to explore when looking at additional regression techniques.\n",
    "\n",
    "- As well, using a ridge regression method helps reduce the multicollinearity of endogenous variables in models. Multicollinearity creates inaccurate estimates of the regression coefficients."
   ]
  },
  {
   "cell_type": "markdown",
   "metadata": {},
   "source": [
    "Differentiating with respect to $\\beta$ gives a system of equations. Setting these equations to zero and solving for the estimates which minimize the function is straightforward. It gives the ridge regression estimates $\\hat\\beta_{ridge} = (x'x+\\lambda I)^{-1}(x'y)$\n",
    ", where $I$ denotes the identity matrix.\n",
    "\n",
    "**Theorem:** For any design matrix/model matrix/regressor matrix X, the quantity $(x'x+\\lambda I)$ is always invertible; thus, there is always a unique solution\n",
    "\n",
    "> Note that, the shrinkage requires the selection of a tuning parameter (lambda) that determines the amount of shrinkage.\n",
    "\n",
    "The $\\lambda$ parameter is the regularization penalty. So, setting $\\lambda$ to 0 is the same as using the OLS, while the larger its value, the stronger is the coefficients' size penalized.\n",
    "\n"
   ]
  },
  {
   "cell_type": "code",
   "execution_count": 1,
   "metadata": {},
   "outputs": [],
   "source": [
    "# Ridge regression from scratch with numpy\n",
    "\n",
    "import numpy as np\n",
    "\n",
    "def ridge_regression(x_train, y_train, lam):\n",
    "    \n",
    "    X = np.array(x_train)\n",
    "    ones = np.ones(len(X))\n",
    "    X = np.column_stack((ones,X))\n",
    "    y = np.array(y_train)\n",
    "    \n",
    "    Xt = np.transpose(X)\n",
    "    lambda_identity = lam*np.identity(len(Xt))\n",
    "    theInverse = np.linalg.inv(np.dot(Xt, X)+lambda_identity)\n",
    "    B = np.dot(np.dot(theInverse, Xt), y)\n",
    "    y_hat = np.dot(x,B)\n",
    "    return B, y_hat\n"
   ]
  },
  {
   "cell_type": "markdown",
   "metadata": {},
   "source": [
    "<div class=\"alert alert-block alert-info\">\n",
    "We can also solve for the vector $\\beta$ numerically by using a gradient search method like gradient descent or stochastic gradient descent. In this case, we use an algorithm iteratively decrease or ‘descend’ the values of the gradient to hit the minimum until some threshold or number of iterations is met.\n",
    "</div>"
   ]
  },
  {
   "cell_type": "markdown",
   "metadata": {},
   "source": [
    "#### Bias-Variance Trade-Off in Ridge Regression\n",
    "\n",
    "Incorporating the regularization coefficient in the formulas for bias and variance gives us\n",
    "\n",
    "<img src=\"images/ridge1.png\"  width=\"350\">\n",
    "\n",
    "It can be shown that the total variance is a monotone decreasing sequence with respect to $\\lambda$, while the total squared bias is a monotone increasing sequence with respect to $\\lambda$.\n",
    "\n",
    "> This poses the question: how much bias are we willing to accept in order to decrease the variance? Or: what is the optimal value for $\\lambda$?"
   ]
  },
  {
   "cell_type": "markdown",
   "metadata": {},
   "source": [
    "**Existence Theorem:** There always exists a $\\lambda$ such that the MSE of $\\hat\\beta_{ridge}^\\lambda$ is less than the MSE of  $\\hat\\beta_{OLS}$\n",
    "\n",
    "One disadvantage of the ridge regression is that, it will include all the predictors in the final model, unlike the stepwise regression methods, which will generally select models that involve a reduced set of variables.\n",
    "\n",
    "Ridge regression shrinks the coefficients towards zero, but it will not set any of them exactly to zero. The lasso regression is an alternative that overcomes this drawback."
   ]
  },
  {
   "cell_type": "markdown",
   "metadata": {},
   "source": [
    "#### Choice of Regularization Parameter\n",
    "\n",
    "There are two ways we could tackle this issue. \n",
    "\n",
    "1. A more traditional approach would be to choose λ such that some information criterion, e.g., AIC or BIC, is the smallest.\n",
    "\n",
    "    - Information criteria are a common way of choosing among models while balancing the competing goals of fit and parsimony.\n",
    "\n",
    "    - This approach boils down to estimating the model with many different values for λ and choosing the one that minimizes the Akaike or Bayesian Information Criterion.\n",
    "    \n",
    "\n",
    "2. A more machine learning-like approach is to perform cross-validation and select the value of λ that minimizes the cross-validated sum of squared residuals (or some other measure). The former approach emphasizes the model's fit to the data, while the latter is more focused on its predictive performance. \n",
    "\n",
    "    - To choose λ through cross-validation, you should choose a set of p different values of λ to test, split the dataset into K folds, and follow this algorithm:\n",
    "\n",
    "<img src=\"images/cv.png\"  width=\"400\">\n",
    "\n",
    "<img src=\"images/cv2.jpg\"  width=\"400\">\n",
    "\n",
    "\n",
    "\n"
   ]
  },
  {
   "cell_type": "markdown",
   "metadata": {},
   "source": [
    "> One more thing: ridge regression assumes the predictors are standardized and the response is centered!\n",
    "\n",
    "This scaling ensures that the penalty term penalizes each coefficient equally. If the predictors are not standardized, their standard deviations are not all equal to one, and it can be shown with some math that the unstandardized coefficients are then weighted by the inverse of the standard deviations of their corresponding predictors."
   ]
  },
  {
   "cell_type": "markdown",
   "metadata": {},
   "source": [
    "### Example: Ridge Regression on Boston Housing Dataset"
   ]
  },
  {
   "cell_type": "markdown",
   "metadata": {},
   "source": [
    "Let's see how the these shrinkage models work with the Housing dataset.\n",
    "\n",
    "Here is some description of our data:\n",
    "\n",
    "    * CRIM - per capita crime rate by town\n",
    "    * ZN - proportion of residential land zoned for lots over 25,000 sq.ft.\n",
    "    * INDUS - proportion of non-retail business acres per town.\n",
    "    * CHAS - Charles River dummy variable (1 if tract bounds river; 0 otherwise)\n",
    "    * NOX - nitric oxides concentration (parts per 10 million)\n",
    "    * RM - average number of rooms per dwelling\n",
    "    * AGE - proportion of owner-occupied units built prior to 1940\n",
    "    * DIS - weighted distances to five Boston employment centres\n",
    "    * RAD - index of accessibility to radial highways\n",
    "    * TAX - full-value property-tax rate per 10,000 dollars\n",
    "    * PTRATIO - pupil-teacher ratio by town\n",
    "    * B - 1000(Bk - 0.63)^2 where Bk is the proportion of blacks by town\n",
    "    * LSTAT - percent lower status of the population\n",
    "    * MEDV(TARGET) - Median value of owner-occupied homes in $1000's\n",
    "\n"
   ]
  },
  {
   "cell_type": "code",
   "execution_count": 2,
   "metadata": {},
   "outputs": [],
   "source": [
    "# dataframe and plot\n",
    "import numpy as np\n",
    "import pandas as pd\n",
    "import matplotlib.pyplot as plt\n",
    "import matplotlib.ticker as ticker\n",
    "\n",
    "# dataset\n",
    "from sklearn.datasets import load_boston\n",
    "# scaling and dataset split\n",
    "from sklearn import preprocessing\n",
    "from sklearn.model_selection import train_test_split\n",
    "# OLS, Ridge\n",
    "from sklearn.linear_model import LinearRegression, Ridge\n",
    "# model evaluation\n",
    "from sklearn.metrics import r2_score, mean_squared_error"
   ]
  },
  {
   "cell_type": "markdown",
   "metadata": {},
   "source": [
    "Now the dataset is loaded, subsequently, the features should be standardized. Since ridge regression shrinks coefficients by penalizing, the features should be scaled for start condition to be fair."
   ]
  },
  {
   "cell_type": "code",
   "execution_count": 3,
   "metadata": {},
   "outputs": [
    {
     "name": "stderr",
     "output_type": "stream",
     "text": [
      "C:\\Users\\habibnia\\AppData\\Local\\Programs\\Python\\Python39\\lib\\site-packages\\sklearn\\utils\\deprecation.py:87: FutureWarning: Function load_boston is deprecated; `load_boston` is deprecated in 1.0 and will be removed in 1.2.\n",
      "\n",
      "    The Boston housing prices dataset has an ethical problem. You can refer to\n",
      "    the documentation of this function for further details.\n",
      "\n",
      "    The scikit-learn maintainers therefore strongly discourage the use of this\n",
      "    dataset unless the purpose of the code is to study and educate about\n",
      "    ethical issues in data science and machine learning.\n",
      "\n",
      "    In this case special case, you can fetch the dataset from the original\n",
      "    source::\n",
      "\n",
      "        import pandas as pd\n",
      "        import numpy as np\n",
      "\n",
      "\n",
      "        data_url = \"http://lib.stat.cmu.edu/datasets/boston\"\n",
      "        raw_df = pd.read_csv(data_url, sep=\"\\s+\", skiprows=22, header=None)\n",
      "        data = np.hstack([raw_df.values[::2, :], raw_df.values[1::2, :2]])\n",
      "        target = raw_df.values[1::2, 2]\n",
      "\n",
      "    Alternative datasets include the California housing dataset (i.e.\n",
      "    func:`~sklearn.datasets.fetch_california_housing`) and the Ames housing\n",
      "    dataset. You can load the datasets as follows:\n",
      "\n",
      "        from sklearn.datasets import fetch_california_housing\n",
      "        housing = fetch_california_housing()\n",
      "\n",
      "    for the California housing dataset and:\n",
      "\n",
      "        from sklearn.datasets import fetch_openml\n",
      "        housing = fetch_openml(name=\"house_prices\", as_frame=True)\n",
      "\n",
      "    for the Ames housing dataset.\n",
      "    \n",
      "  warnings.warn(msg, category=FutureWarning)\n"
     ]
    },
    {
     "data": {
      "text/html": [
       "<div>\n",
       "<style scoped>\n",
       "    .dataframe tbody tr th:only-of-type {\n",
       "        vertical-align: middle;\n",
       "    }\n",
       "\n",
       "    .dataframe tbody tr th {\n",
       "        vertical-align: top;\n",
       "    }\n",
       "\n",
       "    .dataframe thead th {\n",
       "        text-align: right;\n",
       "    }\n",
       "</style>\n",
       "<table border=\"1\" class=\"dataframe\">\n",
       "  <thead>\n",
       "    <tr style=\"text-align: right;\">\n",
       "      <th></th>\n",
       "      <th>CRIM</th>\n",
       "      <th>ZN</th>\n",
       "      <th>INDUS</th>\n",
       "      <th>CHAS</th>\n",
       "      <th>NOX</th>\n",
       "      <th>RM</th>\n",
       "      <th>AGE</th>\n",
       "      <th>DIS</th>\n",
       "      <th>RAD</th>\n",
       "      <th>TAX</th>\n",
       "      <th>PTRATIO</th>\n",
       "      <th>B</th>\n",
       "      <th>LSTAT</th>\n",
       "      <th>PRICE</th>\n",
       "    </tr>\n",
       "  </thead>\n",
       "  <tbody>\n",
       "    <tr>\n",
       "      <th>0</th>\n",
       "      <td>0.00632</td>\n",
       "      <td>18.0</td>\n",
       "      <td>2.31</td>\n",
       "      <td>0.0</td>\n",
       "      <td>0.538</td>\n",
       "      <td>6.575</td>\n",
       "      <td>65.2</td>\n",
       "      <td>4.0900</td>\n",
       "      <td>1.0</td>\n",
       "      <td>296.0</td>\n",
       "      <td>15.3</td>\n",
       "      <td>396.90</td>\n",
       "      <td>4.98</td>\n",
       "      <td>24.0</td>\n",
       "    </tr>\n",
       "    <tr>\n",
       "      <th>1</th>\n",
       "      <td>0.02731</td>\n",
       "      <td>0.0</td>\n",
       "      <td>7.07</td>\n",
       "      <td>0.0</td>\n",
       "      <td>0.469</td>\n",
       "      <td>6.421</td>\n",
       "      <td>78.9</td>\n",
       "      <td>4.9671</td>\n",
       "      <td>2.0</td>\n",
       "      <td>242.0</td>\n",
       "      <td>17.8</td>\n",
       "      <td>396.90</td>\n",
       "      <td>9.14</td>\n",
       "      <td>21.6</td>\n",
       "    </tr>\n",
       "    <tr>\n",
       "      <th>2</th>\n",
       "      <td>0.02729</td>\n",
       "      <td>0.0</td>\n",
       "      <td>7.07</td>\n",
       "      <td>0.0</td>\n",
       "      <td>0.469</td>\n",
       "      <td>7.185</td>\n",
       "      <td>61.1</td>\n",
       "      <td>4.9671</td>\n",
       "      <td>2.0</td>\n",
       "      <td>242.0</td>\n",
       "      <td>17.8</td>\n",
       "      <td>392.83</td>\n",
       "      <td>4.03</td>\n",
       "      <td>34.7</td>\n",
       "    </tr>\n",
       "    <tr>\n",
       "      <th>3</th>\n",
       "      <td>0.03237</td>\n",
       "      <td>0.0</td>\n",
       "      <td>2.18</td>\n",
       "      <td>0.0</td>\n",
       "      <td>0.458</td>\n",
       "      <td>6.998</td>\n",
       "      <td>45.8</td>\n",
       "      <td>6.0622</td>\n",
       "      <td>3.0</td>\n",
       "      <td>222.0</td>\n",
       "      <td>18.7</td>\n",
       "      <td>394.63</td>\n",
       "      <td>2.94</td>\n",
       "      <td>33.4</td>\n",
       "    </tr>\n",
       "    <tr>\n",
       "      <th>4</th>\n",
       "      <td>0.06905</td>\n",
       "      <td>0.0</td>\n",
       "      <td>2.18</td>\n",
       "      <td>0.0</td>\n",
       "      <td>0.458</td>\n",
       "      <td>7.147</td>\n",
       "      <td>54.2</td>\n",
       "      <td>6.0622</td>\n",
       "      <td>3.0</td>\n",
       "      <td>222.0</td>\n",
       "      <td>18.7</td>\n",
       "      <td>396.90</td>\n",
       "      <td>5.33</td>\n",
       "      <td>36.2</td>\n",
       "    </tr>\n",
       "  </tbody>\n",
       "</table>\n",
       "</div>"
      ],
      "text/plain": [
       "      CRIM    ZN  INDUS  CHAS    NOX     RM   AGE     DIS  RAD    TAX  \\\n",
       "0  0.00632  18.0   2.31   0.0  0.538  6.575  65.2  4.0900  1.0  296.0   \n",
       "1  0.02731   0.0   7.07   0.0  0.469  6.421  78.9  4.9671  2.0  242.0   \n",
       "2  0.02729   0.0   7.07   0.0  0.469  7.185  61.1  4.9671  2.0  242.0   \n",
       "3  0.03237   0.0   2.18   0.0  0.458  6.998  45.8  6.0622  3.0  222.0   \n",
       "4  0.06905   0.0   2.18   0.0  0.458  7.147  54.2  6.0622  3.0  222.0   \n",
       "\n",
       "   PTRATIO       B  LSTAT  PRICE  \n",
       "0     15.3  396.90   4.98   24.0  \n",
       "1     17.8  396.90   9.14   21.6  \n",
       "2     17.8  392.83   4.03   34.7  \n",
       "3     18.7  394.63   2.94   33.4  \n",
       "4     18.7  396.90   5.33   36.2  "
      ]
     },
     "execution_count": 3,
     "metadata": {},
     "output_type": "execute_result"
    }
   ],
   "source": [
    "# load dataset\n",
    "house_price = load_boston()\n",
    "df = pd.DataFrame(house_price.data, columns=house_price.feature_names)\n",
    "df['PRICE'] = house_price.target\n",
    "\n",
    "# standardize and train/test split\n",
    "house_price.data = preprocessing.scale(house_price.data)\n",
    "X_train, X_test, y_train, y_test = train_test_split(\n",
    "    house_price.data, house_price.target, test_size=0.3, random_state=10)\n",
    "\n",
    "df.head()"
   ]
  },
  {
   "cell_type": "markdown",
   "metadata": {},
   "source": [
    "Next, we can iterate the lambda values ranged from 0 to 199. Note that the coefficients at lambda equal to zero (x = 0) are the same with the OLS coefficients."
   ]
  },
  {
   "cell_type": "code",
   "execution_count": 11,
   "metadata": {},
   "outputs": [],
   "source": [
    "# initialize\n",
    "ridge_reg = Ridge(alpha=0) # alpha = lambda\n",
    "ridge_reg.fit(X_train, y_train)\n",
    "ridge_df = pd.DataFrame({'variable': house_price.feature_names, 'estimate': ridge_reg.coef_})\n",
    "ridge_train_pred = []\n",
    "ridge_test_pred = []\n",
    "\n",
    "# iterate lambdas\n",
    "for alpha in np.arange(0, 200, 1):\n",
    "    # training\n",
    "    ridge_reg = Ridge(alpha=alpha)\n",
    "    ridge_reg.fit(X_train, y_train)\n",
    "    var_name = 'estimate' + str(alpha)\n",
    "    ridge_df[var_name] = ridge_reg.coef_\n",
    "    # prediction\n",
    "    ridge_train_pred.append(ridge_reg.predict(X_train))\n",
    "    ridge_test_pred.append(ridge_reg.predict(X_test))\n",
    "\n",
    "\n",
    "# organize dataframe\n",
    "ridge_df = ridge_df.set_index('variable').T.rename_axis('estimate').rename_axis(None, 1).reset_index()"
   ]
  },
  {
   "cell_type": "markdown",
   "metadata": {},
   "source": [
    "Now, we can draw plot from the data frame. Only five attributes are selected for better visualization."
   ]
  },
  {
   "cell_type": "code",
   "execution_count": 7,
   "metadata": {},
   "outputs": [
    {
     "data": {
      "image/png": "[encoded data removed]",
      "text/plain": [
       "<Figure size 720x360 with 1 Axes>"
      ]
     },
     "metadata": {
      "needs_background": "light"
     },
     "output_type": "display_data"
    }
   ],
   "source": [
    "# plot betas by lambda\n",
    "fig, ax = plt.subplots(figsize=(10, 5))\n",
    "ax.plot(ridge_df.RM, 'r', ridge_df.ZN, 'g', ridge_df.RAD, 'b', ridge_df.CRIM, 'c', ridge_df.TAX, 'y')\n",
    "ax.axhline(y=0, color='black', linestyle='--')\n",
    "ax.set_xlabel(\"Lambda\")\n",
    "ax.set_ylabel(\"Beta Estimate\")\n",
    "ax.set_title(\"Ridge Regression Trace\", fontsize=16)\n",
    "ax.legend(labels=['Room','Residential Zone','Highway Access','Crime Rate','Tax'])\n",
    "ax.grid(True)"
   ]
  },
  {
   "cell_type": "markdown",
   "metadata": {},
   "source": [
    "‘Room’ should be the best indicator for house price by intuition. This is why the line in red does not quite shrink over iteration. On the contrary, ‘Highway Access’ (blue) decreases remarkably, which means the feature loses its importance as we seek more general models. If we increase the lambda more and more (extremely biased), then only ‘Room’ would stay significant, which makes sense again because the number of rooms must explain the most."
   ]
  }
 ],
 "metadata": {
  "kernelspec": {
   "display_name": "Python 3 (ipykernel)",
   "language": "python",
   "name": "python3"
  },
  "language_info": {
   "codemirror_mode": {
    "name": "ipython",
    "version": 3
   },
   "file_extension": ".py",
   "mimetype": "text/x-python",
   "name": "python",
   "nbconvert_exporter": "python",
   "pygments_lexer": "ipython3",
   "version": "3.10.0"
  }
 },
 "nbformat": 4,
 "nbformat_minor": 2
}
