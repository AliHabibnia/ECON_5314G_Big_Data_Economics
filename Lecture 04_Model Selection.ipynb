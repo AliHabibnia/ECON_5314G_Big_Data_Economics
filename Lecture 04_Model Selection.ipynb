{
 "cells": [
  {
   "cell_type": "markdown",
   "metadata": {},
   "source": [
    "## <center><font color=navy>Big Data Economics</font></center>\n",
    "### <center>Model Selection</center>\n",
    "#### <center>Ali Habibnia</center>\n",
    "\n",
    "<center> Assistant Professor, Department of Economics, </center>\n",
    "<center> and Division of Computational Modeling & Data Analytics at Virginia Tech</center>\n",
    "<center> habibnia@vt.edu </center> "
   ]
  },
  {
   "cell_type": "markdown",
   "metadata": {},
   "source": [
    "### Readings:\n",
    "\n",
    "1. ***Chapter 6,*** Graham Elliott, and Allan Timmermann, Economic Forecasting, Princeton University Press, 2016.\n",
    "2. ***Chapter 7.5 - 7.6 - 7.7,*** [The Elements of Statistical Learning: Data Mining, Inference, and Prediction](https://hastie.su.domains/ElemStatLearn/printings/ESLII_print12_toc.pdf.download.html).\n",
    "3. **Claeskens, G., & Hjort, N. L. (2008).** *Model Selection and Model Averaging.* Cambridge University Press. \n",
    "\n",
    "4. **Akaike, H. (1974).** *A New Look at the Statistical Model Identification.* IEEE Transactions on Automatic Control, 19(6), 716–723.  \n",
    "\n",
    "5. **Schwarz, G. (1978).** *Estimating the Dimension of a Model.* The Annals of Statistics, 6(2), 461–464.  \n",
    "\n",
    "6. **Burnham, K. P., & Anderson, D. R. (2002).** *Model Selection and Multimodel Inference: A Practical Information-Theoretic Approach.* Springer.  \n",
    "\n",
    "7. **Stone, M. (1977).** *An Asymptotic Equivalence of Choice of Model by Cross-Validation and Akaike's Criterion.* Journal of the Royal Statistical Society, Series B, 39(1), 44–47.  "
   ]
  },
  {
   "cell_type": "markdown",
   "metadata": {},
   "source": [
    "### Model Selection in Frequentist Econometrics\n",
    "\n",
    "This notebook explores model selection techniques within the frequentist framework, emphasizing metrics such as AIC, BIC, and adjusted \\(R^2\\) to compare competing models post-estimation. We also discuss the philosophical differences between frequentist and Bayesian approaches, and contrast the traditional statistical focus on in-sample goodness-of-fit and parameter significance with the machine learning emphasis on out-of-sample prediction accuracy via cross-validation.\n",
    "\n",
    "In empirical econometrics, selecting the appropriate model is as crucial as its estimation, particularly when dealing with high-dimensional data. With many candidate models available, a rigorous evaluation is needed to balance fit and parsimony. Overly complex models may overfit the data, capturing noise rather than signal, while overly simplistic models may omit relevant variables, leading to bias.\n",
    "\n",
    "We also briefly reflect on two philosophical frameworks in model evaluation:\n",
    "\n",
    "- **Frequentist vs. Bayesian:**\n",
    "- **Statistical Inference vs. ML Predictive Performance:**"
   ]
  },
  {
   "cell_type": "markdown",
   "metadata": {},
   "source": [
    "<div class=\"alert alert-block alert-info\">\n",
    "<center>***Frequentism vs Bayesianism***</center>\n",
    "One of the initial concepts introduced to scientists in the field of statistics is the existence of two distinct methodologies:  Frequentist and Bayesian Paradigms. The core of the debate between frequentists and Bayesians lies in their differing interpretations of what probability signifies. In our big data class, the majority of the topics will be centered around the frequentist approach. However, time permitting, we might delve into Bayesian methodologies, such as Bayesian Vector Autoregression (B-VAR).\n",
    "\n",
    "\n",
    "<img src=\"images/bayvsfre.jpg\"  width=\"600\">\n",
    "\n",
    "\n",
    "- **Frequentist Approach:**  \n",
    "  Relies on the sampling properties of estimators (e.g., consistency, efficiency) and uses criteria like AIC and BIC that are based solely on the observed likelihood and model complexity. This approach avoids the explicit use of prior distributions, focusing on the evidence provided by the data.                                      \n",
    "\n",
    "\n",
    "- **Bayesian Approach:**  \n",
    "  Incorporates prior beliefs about model parameters and computes posterior probabilities for models. Methods such as the Bayes factor provide a probabilistic framework for model comparison. Although Bayesian methods offer a coherent framework for incorporating uncertainty, they require careful specification of priors and computationally intensive procedures.\n",
    "  </div>"
   ]
  },
  {
   "cell_type": "markdown",
   "metadata": {},
   "source": [
    "### Basics of Bayesian Statistics\n",
    "\n",
    "Just as a quick reveiw, Bayesian statistics is a subset of statistics in which probability expresses a degree of belief in an event. This belief may change as new evidence is presented. Bayesian statistics uses Bayes' Theorem to update the probabilities of hypotheses as more evidence or information becomes available.\n",
    "\n",
    "#### Bayes' Theorem\n",
    "\n",
    "At the core of Bayesian inference is Bayes' Theorem, which provides a principled way to update our probability estimates for hypotheses in light of new data. The theorem is expressed as:\n",
    "\n",
    "$$\n",
    "P(A|B) = \\frac{P(B|A) \\times P(A)}{P(B)}\n",
    "$$\n",
    "\n",
    "Where:\n",
    "- $P(A|B)$ is the **posterior probability**: The updated probability of event A (hypothesis) occurring given that event B (evidence) is true.\n",
    "- $P(B|A)$ is the **likelihood**: The probability of observing event B given A is true.\n",
    "- $P(A)$ is the **prior probability**: The initial belief about the probability of event A before observing B.\n",
    "- $P(B)$ is the **evidence or marginal likelihood**: The total probability of observing event B under all possible conditions. It serves as a normalizing constant to ensure that the posterior probabilities sum to one.\n",
    "\n",
    "#### Relation to Conditional Probability\n",
    "\n",
    "Conditional probability measures the likelihood of an event given that another event has occurred. Bayes' Theorem leverages this concept by \"reversing\" the conditioning:\n",
    "\n",
    "- From $P(B|A)$, the probability of B given A, we can compute $P(A|B)$, the probability of A given B, by incorporating our prior belief about A ($P(A)$) and normalizing by the evidence ($P(B)$).\n",
    "\n",
    "This inversion is fundamental to Bayesian updating, enabling us to reassess the plausibility of a hypothesis in the light of new information.\n",
    "\n",
    "#### Applying Bayes' Theorem\n",
    "\n",
    "The process of Bayesian updating can be summarized as follows:\n",
    "\n",
    "1. Start with a prior belief (`P(A)`), which is our initial assumption or knowledge about the probability of an hypothesis.\n",
    "2. Collect evidence and calculate the likelihood (`P(B|A)`), which quantifies how probable the observed data is under the hypothesis.\n",
    "3. Use Bayes' Theorem to update the prior belief into a posterior belief (`P(A|B)`), which takes into account the new evidence.\n",
    "4. The posterior belief becomes the new prior if more evidence is to be considered, iterating the process.\n",
    "\n",
    "Bayesian statistics is particularly powerful in situations where information is updated or accumulated over time, allowing for dynamic adjustments to predictions and hypotheses.\n"
   ]
  },
  {
   "cell_type": "markdown",
   "metadata": {},
   "source": [
    "<table>\n",
    "<thead>\n",
    "<tr>\n",
    "<th style=\"text-align:center;\">Aspect</th>\n",
    "<th style=\"text-align:center;\">Frequentist Approach</th>\n",
    "<th style=\"text-align:center;\">Bayesian Approach</th>\n",
    "</tr>\n",
    "</thead>\n",
    "<tbody>\n",
    "<tr>\n",
    "<td style=\"text-align:center;\">Interpretation of Probability</td>\n",
    "<td style=\"text-align:center;\">Probability is defined as the limit of the relative frequency of an event as the number of trials goes to infinity.</td>\n",
    "<td style=\"text-align:center;\">Probability is interpreted as a measure of belief or certainty about an event.</td>\n",
    "</tr>\n",
    "<tr>\n",
    "<td style=\"text-align:center;\">Parameters</td>\n",
    "<td style=\"text-align:center;\">Parameters are considered fixed but unknown quantities that we aim to estimate.</td>\n",
    "<td style=\"text-align:center;\">Parameters are treated as random variables with their own probability distributions.</td>\n",
    "</tr>\n",
    "<tr>\n",
    "<td style=\"text-align:center;\">Inference</td>\n",
    "<td style=\"text-align:center;\">Inference is made by estimating parameters and assessing the variability of these estimates without using prior information.</td>\n",
    "<td style=\"text-align:center;\">Inference incorporates prior knowledge or beliefs, which are updated with new data through the use of Bayes' theorem.</td>\n",
    "</tr>\n",
    "<tr>\n",
    "<td style=\"text-align:center;\">Confidence vs. Credible Intervals</td>\n",
    "<td style=\"text-align:center;\">Uses confidence intervals, which, in repeated sampling, would contain the true parameter a certain percentage of the time.</td>\n",
    "<td style=\"text-align:center;\">Uses credible intervals, which represent the probability of the parameter lying within a certain range, given the data.</td>\n",
    "</tr>\n",
    "<tr>\n",
    "<td style=\"text-align:center;\">Hypothesis Testing</td>\n",
    "<td style=\"text-align:center;\">Relies on the concept of null hypothesis significance testing (NHST) and p-values to make decisions about hypotheses.</td>\n",
    "<td style=\"text-align:center;\">Focuses on comparing the probabilities of different hypotheses, using the data and prior information.</td>\n",
    "</tr>\n",
    "<tr>\n",
    "<td style=\"text-align:center;\">Decision Making</td>\n",
    "<td style=\"text-align:center;\">Decisions are often based on whether the test statistic falls within a critical region, without incorporating prior information.</td>\n",
    "<td style=\"text-align:center;\">Decisions are made based on the posterior distribution of parameters, taking into account both the data and prior beliefs.</td>\n",
    "</tr>\n",
    "<tr>\n",
    "<td style=\"text-align:center;\">Approach to Data</td>\n",
    "<td style=\"text-align:center;\">Views data as a repeatable random sample—there is a notion of long-run frequencies in repeated sampling.</td>\n",
    "<td style=\"text-align:center;\">Treats data as fixed and focuses on updating the beliefs about the parameters based on the data observed.</td>\n",
    "</tr>\n",
    "</tbody>\n",
    "</table>\n"
   ]
  },
  {
   "cell_type": "markdown",
   "metadata": {},
   "source": [
    "## Model Selection Goals\n",
    "\n",
    "- When we have many variables/predictors (with many possible interactions), it can be difficult to find a good model.\n",
    "- Which main effects do we include?\n",
    "- Which interactions do we include?\n",
    "\n",
    "> Model selection tries to answer to this questions.\n",
    "> we need:\n",
    ">- a criterion or benchmark to compare two models.\n",
    ">- a search strategy."
   ]
  },
  {
   "cell_type": "markdown",
   "metadata": {},
   "source": [
    "## Model Fitting vs Model Selection\n",
    "\n",
    "The difference between *model fitting* and *model selection* is often a cause of confusion.\n",
    "**Model fitting** proceeds by assuming a particular model is true, and tuning the model so it provides the best possible fit to the data. **Model selection** (which includes *model comparison*, and *model evaluation*) , on the other hand, asks the larger question of whether the assumptions of the model are compatible with the data.\n",
    "\n",
    "Let's make this more concrete.\n",
    "By *model* here I essentially mean a formula, usually with tunable parameters, which quantifies the likelihood of observing your data.\n",
    "For example, your model might consist of the statement, \"the $(x, y)$ observations come from a straight line, with known normal measurement errors $\\sigma_y$\".\n",
    "Labeling this model $M_1$, we can write:\n",
    "\n",
    "$$\n",
    "y_{M_1}(x;\\theta) = \\theta_0 + \\theta_1 x\\\\\n",
    "y \\sim \\mathcal{N}(y_{M_1}, \\sigma_y^2)\n",
    "$$\n",
    "\n",
    "where the second line indicates that the observed $y$ is normally distributed about the model value, with variance $\\sigma_y^2$.\n",
    "There are two tunable parameters to this model, represented by the vector $\\theta = [\\theta_0, \\theta_1]$ (i.e. the slope and intercept).\n",
    "\n",
    "Another model might consist of the statement \"the observations $(x, y)$ come from a quadratic curve, with known normal measurement errors $\\sigma_y$\".\n",
    "Labeling this model $M_2$, we can write:\n",
    "\n",
    "$$\n",
    "y_{M_2}(x;\\theta) = \\theta_0 + \\theta_1 x + \\theta_2 x^2\\\\\n",
    "y \\sim \\mathcal{N}(y_{M_2}, \\sigma_y^2)\n",
    "$$\n",
    "\n",
    "There are three tunable parameters here, again represented by the vector $\\theta$.\n",
    "\n",
    "Model fitting, in this case, is the process of finding constraints on the values of the parameters $\\theta$ within each model.\n",
    "That is, it allows you to make statements such as, \"assuming $M_1$ is true, this particular $\\theta$ gives the best-fit line\" or \"assuming $M_2$ is true, this particular vector $\\theta$ gives the best-fit curve.\"\n",
    "Model fitting proceeds without respect to whether the model is capable of describing the data well; it just arrives at the best-fit model *under the assumption that the model is accurate*.\n",
    "\n",
    "> Model selection, on the other hand, is not concerned with the parameters themselves, but with the question of whether the model is capable of describing the data well.\n",
    "That is, it allows you to say, \"for my data, a line ($M_1$) provides a better fit than a quadratic curve ($M_2$)\".\n"
   ]
  },
  {
   "cell_type": "markdown",
   "metadata": {},
   "source": [
    "- In particular, we wish to select the model that performs optimally, both with respect to the training data (in-sample data) and to external data (out-of-sample).\n",
    "\n",
    "\n",
    "- How many variables should be included in the model? Here's one idea:\n",
    "  <br>  \n",
    "    - Try different models, and only keep predictors in the model if they have small p-values. (Stepwise regression, our next session topic!)\n",
    "    - Check whether the adjusted R-squared value goes up when you add new predictors.\n",
    "\n",
    "- What functional form should be used in fitting the model?\n",
    "- What sort of polynomial relationship best describes the relationship?"
   ]
  },
  {
   "cell_type": "markdown",
   "metadata": {},
   "source": [
    "## Example: Advertising Data"
   ]
  },
  {
   "cell_type": "code",
   "execution_count": 19,
   "metadata": {},
   "outputs": [],
   "source": [
    "# imports\n",
    "import pandas as pd\n",
    "import matplotlib.pyplot as plt\n",
    "\n",
    "# this allows plots to appear directly in the notebook\n",
    "%matplotlib inline\n",
    "import warnings\n",
    "warnings.filterwarnings(\"ignore\", category=FutureWarning)"
   ]
  },
  {
   "cell_type": "code",
   "execution_count": 2,
   "metadata": {},
   "outputs": [
    {
     "data": {
      "text/html": [
       "<div>\n",
       "<style scoped>\n",
       "    .dataframe tbody tr th:only-of-type {\n",
       "        vertical-align: middle;\n",
       "    }\n",
       "\n",
       "    .dataframe tbody tr th {\n",
       "        vertical-align: top;\n",
       "    }\n",
       "\n",
       "    .dataframe thead th {\n",
       "        text-align: right;\n",
       "    }\n",
       "</style>\n",
       "<table border=\"1\" class=\"dataframe\">\n",
       "  <thead>\n",
       "    <tr style=\"text-align: right;\">\n",
       "      <th></th>\n",
       "      <th>TV</th>\n",
       "      <th>radio</th>\n",
       "      <th>newspaper</th>\n",
       "      <th>sales</th>\n",
       "    </tr>\n",
       "  </thead>\n",
       "  <tbody>\n",
       "    <tr>\n",
       "      <th>1</th>\n",
       "      <td>230.1</td>\n",
       "      <td>37.8</td>\n",
       "      <td>69.2</td>\n",
       "      <td>22.1</td>\n",
       "    </tr>\n",
       "    <tr>\n",
       "      <th>2</th>\n",
       "      <td>44.5</td>\n",
       "      <td>39.3</td>\n",
       "      <td>45.1</td>\n",
       "      <td>10.4</td>\n",
       "    </tr>\n",
       "    <tr>\n",
       "      <th>3</th>\n",
       "      <td>17.2</td>\n",
       "      <td>45.9</td>\n",
       "      <td>69.3</td>\n",
       "      <td>9.3</td>\n",
       "    </tr>\n",
       "    <tr>\n",
       "      <th>4</th>\n",
       "      <td>151.5</td>\n",
       "      <td>41.3</td>\n",
       "      <td>58.5</td>\n",
       "      <td>18.5</td>\n",
       "    </tr>\n",
       "    <tr>\n",
       "      <th>5</th>\n",
       "      <td>180.8</td>\n",
       "      <td>10.8</td>\n",
       "      <td>58.4</td>\n",
       "      <td>12.9</td>\n",
       "    </tr>\n",
       "  </tbody>\n",
       "</table>\n",
       "</div>"
      ],
      "text/plain": [
       "      TV  radio  newspaper  sales\n",
       "1  230.1   37.8       69.2   22.1\n",
       "2   44.5   39.3       45.1   10.4\n",
       "3   17.2   45.9       69.3    9.3\n",
       "4  151.5   41.3       58.5   18.5\n",
       "5  180.8   10.8       58.4   12.9"
      ]
     },
     "execution_count": 2,
     "metadata": {},
     "output_type": "execute_result"
    }
   ],
   "source": [
    "# read data into a DataFrame\n",
    "data = pd.read_csv('https://www.statlearning.com/s/Advertising.csv', index_col=0)\n",
    "data.head()"
   ]
  },
  {
   "cell_type": "code",
   "execution_count": 3,
   "metadata": {},
   "outputs": [
    {
     "data": {
      "text/plain": [
       "(200, 4)"
      ]
     },
     "execution_count": 3,
     "metadata": {},
     "output_type": "execute_result"
    }
   ],
   "source": [
    "# print the shape of the DataFrame\n",
    "data.shape"
   ]
  },
  {
   "cell_type": "code",
   "execution_count": 4,
   "metadata": {},
   "outputs": [
    {
     "data": {
      "text/plain": [
       "Intercept    7.032594\n",
       "TV           0.047537\n",
       "dtype: float64"
      ]
     },
     "execution_count": 4,
     "metadata": {},
     "output_type": "execute_result"
    }
   ],
   "source": [
    "# this is the standard import if you're using \"formula notation\" (similar to R)\n",
    "import statsmodels.formula.api as smf\n",
    "\n",
    "# create a fitted model in one line\n",
    "lm = smf.ols(formula='sales ~ TV', data=data).fit()\n",
    "\n",
    "# print the coefficients\n",
    "lm.params"
   ]
  },
  {
   "cell_type": "code",
   "execution_count": 5,
   "metadata": {},
   "outputs": [
    {
     "data": {
      "text/html": [
       "<div>\n",
       "<style scoped>\n",
       "    .dataframe tbody tr th:only-of-type {\n",
       "        vertical-align: middle;\n",
       "    }\n",
       "\n",
       "    .dataframe tbody tr th {\n",
       "        vertical-align: top;\n",
       "    }\n",
       "\n",
       "    .dataframe thead th {\n",
       "        text-align: right;\n",
       "    }\n",
       "</style>\n",
       "<table border=\"1\" class=\"dataframe\">\n",
       "  <thead>\n",
       "    <tr style=\"text-align: right;\">\n",
       "      <th></th>\n",
       "      <th>0</th>\n",
       "      <th>1</th>\n",
       "    </tr>\n",
       "  </thead>\n",
       "  <tbody>\n",
       "    <tr>\n",
       "      <th>Intercept</th>\n",
       "      <td>6.129719</td>\n",
       "      <td>7.935468</td>\n",
       "    </tr>\n",
       "    <tr>\n",
       "      <th>TV</th>\n",
       "      <td>0.042231</td>\n",
       "      <td>0.052843</td>\n",
       "    </tr>\n",
       "  </tbody>\n",
       "</table>\n",
       "</div>"
      ],
      "text/plain": [
       "                  0         1\n",
       "Intercept  6.129719  7.935468\n",
       "TV         0.042231  0.052843"
      ]
     },
     "execution_count": 5,
     "metadata": {},
     "output_type": "execute_result"
    }
   ],
   "source": [
    "# print the confidence intervals for the model coefficients\n",
    "lm.conf_int()"
   ]
  },
  {
   "cell_type": "code",
   "execution_count": 6,
   "metadata": {},
   "outputs": [
    {
     "data": {
      "text/plain": [
       "Intercept    1.406300e-35\n",
       "TV           1.467390e-42\n",
       "dtype: float64"
      ]
     },
     "execution_count": 6,
     "metadata": {},
     "output_type": "execute_result"
    }
   ],
   "source": [
    "# print the p-values for the model coefficients\n",
    "lm.pvalues"
   ]
  },
  {
   "cell_type": "code",
   "execution_count": 7,
   "metadata": {},
   "outputs": [
    {
     "data": {
      "text/plain": [
       "0.611875050850071"
      ]
     },
     "execution_count": 7,
     "metadata": {},
     "output_type": "execute_result"
    }
   ],
   "source": [
    "# print the R-squared value for the model\n",
    "lm.rsquared"
   ]
  },
  {
   "cell_type": "code",
   "execution_count": 8,
   "metadata": {},
   "outputs": [
    {
     "data": {
      "text/plain": [
       "Intercept    2.938889\n",
       "TV           0.045765\n",
       "radio        0.188530\n",
       "newspaper   -0.001037\n",
       "dtype: float64"
      ]
     },
     "execution_count": 8,
     "metadata": {},
     "output_type": "execute_result"
    }
   ],
   "source": [
    "# create a fitted model with all three features\n",
    "lm = smf.ols(formula='sales ~ TV + radio + newspaper', data=data).fit()\n",
    "\n",
    "# print the coefficients\n",
    "lm.params"
   ]
  },
  {
   "cell_type": "code",
   "execution_count": 9,
   "metadata": {},
   "outputs": [
    {
     "data": {
      "text/plain": [
       "0.8972106381789522"
      ]
     },
     "execution_count": 9,
     "metadata": {},
     "output_type": "execute_result"
    }
   ],
   "source": [
    "# print the R-squared value for the model\n",
    "lm.rsquared"
   ]
  },
  {
   "cell_type": "code",
   "execution_count": 10,
   "metadata": {},
   "outputs": [
    {
     "data": {
      "text/plain": [
       "Intercept    1.267295e-17\n",
       "TV           1.509960e-81\n",
       "radio        1.505339e-54\n",
       "newspaper    8.599151e-01\n",
       "dtype: float64"
      ]
     },
     "execution_count": 10,
     "metadata": {},
     "output_type": "execute_result"
    }
   ],
   "source": [
    "# print the p-values for the model coefficients\n",
    "lm.pvalues"
   ]
  },
  {
   "cell_type": "code",
   "execution_count": 11,
   "metadata": {},
   "outputs": [
    {
     "data": {
      "text/html": [
       "<table class=\"simpletable\">\n",
       "<caption>OLS Regression Results</caption>\n",
       "<tr>\n",
       "  <th>Dep. Variable:</th>          <td>sales</td>      <th>  R-squared:         </th> <td>   0.897</td>\n",
       "</tr>\n",
       "<tr>\n",
       "  <th>Model:</th>                   <td>OLS</td>       <th>  Adj. R-squared:    </th> <td>   0.896</td>\n",
       "</tr>\n",
       "<tr>\n",
       "  <th>Method:</th>             <td>Least Squares</td>  <th>  F-statistic:       </th> <td>   570.3</td>\n",
       "</tr>\n",
       "<tr>\n",
       "  <th>Date:</th>             <td>Wed, 05 Feb 2025</td> <th>  Prob (F-statistic):</th> <td>1.58e-96</td>\n",
       "</tr>\n",
       "<tr>\n",
       "  <th>Time:</th>                 <td>16:47:07</td>     <th>  Log-Likelihood:    </th> <td> -386.18</td>\n",
       "</tr>\n",
       "<tr>\n",
       "  <th>No. Observations:</th>      <td>   200</td>      <th>  AIC:               </th> <td>   780.4</td>\n",
       "</tr>\n",
       "<tr>\n",
       "  <th>Df Residuals:</th>          <td>   196</td>      <th>  BIC:               </th> <td>   793.6</td>\n",
       "</tr>\n",
       "<tr>\n",
       "  <th>Df Model:</th>              <td>     3</td>      <th>                     </th>     <td> </td>   \n",
       "</tr>\n",
       "<tr>\n",
       "  <th>Covariance Type:</th>      <td>nonrobust</td>    <th>                     </th>     <td> </td>   \n",
       "</tr>\n",
       "</table>\n",
       "<table class=\"simpletable\">\n",
       "<tr>\n",
       "      <td></td>         <th>coef</th>     <th>std err</th>      <th>t</th>      <th>P>|t|</th>  <th>[0.025</th>    <th>0.975]</th>  \n",
       "</tr>\n",
       "<tr>\n",
       "  <th>Intercept</th> <td>    2.9389</td> <td>    0.312</td> <td>    9.422</td> <td> 0.000</td> <td>    2.324</td> <td>    3.554</td>\n",
       "</tr>\n",
       "<tr>\n",
       "  <th>TV</th>        <td>    0.0458</td> <td>    0.001</td> <td>   32.809</td> <td> 0.000</td> <td>    0.043</td> <td>    0.049</td>\n",
       "</tr>\n",
       "<tr>\n",
       "  <th>radio</th>     <td>    0.1885</td> <td>    0.009</td> <td>   21.893</td> <td> 0.000</td> <td>    0.172</td> <td>    0.206</td>\n",
       "</tr>\n",
       "<tr>\n",
       "  <th>newspaper</th> <td>   -0.0010</td> <td>    0.006</td> <td>   -0.177</td> <td> 0.860</td> <td>   -0.013</td> <td>    0.011</td>\n",
       "</tr>\n",
       "</table>\n",
       "<table class=\"simpletable\">\n",
       "<tr>\n",
       "  <th>Omnibus:</th>       <td>60.414</td> <th>  Durbin-Watson:     </th> <td>   2.084</td>\n",
       "</tr>\n",
       "<tr>\n",
       "  <th>Prob(Omnibus):</th> <td> 0.000</td> <th>  Jarque-Bera (JB):  </th> <td> 151.241</td>\n",
       "</tr>\n",
       "<tr>\n",
       "  <th>Skew:</th>          <td>-1.327</td> <th>  Prob(JB):          </th> <td>1.44e-33</td>\n",
       "</tr>\n",
       "<tr>\n",
       "  <th>Kurtosis:</th>      <td> 6.332</td> <th>  Cond. No.          </th> <td>    454.</td>\n",
       "</tr>\n",
       "</table><br/><br/>Warnings:<br/>[1] Standard Errors assume that the covariance matrix of the errors is correctly specified."
      ],
      "text/plain": [
       "<class 'statsmodels.iolib.summary.Summary'>\n",
       "\"\"\"\n",
       "                            OLS Regression Results                            \n",
       "==============================================================================\n",
       "Dep. Variable:                  sales   R-squared:                       0.897\n",
       "Model:                            OLS   Adj. R-squared:                  0.896\n",
       "Method:                 Least Squares   F-statistic:                     570.3\n",
       "Date:                Wed, 05 Feb 2025   Prob (F-statistic):           1.58e-96\n",
       "Time:                        16:47:07   Log-Likelihood:                -386.18\n",
       "No. Observations:                 200   AIC:                             780.4\n",
       "Df Residuals:                     196   BIC:                             793.6\n",
       "Df Model:                           3                                         \n",
       "Covariance Type:            nonrobust                                         \n",
       "==============================================================================\n",
       "                 coef    std err          t      P>|t|      [0.025      0.975]\n",
       "------------------------------------------------------------------------------\n",
       "Intercept      2.9389      0.312      9.422      0.000       2.324       3.554\n",
       "TV             0.0458      0.001     32.809      0.000       0.043       0.049\n",
       "radio          0.1885      0.009     21.893      0.000       0.172       0.206\n",
       "newspaper     -0.0010      0.006     -0.177      0.860      -0.013       0.011\n",
       "==============================================================================\n",
       "Omnibus:                       60.414   Durbin-Watson:                   2.084\n",
       "Prob(Omnibus):                  0.000   Jarque-Bera (JB):              151.241\n",
       "Skew:                          -1.327   Prob(JB):                     1.44e-33\n",
       "Kurtosis:                       6.332   Cond. No.                         454.\n",
       "==============================================================================\n",
       "\n",
       "Warnings:\n",
       "[1] Standard Errors assume that the covariance matrix of the errors is correctly specified.\n",
       "\"\"\""
      ]
     },
     "execution_count": 11,
     "metadata": {},
     "output_type": "execute_result"
    }
   ],
   "source": [
    "# print a summary of the fitted model\n",
    "lm.summary()"
   ]
  },
  {
   "cell_type": "code",
   "execution_count": 12,
   "metadata": {},
   "outputs": [
    {
     "data": {
      "text/plain": [
       "0.8961505479974429"
      ]
     },
     "execution_count": 12,
     "metadata": {},
     "output_type": "execute_result"
    }
   ],
   "source": [
    "# only include TV and Radio in the model\n",
    "lm = smf.ols(formula='sales ~ TV + radio', data=data).fit()\n",
    "lm.rsquared_adj"
   ]
  },
  {
   "cell_type": "code",
   "execution_count": 13,
   "metadata": {},
   "outputs": [
    {
     "data": {
      "text/plain": [
       "0.8956373316204668"
      ]
     },
     "execution_count": 13,
     "metadata": {},
     "output_type": "execute_result"
    }
   ],
   "source": [
    "# add Newspaper to the model (which we believe has no association with Sales)\n",
    "lm = smf.ols(formula='sales ~ TV + radio + newspaper', data=data).fit()\n",
    "lm.rsquared_adj"
   ]
  },
  {
   "cell_type": "code",
   "execution_count": 14,
   "metadata": {},
   "outputs": [
    {
     "data": {
      "text/plain": [
       "1048.687962269444"
      ]
     },
     "execution_count": 14,
     "metadata": {},
     "output_type": "execute_result"
    }
   ],
   "source": [
    "# only include TV and Radio in the model\n",
    "lm = smf.ols(formula='sales ~ TV', data=data).fit()\n",
    "lm.bic"
   ]
  },
  {
   "cell_type": "code",
   "execution_count": 15,
   "metadata": {},
   "outputs": [
    {
     "data": {
      "text/plain": [
       "788.2890508023244"
      ]
     },
     "execution_count": 15,
     "metadata": {},
     "output_type": "execute_result"
    }
   ],
   "source": [
    "# only include TV and Radio in the model\n",
    "lm = smf.ols(formula='sales ~ TV + radio', data=data).fit()\n",
    "lm.bic"
   ]
  },
  {
   "cell_type": "markdown",
   "metadata": {},
   "source": [
    "#### Naive Approach: Comparing Maximum Likelihoods\n",
    "\n",
    "One common mistake is to assume that we can select between models via *the value of the maximum likelihood*.\n",
    "While this works in some special cases, it is not generally applicable. The model with more variables yields a higher log-likelihood, but this **does not** necessarily mean it is the better model!\n",
    "\n",
    "The problem is that when a model has more degrees of freedom, will **always** give an equal or larger maximum likelihood, regardless of the data! This trend holds generally: as you increase model complexity, the maximum likelihood value will (almost) always increase!\n"
   ]
  },
  {
   "cell_type": "markdown",
   "metadata": {},
   "source": [
    "#### Comparing R2 and Adjusted R2\n",
    "\n",
    "**R-squared will always increase as you add more features to the model**, even if they are unrelated to the response. Thus, selecting the model with the highest R-squared is not a reliable approach for choosing the best linear model.\n",
    "\n",
    "There is alternative to R-squared called **adjusted R-squared** that penalizes model complexity.\n",
    "\n",
    "<img src=\"images/regres.png\"  width=\"300\">\n",
    "\n"
   ]
  },
  {
   "cell_type": "markdown",
   "metadata": {},
   "source": [
    "Coefficient of Determination (R²):\n",
    "$$ R^2 = \\frac{SSR}{SST} = 1 - \\frac{SSE}{SST} $$\n",
    "Sum of Squares Total (SST):\n",
    "$$ SST = \\sum (Y - \\bar{Y})^2 $$\n",
    "Sum of Squares Regression (SSR):\n",
    "$$ SSR = \\sum (\\hat{Y} - \\bar{Y})^2 $$\n",
    "Sum of Squares Error (SSE):\n",
    "$$ SSE = \\sum (Y - \\hat{Y})^2 $$\n",
    "Adjusted R-Squared (\\(R^2_{adjusted}\\)) is calculated as:\n",
    "$$ R^2_{adjusted} = 1 - (1 - R^2) \\frac{(N - 1)}{(N - p - 1)} $$\n",
    "\n",
    "Where:\n",
    "- $R^2$ is the sample R-squared.\n",
    "- $p$ is the number of predictors.\n",
    "- $N$ is the total sample size.\n"
   ]
  },
  {
   "cell_type": "markdown",
   "metadata": {},
   "source": [
    "### Information-theoretic Model Selection (AIC and BIC)\n",
    "\n",
    "You will be able to:\n",
    "\n",
    "- Understand that both AIC and BIC are information criteria that also can be used to perform model selection\n",
    "- Understand how AIC and BIC use likelihood\n",
    "\n",
    "\n",
    "Information criteria (IC) choose models by trading off model fit against a penalty\n",
    "for model complexity as measured by the number of free parameters that have to\n",
    "be estimated for the models. Several information criteria have been suggested in\n",
    "the literature, the two most popular of which are the Bayes information criterion\n",
    "(Schwarz BIC, SBIC, or BIC) proposed by Schwarz (1978) and the Akaike information\n",
    "criterion (AIC) due to Akaike (1974)."
   ]
  },
  {
   "cell_type": "markdown",
   "metadata": {},
   "source": [
    "Information criteria employ different strategies to trade-off fit against parsimony.\n",
    "The Bayesian information criterion selects the model with the highest posterior\n",
    "probability given the data. To choose a single model from the candidate set, the\n",
    "models are ranked according to their posterior probabilities and the model with the\n",
    "highest posterior probability is chosen. The Akaike information criterion seeks to minimize the (Kullback–Leibler) distance between the density of a candidate model\n",
    "and the density of the true (unknown) model."
   ]
  },
  {
   "cell_type": "markdown",
   "metadata": {},
   "source": [
    "#### The AIC\n",
    "\n",
    "One approach to model selection is to use an information-theoretic criterion to identify the most appropriate model. Akaike (1973) found a formal relationship between Kullback-Leibler information (a dominant paradigm in information and coding theory) and likelihood theory. Akaike's Information Criterion (AIC) is an estimator of expected relative K-L information based on the maximized log-likelihood function, corrected for asymptotic bias. \n",
    "\n",
    "<br>\n",
    "<center> AIC(model) = -2  $\\cdot$ log-likelihood(model) + 2 $\\cdot$ (length of the parameter space)</center>\n",
    "\n",
    "$$\\text{AIC} = −2 \\log(L(\\theta|data)) + 2p$$\n",
    "\n",
    "AIC balances the fit of the model (in terms of the likelihood) with the number of parameters required to achieve that fit. We can easily calculate AIC from the residual sums of squares as:\n",
    "\n",
    "$$\\text{AIC} = n \\log(\\text{RSS}/n) + 2p$$\n",
    "\n",
    "where $p$ is the number of parameters in the model. Notice that as the number of parameters increase, the residual sum of squares goes down, but the second term (a penalty) increases.\n",
    "\n",
    "To apply AIC to a model selection problem, we choose the model that has the lowest AIC value.\n",
    "\n",
    "The AIC is generally used to compare each candidate model. The nice thing about the AIC is that for every model that uses Maximum Likelihood Estimation, the log-likelihood is automatically computed, and as a consequence the AIC is very easy to calculate.\n",
    "The AIC acts as a penalised log-likelihood criterion, giving a balance between a good fit (high value of log-likelihood) and complexity (complex models are penalized more than fairly simple ones). The AIC is unbounded so can take any type of value, but the bottom line is that when comparing models, the model with the lowest AIC should be selected.\n",
    "Note that directly comparing the values of log-likelihood maxima for different models (without including the penalty) is not good enough for model comparison, because including more parameters in a model will always give rise to an increased value of the maximum likelihood. Because of that reason, searching for the model with maximal log-likelihood would always lead to the model with the most parameters. The AIC balances this by penalizing for number of parameters, hence searching for models with few parameters but fitting the data well. data well.\n",
    "\n",
    "> It makes rather stringent assumptions about the form of the likelihood, and so cannot be universally applied.\n",
    "\n",
    "#### The BIC\n",
    "\n",
    "The BIC (Bayesian Information Criterion) is very similar to the AIC and emerged as a Bayesian response to the AIC, but can be used for the exact same purposes. The idea is to select the candidate model with the highest probability given the data. This idea can be formalised inside a Bayesian framework, involving prior probabilities on candidate models along with prior densities on all parameters in the models. The penalty is slightly changed and depends on the number of rows to the data set:\n",
    "\n",
    "<br>\n",
    "<center> BIC(model) = -2 $\\cdot$ log-likelihood(model) + log(number of observations) $\\cdot$ (length of the parameter space)</center>\n",
    "\n"
   ]
  },
  {
   "cell_type": "markdown",
   "metadata": {},
   "source": [
    "### Python Demonstrations\n",
    "\n",
    "The following example uses simulated data to illustrate how to compare competing models using AIC, BIC, and adjusted \\(R^2\\). We simulate a dataset from a quadratic process and estimate polynomial regression models of varying degrees to explore the trade-offs between model complexity and fit.\n"
   ]
  },
  {
   "cell_type": "code",
   "execution_count": 20,
   "metadata": {},
   "outputs": [
    {
     "name": "stdout",
     "output_type": "stream",
     "text": [
      "   Degree          AIC          BIC  Adjusted R^2\n",
      "0       1  1148.707031  1155.303666      0.661140\n",
      "1       2   820.115849   830.010801      0.934785\n",
      "2       3   820.668041   833.861310      0.934925\n",
      "3       4   822.590143   839.081729      0.934617\n",
      "4       5   818.399311   838.189215      0.936283\n"
     ]
    },
    {
     "data": {
      "image/png": "[encoded data removed]",
      "text/plain": [
       "<Figure size 864x432 with 2 Axes>"
      ]
     },
     "metadata": {},
     "output_type": "display_data"
    }
   ],
   "source": [
    "# Comparing Polynomial Regression Models Using AIC, BIC, and Adjusted R^2\n",
    "\n",
    "import numpy as np\n",
    "import pandas as pd\n",
    "import statsmodels.api as sm\n",
    "import statsmodels.formula.api as smf\n",
    "import matplotlib.pyplot as plt\n",
    "\n",
    "# Set seed for reproducibility\n",
    "np.random.seed(42)\n",
    "\n",
    "# Simulate data from a quadratic process with additive noise\n",
    "n = 200\n",
    "x = np.linspace(-5, 5, n)\n",
    "epsilon = np.random.normal(scale=2.0, size=n)\n",
    "# True underlying process: y = 1 + 2*x - 0.5*x**2 + noise\n",
    "y = 1 + 2 * x - 0.5 * x**2 + epsilon\n",
    "\n",
    "# Organize the data in a DataFrame\n",
    "data = pd.DataFrame({'x': x, 'y': y})\n",
    "\n",
    "# Prepare a list to store metrics for models with increasing polynomial degree\n",
    "model_metrics = []\n",
    "\n",
    "# Fit polynomial regression models of degree 1 through 5\n",
    "for degree in range(1, 6):\n",
    "    # Create a copy of the original data\n",
    "    data_poly = data.copy()\n",
    "    \n",
    "    # Generate additional polynomial features if degree > 1\n",
    "    if degree > 1:\n",
    "        for d in range(2, degree + 1):\n",
    "            # Use a safe variable name (e.g., 'x_2' instead of 'x^2')\n",
    "            data_poly[f'x_{d}'] = data_poly['x'] ** d\n",
    "\n",
    "    # Build the regression formula dynamically using safe variable names\n",
    "    predictors = ['x']\n",
    "    if degree > 1:\n",
    "        predictors += [f'x_{d}' for d in range(2, degree + 1)]\n",
    "    formula = 'y ~ ' + ' + '.join(predictors)\n",
    "    \n",
    "    # Fit the model using Ordinary Least Squares (OLS)\n",
    "    model = smf.ols(formula, data=data_poly).fit()\n",
    "    \n",
    "    # Append the performance metrics for the current model\n",
    "    model_metrics.append({\n",
    "        'Degree': degree,\n",
    "        'AIC': model.aic,\n",
    "        'BIC': model.bic,\n",
    "        'Adjusted R^2': model.rsquared_adj\n",
    "    })\n",
    "\n",
    "# Convert the list of dictionaries to a DataFrame for display\n",
    "metrics_df = pd.DataFrame(model_metrics)\n",
    "print(metrics_df)\n",
    "\n",
    "# Plot the information criteria and adjusted R^2 for visual comparison\n",
    "plt.figure(figsize=(12, 6))\n",
    "\n",
    "# Plot AIC and BIC values\n",
    "plt.subplot(1, 2, 1)\n",
    "plt.plot(metrics_df['Degree'], metrics_df['AIC'], marker='o', label='AIC')\n",
    "plt.plot(metrics_df['Degree'], metrics_df['BIC'], marker='s', label='BIC')\n",
    "plt.xlabel('Polynomial Degree')\n",
    "plt.ylabel('Information Criterion')\n",
    "plt.title('AIC and BIC Across Models')\n",
    "plt.legend()\n",
    "plt.grid(True)\n",
    "\n",
    "# Plot adjusted R^2 values\n",
    "plt.subplot(1, 2, 2)\n",
    "plt.plot(metrics_df['Degree'], metrics_df['Adjusted R^2'], marker='^', color='green')\n",
    "plt.xlabel('Polynomial Degree')\n",
    "plt.ylabel('Adjusted R^2')\n",
    "plt.title('Adjusted R^2 Across Models')\n",
    "plt.grid(True)\n",
    "\n",
    "plt.tight_layout()\n",
    "plt.show()\n"
   ]
  },
  {
   "cell_type": "markdown",
   "metadata": {},
   "source": [
    "Optimal Model Selection: The quadratic model (degree 2) appears to strike the best balance between model complexity and goodness-of-fit:\n",
    "AIC and BIC reach their lowest point or near their lowest at degree 2.\n",
    "Adjusted $R^2$ shows a substantial improvement from degree 1 to 2, but the gains are minimal beyond degree 2."
   ]
  },
  {
   "cell_type": "markdown",
   "metadata": {},
   "source": [
    "### Cross-Validation: A Machine Learning Approach to Model Selection\n",
    "\n",
    "In contrast to frequentist model selection criteria such as AIC and BIC, which focus on balancing goodness-of-fit and complexity, **cross-validation (CV)** is a widely used approach in machine learning that directly assesses the model's **out-of-sample predictive performance**. Cross-validation is particularly useful when the goal is to **select the model that generalizes best to new, unseen data** rather than simply fitting the observed data well.\n",
    "\n",
    "#### What is Cross-Validation?\n",
    "\n",
    "Cross-validation is a **resampling technique** that partitions the dataset into multiple subsets (or \"folds\") to evaluate a model's performance on different segments of the data. The most commonly used method is **\\( k \\)-fold cross-validation**, where:\n",
    "\n",
    "1. The dataset is randomly split into \\( k \\) equally sized subsets (folds).\n",
    "2. The model is trained (estimated) on \\( k-1 \\) folds and tested (evaluated) on the remaining fold.\n",
    "3. This process is repeated \\( k \\) times, with each fold serving as the test set once.\n",
    "4. The final performance score is obtained by averaging the results across all folds.\n",
    "\n",
    "This method ensures that every observation is used for both training and testing, reducing bias and variance in performance estimation.\n",
    "\n",
    "#### Using Cross-Validation for Model Selection\n",
    "\n",
    "Unlike AIC or BIC, which evaluate models based on likelihood functions and penalize complexity, cross-validation directly measures **how well the model predicts unseen data**. The model with the lowest cross-validation error is considered the best.\n",
    "\n",
    "Below, we apply **\\( k \\)-fold cross-validation** to find the optimal polynomial degree for the regression model.\n",
    "\n"
   ]
  },
  {
   "cell_type": "code",
   "execution_count": 21,
   "metadata": {},
   "outputs": [
    {
     "name": "stdout",
     "output_type": "stream",
     "text": [
      "Degree 1: Cross-validation MSE = 58.0314\n",
      "Degree 2: Cross-validation MSE = 3.4525\n",
      "Degree 3: Cross-validation MSE = 3.8309\n",
      "Degree 4: Cross-validation MSE = 11.2316\n",
      "Degree 5: Cross-validation MSE = 4.5183\n"
     ]
    },
    {
     "data": {
      "image/png": "[encoded data removed]",
      "text/plain": [
       "<Figure size 576x360 with 1 Axes>"
      ]
     },
     "metadata": {},
     "output_type": "display_data"
    }
   ],
   "source": [
    "from sklearn.model_selection import cross_val_score, KFold\n",
    "from sklearn.preprocessing import PolynomialFeatures\n",
    "from sklearn.pipeline import Pipeline\n",
    "from sklearn.linear_model import LinearRegression\n",
    "\n",
    "# Function to evaluate polynomial models using cross-validation\n",
    "def cross_validate_polynomial(degree, X, y, cv_folds=5):\n",
    "    \"\"\"\n",
    "    Fits a polynomial regression model of a given degree and evaluates its \n",
    "    predictive performance using k-fold cross-validation.\n",
    "    \n",
    "    Parameters:\n",
    "        degree (int): Degree of the polynomial.\n",
    "        X (array-like): Feature variable.\n",
    "        y (array-like): Response variable.\n",
    "        cv_folds (int): Number of folds in cross-validation.\n",
    "    \n",
    "    Returns:\n",
    "        float: Mean cross-validation error.\n",
    "    \"\"\"\n",
    "    # Create a pipeline that generates polynomial features and fits a linear regression model\n",
    "    model_pipeline = Pipeline([\n",
    "        ('poly_features', PolynomialFeatures(degree=degree, include_bias=False)),\n",
    "        ('regressor', LinearRegression())\n",
    "    ])\n",
    "    \n",
    "    # Perform cross-validation with negative mean squared error (MSE)\n",
    "    cv_scores = cross_val_score(model_pipeline, X, y, cv=cv_folds, \n",
    "                                scoring='neg_mean_squared_error')\n",
    "    \n",
    "    # Return the mean cross-validation error (convert negative MSE to positive)\n",
    "    return -cv_scores.mean()\n",
    "\n",
    "# Prepare data\n",
    "X = x.reshape(-1, 1)  # Reshape x to fit scikit-learn models\n",
    "\n",
    "# Evaluate models with polynomial degrees from 1 to 5\n",
    "cv_errors = []\n",
    "degrees = range(1, 6)\n",
    "for degree in degrees:\n",
    "    error = cross_validate_polynomial(degree, X, y, cv_folds=5)\n",
    "    cv_errors.append(error)\n",
    "    print(f\"Degree {degree}: Cross-validation MSE = {error:.4f}\")\n",
    "\n",
    "# Plot cross-validation results\n",
    "plt.figure(figsize=(8, 5))\n",
    "plt.plot(degrees, cv_errors, marker='o', linestyle='dashed', label='Cross-validation MSE')\n",
    "plt.xlabel('Polynomial Degree')\n",
    "plt.ylabel('Mean Squared Error')\n",
    "plt.title('Model Selection via Cross-Validation')\n",
    "plt.legend()\n",
    "plt.grid(True)\n",
    "plt.show()"
   ]
  },
  {
   "cell_type": "markdown",
   "metadata": {},
   "source": [
    "### Discussion: Selecting the Best Model\n",
    "\n",
    "- The model with the **lowest cross-validation error** is preferred since it generalizes best to unseen data.\n",
    "- Unlike AIC/BIC, which rely on likelihood-based penalization, cross-validation directly measures predictive accuracy.\n",
    "- If the cross-validation error increases after a certain polynomial degree, it indicates **overfitting**, meaning the model captures noise rather than signal.\n",
    "- If the error is high for low-degree polynomials, it suggests **underfitting**, meaning the model is too simple to capture the data’s structure.\n",
    "\n",
    "### Comparison: Frequentist Model Selection vs. Cross-Validation\n",
    "\n",
    "| Method             | Objective                               | Penalizes Complexity? | Measures Prediction? |\n",
    "|--------------------|----------------------------------------|-----------------------|----------------------|\n",
    "| **AIC**           | Maximizes likelihood, penalizes complexity | ✅ Yes | ❌ No |\n",
    "| **BIC**           | Maximizes likelihood with stronger penalty | ✅ Yes | ❌ No |\n",
    "| **Adjusted \\( R^2 \\)** | Evaluates fit adjusted for predictors | ✅ Yes | ❌ No |\n",
    "| **Cross-Validation** | Minimizes out-of-sample prediction error | ❌ No | ✅ Yes |\n",
    "\n",
    "### **Key Takeaways**\n",
    "- If the goal is **inference**, frequentist criteria (AIC, BIC, adjusted \\(R^2\\)) are more suitable since they balance goodness-of-fit and complexity.\n",
    "- If the goal is **prediction**, cross-validation is preferable because it selects the model with the best **out-of-sample** performance.\n",
    "- In practice, combining **both approaches** can lead to more robust model selection.\n",
    "\n",
    "By applying these techniques, we can make informed decisions about model complexity, avoiding both **underfitting** and **overfitting** while ensuring strong predictive power.\n"
   ]
  }
 ],
 "metadata": {
  "kernelspec": {
   "display_name": "Python 3",
   "language": "python",
   "name": "python3"
  },
  "language_info": {
   "codemirror_mode": {
    "name": "ipython",
    "version": 3
   },
   "file_extension": ".py",
   "mimetype": "text/x-python",
   "name": "python",
   "nbconvert_exporter": "python",
   "pygments_lexer": "ipython3",
   "version": "3.6.5"
  }
 },
 "nbformat": 4,
 "nbformat_minor": 2
}
