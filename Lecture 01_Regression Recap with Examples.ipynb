{
 "cells": [
  {
   "cell_type": "markdown",
   "metadata": {},
   "source": [
    "## <center><font color=navy>Big Data Economics</font></center>\n",
    "### <center>A Refresher on Regression Analysis</center>\n",
    "#### <center>Ali Habibnia</center>\n",
    "\n",
    "\n",
    "<center> Assistant Professor, Department of Economics, </center>\n",
    "<center> and Division of Computational Modeling & Data Analytics at Virginia Tech</center>\n",
    "<center> habibnia@vt.edu </center> "
   ]
  },
  {
   "cell_type": "markdown",
   "metadata": {},
   "source": [
    "### Readings:\n",
    "\n",
    "1. ***Chapter 3.2***, [The Elements of Statistical Learning Data Mining, Inference, and Prediction](https://web.stanford.edu/~hastie/ElemStatLearn/printings/ESLII_print12.pdf)\n",
    "\n",
    "2. For a quick review see: ***Chapter 9.2***, [Understanding Machine Learning From Theory to Algorithms](https://www.cs.huji.ac.il/~shais/UnderstandingMachineLearning/understanding-machine-learning-theory-algorithms.pdf)\n",
    "\n",
    "3. For students with no background in Econometrics: [Econometric Data Science](https://www.sas.upenn.edu/~fdiebold/Textbooks.html)\n",
    "\n",
    "4. For more advanced topics: ***Chapters 1-2 and 3.1-3.2***, J.D. Angrist and J.S. Pischke, Mostly Harmless Econometrics: An Empiricist’s Companion, Princeton University Press, 2009\n",
    "\n",
    "& ***Chapter II.2***, Gilbert Strang, Linear Algebra and Learning from Data, Wellesley-Cambridge Press, 2019"
   ]
  },
  {
   "cell_type": "markdown",
   "metadata": {},
   "source": [
    "### Motivation\n",
    "\n",
    "Why are we learning linear regression?\n",
    "- widely used\n",
    "- runs fast\n",
    "- easy to use (not a lot of tuning required)\n",
    "- highly interpretable\n",
    "- basis for many other methods"
   ]
  },
  {
   "cell_type": "markdown",
   "metadata": {},
   "source": [
    "<div class=\"alert alert-block alert-info\">\n",
    "\"[N]othing at all takes place in the universe in which some rule of maximum or minimum does not appear.\" \n",
    "\n",
    "-- Leonhard Euler\n",
    "\n",
    "<img src=\"images/Leonhard_Euler.jpg\"  width=\"220\">\n",
    "</div>\n",
    "\n",
    "\n"
   ]
  },
  {
   "cell_type": "markdown",
   "metadata": {},
   "source": [
    "<img style=\"float: right;\" src=\"images/error.png\"  width=\"350\">\n",
    "\n",
    "Optimization problems arise in a large variety of contexts, including **econometrics**, and **machine learning**. The underlying mathematical problem always amounts to finding parameters that **minimize** (cost/loss) or **maximize** (utility/profit) an objective function in the presence or absence of a set of constraints.\n",
    "\n",
    "Together, $\\beta_0$ and $\\beta_1$ are called the **model coefficients/parameters**. To create your model, you must \"learn/estimate\" the values of these coefficients. And once we've learned these coefficients, we can use the model to predict!"
   ]
  },
  {
   "cell_type": "markdown",
   "metadata": {},
   "source": [
    "### Linear Regression\n",
    "\n",
    "\n",
    "* Linear regression is an old method from statistics for describing the relationships between variables.\n",
    "\n",
    "* LR is an algorithm for learning to predict a real-valued **target/output/dependent/response** variable as a linear function of one or more real-valued **input/explanatory/regressor/predictor/attribute/covariate/features...** variables. \n",
    "\n",
    "* LR is one of the most widely used statistical learning algorithms, and with care it can be made to work very well in practice. \n",
    "\n",
    "* There are different ways to describe and solve the linear regression problem. The most common way of solving linear regression is via a least squares optimization that is solved using matrix factorization methods from linear regression.\n",
    "\n",
    "* Linear regression can be conveniently represented in terms of matrix-vector multiplication.\n",
    "\n",
    "* Linear regression has a closed-form (analytical) solution in terms of basic linear algebra operations. This makes it a useful starting point for understanding many other statistical learning algorithms.\n",
    "\n",
    "* In contrast to the models with a closed-form solution, sometimes we need an Iterative Optimization Algorithms to minimize or maximize an objective function. \n",
    "\n",
    "* The two basic types of regression are simple linear regression and multiple linear regression which are used for continuos variable, although there are non-linear regression methods like logistic regression which is used for classification problems among a few discrete values.\n",
    "\n",
    "> Goals:\n",
    "\n",
    "- Know the cost function for linear regression (e.g. least squares fit)\n",
    "- Know of at least one method for fitting the model (e.g. gradient descent, closed-form solution)"
   ]
  },
  {
   "cell_type": "markdown",
   "metadata": {},
   "source": [
    "Linear regression via the least squares method is the simplest approach to performing a regression analysis of a dependent and a explanatory variable. The objective is to find (mathematically) the best-fitting straight **line/plane/hyperplane** through a set of points that minimizes the sum of the squared **residuals/errors/offsets** from the line. \n",
    "\n",
    "The offsets come in 2 different flavors: perpendicular and vertical - with respect to the line.  \n",
    "![](https://raw.githubusercontent.com/rasbt/python_reference/master/Images/least_squares_vertical.png)  \n",
    "![](https://raw.githubusercontent.com/rasbt/python_reference/master/Images/least_squares_perpendicular.png)  \n",
    "\n",
    "The perpendicular offset method delivers a more precise result but is are more complicated to handle. Therefore normally the vertical offsets are used.\n"
   ]
  },
  {
   "cell_type": "markdown",
   "metadata": {},
   "source": [
    "$\\newcommand{\\vct}[1]{\\mathbf{#1}}$\n",
    "$\\newcommand{\\mtx}[1]{\\mathbf{#1}}$\n",
    "$\\newcommand{\\e}{\\varepsilon}$\n",
    "$\\newcommand{\\norm}[1]{\\|#1\\|}$\n",
    "$\\newcommand{\\minimize}{\\text{minimize}\\quad}$\n",
    "$\\newcommand{\\maximize}{\\text{maximize}\\quad}$\n",
    "$\\newcommand{\\subjto}{\\quad\\text{subject to}\\quad}$\n",
    "$\\newcommand{\\R}{\\mathbb{R}}$\n",
    "$\\newcommand{\\trans}{T}$\n",
    "$\\newcommand{\\ip}[2]{\\langle {#1}, {#2} \\rangle}$\n",
    "Suppose we want to understand the relationship of a quantity $Y$ (for example, sales data) to a series of **predictors** $X_1,\\dots,X_p$ (for example, advertising budget in different media). We can often assume the relationship to be **approximately linear**,\n",
    "\n",
    "[1]\\begin{equation*}\n",
    " Y = \\beta_0+\\beta_1 X_1 + \\cdots + \\beta_p X_p + \\varepsilon, \n",
    "\\end{equation*}\n",
    "\n",
    "where $\\varepsilon$ is some error or noise term. The goal is to determine the **model parameters** $\\beta_0,\\dots,\\beta_p$.\n",
    "To determine these, we can collect $n\\geq p$ sample realizations (from observations or experiments),\n",
    "\n",
    "\\begin{equation*}\n",
    " Y=y_i, \\quad X_1=x_{i1},\\dots,X_p=x_{ip}, \\quad 1\\leq i\\leq n,\n",
    "\\end{equation*}\n",
    "\n",
    "and assume that the data is related according to [1], \n",
    "\n",
    "\\begin{equation*}\n",
    " y_i = \\beta_0+\\beta_1x_{i1}+\\cdots +\\beta_p x_{ip}+\\varepsilon_i, \\quad 1\\leq i\\leq n.\n",
    "\\end{equation*}\n",
    "\n",
    "Collecting the data in matrices and vectors,\n",
    "\n",
    "\\begin{equation*}\n",
    " \\vct{y} = \\begin{pmatrix}\n",
    "            y_1\\\\ \\vdots \\\\ y_n\n",
    "           \\end{pmatrix},\n",
    "\\quad \\mtx{X} = \\begin{pmatrix} \n",
    "           1 & x_{11} & \\cdots & x_{1p}\\\\\n",
    "           \\vdots & \\vdots & \\ddots & \\vdots \\\\\n",
    "           1 & x_{n1} & \\cdots & x_{np}\n",
    "          \\end{pmatrix},\n",
    "\\quad \\vct{\\beta} = \\begin{pmatrix}\n",
    "                     \\beta_0\\\\\n",
    "                     \\beta_1\\\\\n",
    "                     \\vdots\\\\\n",
    "                     \\beta_p\n",
    "                    \\end{pmatrix},\n",
    "\\quad \\vct{\\varepsilon} = \\begin{pmatrix}\n",
    "                  \\e_1\\\\\n",
    "                  \\vdots\\\\\n",
    "                  \\e_n\n",
    "                 \\end{pmatrix},\n",
    "\\end{equation*}\n",
    "\n",
    "we can write the relationship concisely as \n",
    "\n",
    "\\begin{equation*}\n",
    " \\vct{y} = \\mtx{X}\\vct{\\beta}+\\vct{\\e}.\n",
    "\\end{equation*}\n",
    "\n",
    "We would then like to find $\\vct{\\beta}$ in such a way that the difference $\\vct{\\e}=\\vct{y}-\\mtx{X}\\vct{\\beta}$ is as *small* as possible. One way of measuring the size of a vector $\\vct{\\e}\\in \\R^n$ is the square of its **$2$-norm**, or Euclidean norm, \n",
    "\n",
    "\\begin{equation*}\n",
    " \\norm{\\vct{\\e}}_2^2=\\vct{\\e}^{T}\\vct{\\e}=\\sum_{i=1}^n\\e_i^2.\n",
    "\\end{equation*}\n",
    "\n",
    "The best $\\vct{\\beta}$ is then the vector that solves the unconstrained optimization problem\n",
    "\n",
    "\\begin{equation*}\n",
    " \\minimize \\norm{\\mtx{X}\\vct{\\beta}-\\vct{y}}_2^2.\n",
    "\\end{equation*}\n",
    "\n",
    "This is an example of an optimization problem, with variables $\\vct{\\beta}$, no constraints (*all* $\\beta$ are valid candidates and the constraint set is $\\Omega=\\R^{p+1}$), and a **quadratic** objective function \n",
    "\n",
    "\\begin{equation*}\n",
    "f(\\vct{\\beta})=\\norm{\\mtx{X}\\vct{\\beta}-\\vct{y}}_2^2 = (\\mtx{X}\\vct{\\beta}-\\vct{y})^{T}(\\mtx{X}\\vct{\\beta}-\\vct{y}) = \\vct{\\beta}^{T}\\mtx{X}^{T}\\mtx{X}\\vct{\\beta}-2\\vct{y}^{T}\\mtx{X}\\vct{\\beta}+\\vct{y}^{T}\\vct{y},\n",
    "\\end{equation*}\n",
    "\n",
    "where $\\mtx{X}^{T}$ is the matrix transpose.\n",
    "Quadratic functions are convex, so this is a convex optimization problem.\n",
    "This simple optimization problem has a **unique closed-form solution**,\n",
    "\n",
    "This can be re-arranged in order to specify the solution for $\\vct{\\beta}$ as:\n",
    "\n",
    "\\begin{equation*}\n",
    " \\vct{\\beta}^* = (\\vct{X}^{\\trans}\\vct{X})^{-1}\\vct{X}^{\\trans}\\vct{y}.\n",
    "\\end{equation*}\n",
    "\n",
    "In practice one wouldn't compute $\\vct{\\beta}^*$ by evaluating [1], as there are more efficient methods available. \n",
    "\n",
    "Bear in mind that the regression has six key assumptions:\n",
    "\n",
    "1. Linear relationship between target and features\n",
    "2. Data is normally distributed or contains Multivariate normality (but doesn't have to be)\n",
    "3. No or little multicollinearity\n",
    "4. No auto-correlation\n",
    "5. Homoscedasticity\n",
    "6. Independent features"
   ]
  },
  {
   "cell_type": "markdown",
   "metadata": {},
   "source": [
    "### Python libraries for Regression Analysis\n",
    "\n",
    "In this section, first, we will see how to solve linear regression via closed-form solution and the least-squares solution from scrach by using numpy.\n",
    "\n",
    "Then we will be using [Statsmodels](http://statsmodels.sourceforge.net/) for linear modeling. However, I recommend that you spend most of your energy on [scikit-learn](http://scikit-learn.org/stable/) since it provides significantly more useful functionality for machine learning in general.\n",
    "\n",
    "#### Requirements for Working With Data in scikit-learn\n",
    "\n",
    "1. Features and response should be separate objects.\n",
    "2. Features and response should be entirely numeric.\n",
    "3. Features and response should be NumPy arrays (or easily converted to NumPy arrays).\n",
    "4. Features and response should have specific shapes (outlined below).\n",
    "5. Note that **p-values** and **confidence intervals** are not (easily) accessible."
   ]
  },
  {
   "cell_type": "code",
   "execution_count": 2,
   "metadata": {},
   "outputs": [],
   "source": [
    "%matplotlib inline \n",
    "\n",
    "# %matplotlib (percent sign) is a magic function in IPython (Jupyter Notebook). \n",
    "# this allows plots to appear directly in the notebook."
   ]
  },
  {
   "cell_type": "code",
   "execution_count": 1,
   "metadata": {},
   "outputs": [
    {
     "name": "stdout",
     "output_type": "stream",
     "text": [
      "[[0.05 0.12]\n",
      " [0.18 0.22]\n",
      " [0.31 0.35]\n",
      " [0.42 0.38]\n",
      " [0.5  0.49]]\n"
     ]
    },
    {
     "data": {
      "image/png": "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\n",
      "text/plain": [
       "<Figure size 432x288 with 1 Axes>"
      ]
     },
     "metadata": {
      "needs_background": "light"
     },
     "output_type": "display_data"
    }
   ],
   "source": [
    "# linear regression \n",
    "\n",
    "'''\n",
    "    NumPy is a library for multi-dimensional arrays and matrices along with a large collection\n",
    "    of mathematical functions to operate on these arrays.\n",
    "    \n",
    "    Matplotlib is a plotting library for the Python programming language  \n",
    "'''\n",
    "\n",
    "\n",
    "import numpy as np\n",
    "import matplotlib.pyplot as plt\n",
    "# define dataset\n",
    "\n",
    "'''\n",
    "X = [x_i*random.randrange(8,12)/10 for x_i in range(500)]\n",
    "y = [y_i*random.randrange(8,12)/10 for y_i in range(100,600)]\n",
    "'''\n",
    "\n",
    "data = np.array([\n",
    "  [0.05, 0.12],\n",
    "  [0.18, 0.22],\n",
    "  [0.31, 0.35],\n",
    "  [0.42, 0.38],\n",
    "  [0.5, 0.49]])\n",
    "print(data)\n",
    "\n",
    "# split into inputs and outputs\n",
    "X, y = data[:,0], data[:,1]\n",
    "X = X.reshape((len(X), 1))\n",
    "\n",
    "# scatter plot\n",
    "plt.scatter(X, y)\n",
    "plt.ylabel('y')\n",
    "plt.xlabel('X')\n",
    "plt.show()"
   ]
  },
  {
   "cell_type": "code",
   "execution_count": 2,
   "metadata": {},
   "outputs": [
    {
     "name": "stdout",
     "output_type": "stream",
     "text": [
      "Beta = [1.00233226]\n"
     ]
    },
    {
     "data": {
      "image/png": "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\n",
      "text/plain": [
       "<Figure size 432x288 with 1 Axes>"
      ]
     },
     "metadata": {
      "needs_background": "light"
     },
     "output_type": "display_data"
    }
   ],
   "source": [
    "# direct solution to linear least squares\n",
    "import numpy as np\n",
    "import matplotlib.pyplot as plt\n",
    "# define dataset\n",
    "data = np.array([\n",
    "  [0.05, 0.12],\n",
    "  [0.18, 0.22],\n",
    "  [0.31, 0.35],\n",
    "  [0.42, 0.38],\n",
    "  [0.5, 0.49]])\n",
    "# print(data)\n",
    "# split into inputs and outputs\n",
    "X, y = data[:,0], data[:,1]\n",
    "X = X.reshape((len(X), 1))\n",
    "# linear least squares\n",
    "\n",
    "b = np.linalg.inv(X.T.dot(X)).dot(X.T).dot(y)\n",
    "\n",
    "print(\"Beta =\", b)\n",
    "# predict using coefficients\n",
    "yhat = X.dot(b)\n",
    "# plot data and predictions\n",
    "plt.scatter(X, y) \n",
    "plt.plot(X, yhat, color='red') \n",
    "plt.ylabel('y')\n",
    "plt.xlabel('X')\n",
    "plt.title('Linear regression a closed-form solution')\n",
    "plt.show()"
   ]
  },
  {
   "cell_type": "code",
   "execution_count": 5,
   "metadata": {},
   "outputs": [],
   "source": [
    "\"\"\" Build a function to compute the closed-form solution to a linear matrix equation. \"\"\"\n",
    "import numpy as np\n",
    "\n",
    "def matrix_linreg(x, y):\n",
    "    X = np.vstack([x, np.ones(len(x))]).T\n",
    "    return (np.linalg.inv(X.T.dot(X)).dot(X.T)).dot(y)"
   ]
  },
  {
   "cell_type": "markdown",
   "metadata": {},
   "source": [
    "As we mentioned in the previous sectoin, the parameters $\\beta_0$ and $\\beta_1$ are unknown, and we have to estimate them by using sample data points. Suppose we have N paires of $x$ and $y$. There are infinite number of lines that we can use, but we are looking for selecting the best line through the data. <br>\n",
    "We have to estimate the parameters in way that we minimize the difference between the data points which is $y_i$ and the value of straight line in the certain $x$ point. From now, we called this diffrences as **residual** and we show it by $e_i$. Residual play an important role in evaluating the accuracy of the model. We will talk more about it the next section. We use $\\hat{y}$ to show the regression value to distinguish the observed value of $y$ from the value that calculated from the regression model.\n",
    "So <br>\n",
    "$$SS_{res}=\\sum{e_i}=\\sum\\limits_{i=1}^n{(y_i-\\hat{y_i})^2}=\\sum\\limits_{i=1}^n(y_i-(\\hat{\\beta_0}+\\hat{\\beta_1}x_i))^2$$ <br>\n",
    "We call the above equition the **sum of squares for the residuals ($SS_{res}$)**. Our best estimated line, then, is the one which minimizes the $SS_{res}$. <br> <br>\n",
    "Minimizing $e$ amounts to solving the so-called normal equations<br>\n",
    "$$\\frac{\\partial SS_{res}}{\\partial \\hat{\\beta_0}}=-2\\sum\\limits_{i=1}^n[y_i-\\hat{\\beta_0}-\\hat{\\beta_1}x_i]=0$$ <br>\n",
    "$$\\frac{\\partial SS_{res}}{\\partial \\hat{\\beta_1}}=-2\\sum\\limits_{i=1}^n[x_iy_i-\\hat{\\beta_0}x_i-\\hat{\\beta_1}x_i^2]=0$$ <br>\n",
    "That is, <br>\n",
    "$$n\\hat{\\beta_0}+\\hat{\\beta_1}\\sum\\limits_{i=1}^n{x_i}=\\sum\\limits_{i=1}^n{y_i}$$ <br> \n",
    "and <br>\n",
    "$$\\hat{\\beta_0}\\sum\\limits_{i=1}^n{x_i}+\\hat{\\beta_1}\\sum\\limits_{i=1}^n{x_i^2}=\\sum\\limits_{i=1}^n{x_iy_i}$$ <br>\n",
    "Let $$\\bar{x}=\\frac{1}{n}\\sum\\limits_{i=1}^n{x_i}$$ and $$\\bar{y}=\\frac{1}{n}\\sum\\limits_{i=1}^n{y_i}$$ be the sample means of predictor values\n",
    "and the responses. If <br>\n",
    "$$S_{xy}=\\sum\\limits_{i=1}^n{(x_i-\\bar{x})(y_i-\\bar{y})}=\\sum\\limits_{i=1}^ny_i(x_i-\\bar{x})=\\sum\\limits_{i=1}^nx_iy_i-n\\bar{x}\\bar{y}$$ <br>\n",
    "$$S_{xx} = \\sum\\limits_{i=1}^n{(x_i-\\bar{x})}^2=\\sum\\limits_{i=1}^n{x_i}^2-n\\bar{x}^2$$ <br>\n",
    "$SS_{xx}$ is the sum of the squares of the difference between each 𝑥 and the mean 𝑥 value, and <br>\n",
    "$SS_{xy}$ is sum of the product of the difference between 𝑥 its means and the difference between 𝑦 and its mean.\n",
    "$$S_{yy} = \\sum\\limits_{i=1}^n{(y_i-\\bar{y})}^2=\\sum\\limits_{i=1}^n{y_i}^2-n\\bar{y}^2$$ <br>\n",
    "then the values for $\\hat{\\beta_0}$ and $\\hat{\\beta_1}$ minimizing $e$ or, equivalently, solving the\n",
    "normal equations are <br>\n",
    "$$\\hat{\\beta_0}=\\bar{y}-\\hat{\\beta_1}\\bar{x}$$ <br>\n",
    "$$\\hat{\\beta_1}=\\frac{S_{xy}}{S_{xx}}$$\n"
   ]
  },
  {
   "cell_type": "markdown",
   "metadata": {},
   "source": [
    "### The classic approach in Python"
   ]
  },
  {
   "cell_type": "markdown",
   "metadata": {},
   "source": [
    "$\\beta_1 = \\frac{S_{xy}}{\\sigma_{x}^{2}}\\quad$  (slope/coefficient)\n",
    "\n",
    "\n",
    "$\\beta_0 = \\bar{y} - \\beta_1\\bar{x}\\quad$ (y-axis intercept)\n",
    "\n",
    "where \n",
    "\n",
    "\n",
    "$S_{xy} = \\sum_{i=1}^{n} (x_i - \\bar{x})(y_i - \\bar{y})\\quad$ (covariance)\n",
    "\n",
    "\n",
    "$\\sigma{_x}^{2} = \\sum_{i=1}^{n} (x_i - \\bar{x})^2\\quad$ (variance)"
   ]
  },
  {
   "cell_type": "code",
   "execution_count": 6,
   "metadata": {},
   "outputs": [],
   "source": [
    "\"\"\" Build a function to compute the least-squares solution to a linear matrix equation. \"\"\"\n",
    "\n",
    "def classic_lstsqr(x_list, y_list):\n",
    "    N = len(x_list)\n",
    "    x_avg = sum(x_list)/N\n",
    "    y_avg = sum(y_list)/N\n",
    "    var_x, cov_xy = 0, 0\n",
    "    for x,y in zip(x_list, y_list):\n",
    "        temp = x - x_avg\n",
    "        var_x += temp**2\n",
    "        cov_xy += temp * (y - y_avg)\n",
    "    slope = cov_xy / var_x\n",
    "    y_interc = y_avg - slope*x_avg\n",
    "    return (slope, y_interc)"
   ]
  },
  {
   "cell_type": "markdown",
   "metadata": {},
   "source": [
    "## Example: Advertising Data\n",
    "\n",
    "<img style=\"float: right;\" src=\"images/sales.png\"  width=\"350\">\n",
    "\n",
    "\n",
    "\n",
    "*Adapted from Chapter 3 of [An Introduction to Statistical Learning](http://www-bcf.usc.edu/~gareth/ISL/)\n",
    "\n",
    "Let's take a look at some data, ask some questions about that data, and then use linear regression to answer those questions!\n",
    "\n",
    "On the basis of this data, how should we spend our advertising money in the future?\n",
    "\n",
    "This general question might lead you to more specific questions:\n",
    "1. Is there a relationship between ads and sales?\n",
    "2. How strong is that relationship?\n",
    "3. Which ad types contribute to sales?\n",
    "4. What is the effect of each ad type of sales?\n",
    "5. Given ad spending in a particular market, can sales be predicted?\n",
    "\n",
    "We will explore these questions below!"
   ]
  },
  {
   "cell_type": "code",
   "execution_count": 6,
   "metadata": {},
   "outputs": [
    {
     "data": {
      "text/html": [
       "<div>\n",
       "<style scoped>\n",
       "    .dataframe tbody tr th:only-of-type {\n",
       "        vertical-align: middle;\n",
       "    }\n",
       "\n",
       "    .dataframe tbody tr th {\n",
       "        vertical-align: top;\n",
       "    }\n",
       "\n",
       "    .dataframe thead th {\n",
       "        text-align: right;\n",
       "    }\n",
       "</style>\n",
       "<table border=\"1\" class=\"dataframe\">\n",
       "  <thead>\n",
       "    <tr style=\"text-align: right;\">\n",
       "      <th></th>\n",
       "      <th>TV</th>\n",
       "      <th>Radio</th>\n",
       "      <th>Newspaper</th>\n",
       "      <th>Sales</th>\n",
       "    </tr>\n",
       "  </thead>\n",
       "  <tbody>\n",
       "    <tr>\n",
       "      <th>1</th>\n",
       "      <td>230.1</td>\n",
       "      <td>37.8</td>\n",
       "      <td>69.2</td>\n",
       "      <td>22.1</td>\n",
       "    </tr>\n",
       "    <tr>\n",
       "      <th>2</th>\n",
       "      <td>44.5</td>\n",
       "      <td>39.3</td>\n",
       "      <td>45.1</td>\n",
       "      <td>10.4</td>\n",
       "    </tr>\n",
       "    <tr>\n",
       "      <th>3</th>\n",
       "      <td>17.2</td>\n",
       "      <td>45.9</td>\n",
       "      <td>69.3</td>\n",
       "      <td>9.3</td>\n",
       "    </tr>\n",
       "    <tr>\n",
       "      <th>4</th>\n",
       "      <td>151.5</td>\n",
       "      <td>41.3</td>\n",
       "      <td>58.5</td>\n",
       "      <td>18.5</td>\n",
       "    </tr>\n",
       "    <tr>\n",
       "      <th>5</th>\n",
       "      <td>180.8</td>\n",
       "      <td>10.8</td>\n",
       "      <td>58.4</td>\n",
       "      <td>12.9</td>\n",
       "    </tr>\n",
       "    <tr>\n",
       "      <th>6</th>\n",
       "      <td>8.7</td>\n",
       "      <td>48.9</td>\n",
       "      <td>75.0</td>\n",
       "      <td>7.2</td>\n",
       "    </tr>\n",
       "    <tr>\n",
       "      <th>7</th>\n",
       "      <td>57.5</td>\n",
       "      <td>32.8</td>\n",
       "      <td>23.5</td>\n",
       "      <td>11.8</td>\n",
       "    </tr>\n",
       "    <tr>\n",
       "      <th>8</th>\n",
       "      <td>120.2</td>\n",
       "      <td>19.6</td>\n",
       "      <td>11.6</td>\n",
       "      <td>13.2</td>\n",
       "    </tr>\n",
       "    <tr>\n",
       "      <th>9</th>\n",
       "      <td>8.6</td>\n",
       "      <td>2.1</td>\n",
       "      <td>1.0</td>\n",
       "      <td>4.8</td>\n",
       "    </tr>\n",
       "    <tr>\n",
       "      <th>10</th>\n",
       "      <td>199.8</td>\n",
       "      <td>2.6</td>\n",
       "      <td>21.2</td>\n",
       "      <td>10.6</td>\n",
       "    </tr>\n",
       "  </tbody>\n",
       "</table>\n",
       "</div>"
      ],
      "text/plain": [
       "       TV  Radio  Newspaper  Sales\n",
       "1   230.1   37.8       69.2   22.1\n",
       "2    44.5   39.3       45.1   10.4\n",
       "3    17.2   45.9       69.3    9.3\n",
       "4   151.5   41.3       58.5   18.5\n",
       "5   180.8   10.8       58.4   12.9\n",
       "6     8.7   48.9       75.0    7.2\n",
       "7    57.5   32.8       23.5   11.8\n",
       "8   120.2   19.6       11.6   13.2\n",
       "9     8.6    2.1        1.0    4.8\n",
       "10  199.8    2.6       21.2   10.6"
      ]
     },
     "execution_count": 6,
     "metadata": {},
     "output_type": "execute_result"
    }
   ],
   "source": [
    "# read data into a DataFrame\n",
    "import pandas as pd\n",
    "data = pd.read_csv('https://raw.githubusercontent.com/justmarkham/scikit-learn-videos/master/data/Advertising.csv', index_col=0)\n",
    "data.head(10)"
   ]
  },
  {
   "cell_type": "markdown",
   "metadata": {},
   "source": [
    "What are the **features**?\n",
    "- TV: advertising dollars spent on TV for a single product in a given market (in thousands of dollars)\n",
    "- Radio: advertising dollars spent on Radio\n",
    "- Newspaper: advertising dollars spent on Newspaper\n",
    "\n",
    "What is the **response**?\n",
    "- Sales: sales of a single product in a given market (in thousands of widgets)"
   ]
  },
  {
   "cell_type": "code",
   "execution_count": 8,
   "metadata": {},
   "outputs": [
    {
     "data": {
      "text/plain": [
       "(200, 4)"
      ]
     },
     "execution_count": 8,
     "metadata": {},
     "output_type": "execute_result"
    }
   ],
   "source": [
    "# print the shape of the DataFrame\n",
    "data.shape"
   ]
  },
  {
   "cell_type": "markdown",
   "metadata": {},
   "source": [
    "There are 200 **observations**, and thus 200 markets in the dataset."
   ]
  },
  {
   "cell_type": "code",
   "execution_count": 9,
   "metadata": {},
   "outputs": [
    {
     "data": {
      "text/plain": [
       "<matplotlib.axes._subplots.AxesSubplot at 0x2a74e88b6d0>"
      ]
     },
     "execution_count": 9,
     "metadata": {},
     "output_type": "execute_result"
    },
    {
     "data": {
      "image/png": "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\n",
      "text/plain": [
       "<Figure size 1152x576 with 3 Axes>"
      ]
     },
     "metadata": {
      "needs_background": "light"
     },
     "output_type": "display_data"
    }
   ],
   "source": [
    "# visualize the relationship between the features and the response using scatterplots\n",
    "fig, axs = plt.subplots(1, 3, sharey=True)\n",
    "data.plot(kind='scatter', x='TV', y='sales', ax=axs[0], figsize=(16, 8))\n",
    "data.plot(kind='scatter', x='radio', y='sales', ax=axs[1])\n",
    "data.plot(kind='scatter', x='newspaper', y='sales', ax=axs[2])"
   ]
  },
  {
   "cell_type": "markdown",
   "metadata": {},
   "source": [
    "Let's use **Statsmodels** to estimate the model coefficients for the advertising data:"
   ]
  },
  {
   "cell_type": "code",
   "execution_count": 9,
   "metadata": {},
   "outputs": [
    {
     "data": {
      "text/plain": [
       "Intercept    7.032594\n",
       "TV           0.047537\n",
       "dtype: float64"
      ]
     },
     "execution_count": 9,
     "metadata": {},
     "output_type": "execute_result"
    }
   ],
   "source": [
    "# this is the standard import if you're using \"formula notation\" \n",
    "import statsmodels.formula.api as smf\n",
    "\n",
    "# create a fitted model in one line\n",
    "lm = smf.ols(formula='Sales ~ TV', data=data).fit()\n",
    "\n",
    "# print the coefficients\n",
    "lm.params"
   ]
  },
  {
   "cell_type": "code",
   "execution_count": 12,
   "metadata": {},
   "outputs": [
    {
     "data": {
      "text/html": [
       "<table class=\"simpletable\">\n",
       "<caption>OLS Regression Results</caption>\n",
       "<tr>\n",
       "  <th>Dep. Variable:</th>          <td>Sales</td>      <th>  R-squared:         </th> <td>   0.612</td>\n",
       "</tr>\n",
       "<tr>\n",
       "  <th>Model:</th>                   <td>OLS</td>       <th>  Adj. R-squared:    </th> <td>   0.610</td>\n",
       "</tr>\n",
       "<tr>\n",
       "  <th>Method:</th>             <td>Least Squares</td>  <th>  F-statistic:       </th> <td>   312.1</td>\n",
       "</tr>\n",
       "<tr>\n",
       "  <th>Date:</th>             <td>Tue, 07 Sep 2021</td> <th>  Prob (F-statistic):</th> <td>1.47e-42</td>\n",
       "</tr>\n",
       "<tr>\n",
       "  <th>Time:</th>                 <td>12:11:33</td>     <th>  Log-Likelihood:    </th> <td> -519.05</td>\n",
       "</tr>\n",
       "<tr>\n",
       "  <th>No. Observations:</th>      <td>   200</td>      <th>  AIC:               </th> <td>   1042.</td>\n",
       "</tr>\n",
       "<tr>\n",
       "  <th>Df Residuals:</th>          <td>   198</td>      <th>  BIC:               </th> <td>   1049.</td>\n",
       "</tr>\n",
       "<tr>\n",
       "  <th>Df Model:</th>              <td>     1</td>      <th>                     </th>     <td> </td>   \n",
       "</tr>\n",
       "<tr>\n",
       "  <th>Covariance Type:</th>      <td>nonrobust</td>    <th>                     </th>     <td> </td>   \n",
       "</tr>\n",
       "</table>\n",
       "<table class=\"simpletable\">\n",
       "<tr>\n",
       "      <td></td>         <th>coef</th>     <th>std err</th>      <th>t</th>      <th>P>|t|</th>  <th>[0.025</th>    <th>0.975]</th>  \n",
       "</tr>\n",
       "<tr>\n",
       "  <th>Intercept</th> <td>    7.0326</td> <td>    0.458</td> <td>   15.360</td> <td> 0.000</td> <td>    6.130</td> <td>    7.935</td>\n",
       "</tr>\n",
       "<tr>\n",
       "  <th>TV</th>        <td>    0.0475</td> <td>    0.003</td> <td>   17.668</td> <td> 0.000</td> <td>    0.042</td> <td>    0.053</td>\n",
       "</tr>\n",
       "</table>\n",
       "<table class=\"simpletable\">\n",
       "<tr>\n",
       "  <th>Omnibus:</th>       <td> 0.531</td> <th>  Durbin-Watson:     </th> <td>   1.935</td>\n",
       "</tr>\n",
       "<tr>\n",
       "  <th>Prob(Omnibus):</th> <td> 0.767</td> <th>  Jarque-Bera (JB):  </th> <td>   0.669</td>\n",
       "</tr>\n",
       "<tr>\n",
       "  <th>Skew:</th>          <td>-0.089</td> <th>  Prob(JB):          </th> <td>   0.716</td>\n",
       "</tr>\n",
       "<tr>\n",
       "  <th>Kurtosis:</th>      <td> 2.779</td> <th>  Cond. No.          </th> <td>    338.</td>\n",
       "</tr>\n",
       "</table><br/><br/>Warnings:<br/>[1] Standard Errors assume that the covariance matrix of the errors is correctly specified."
      ],
      "text/plain": [
       "<class 'statsmodels.iolib.summary.Summary'>\n",
       "\"\"\"\n",
       "                            OLS Regression Results                            \n",
       "==============================================================================\n",
       "Dep. Variable:                  Sales   R-squared:                       0.612\n",
       "Model:                            OLS   Adj. R-squared:                  0.610\n",
       "Method:                 Least Squares   F-statistic:                     312.1\n",
       "Date:                Tue, 07 Sep 2021   Prob (F-statistic):           1.47e-42\n",
       "Time:                        12:11:33   Log-Likelihood:                -519.05\n",
       "No. Observations:                 200   AIC:                             1042.\n",
       "Df Residuals:                     198   BIC:                             1049.\n",
       "Df Model:                           1                                         \n",
       "Covariance Type:            nonrobust                                         \n",
       "==============================================================================\n",
       "                 coef    std err          t      P>|t|      [0.025      0.975]\n",
       "------------------------------------------------------------------------------\n",
       "Intercept      7.0326      0.458     15.360      0.000       6.130       7.935\n",
       "TV             0.0475      0.003     17.668      0.000       0.042       0.053\n",
       "==============================================================================\n",
       "Omnibus:                        0.531   Durbin-Watson:                   1.935\n",
       "Prob(Omnibus):                  0.767   Jarque-Bera (JB):                0.669\n",
       "Skew:                          -0.089   Prob(JB):                        0.716\n",
       "Kurtosis:                       2.779   Cond. No.                         338.\n",
       "==============================================================================\n",
       "\n",
       "Warnings:\n",
       "[1] Standard Errors assume that the covariance matrix of the errors is correctly specified.\n",
       "\"\"\""
      ]
     },
     "execution_count": 12,
     "metadata": {},
     "output_type": "execute_result"
    }
   ],
   "source": [
    "lm.summary()"
   ]
  },
  {
   "cell_type": "markdown",
   "metadata": {},
   "source": [
    "## Interpreting Model Coefficients\n",
    "\n",
    "How do we interpret the TV coefficient ($\\beta_1$)?\n",
    "- A \"unit\" increase in TV ad spending is **associated with** a 0.047537 \"unit\" increase in Sales.\n",
    "- Or more clearly: An additional $1,000 spent on TV ads is **associated with** an increase in sales of 47.537 widgets.\n",
    "\n",
    "Note that if an increase in TV ad spending was associated with a **decrease** in sales, $\\beta_1$ would be **negative**."
   ]
  },
  {
   "cell_type": "markdown",
   "metadata": {},
   "source": [
    "## Using the Model for Prediction\n",
    "\n",
    "Let's say that there was a new market where the TV advertising spend was **$50,000**. What would we predict for the Sales in that market?\n",
    "\n",
    "$$y = \\beta_0 + \\beta_1x$$\n",
    "$$y = 7.032594 + 0.047537 \\times 50$$"
   ]
  },
  {
   "cell_type": "code",
   "execution_count": 11,
   "metadata": {},
   "outputs": [
    {
     "data": {
      "text/plain": [
       "9.409444"
      ]
     },
     "execution_count": 11,
     "metadata": {},
     "output_type": "execute_result"
    }
   ],
   "source": [
    "# manually calculate the prediction\n",
    "7.032594 + 0.047537*50"
   ]
  },
  {
   "cell_type": "markdown",
   "metadata": {},
   "source": [
    "Thus, we would predict Sales of **9,409 widgets** in that market.\n",
    "\n",
    "Of course, we can also use Statsmodels to make the prediction:"
   ]
  },
  {
   "cell_type": "code",
   "execution_count": 12,
   "metadata": {},
   "outputs": [
    {
     "data": {
      "text/html": [
       "<div>\n",
       "<style scoped>\n",
       "    .dataframe tbody tr th:only-of-type {\n",
       "        vertical-align: middle;\n",
       "    }\n",
       "\n",
       "    .dataframe tbody tr th {\n",
       "        vertical-align: top;\n",
       "    }\n",
       "\n",
       "    .dataframe thead th {\n",
       "        text-align: right;\n",
       "    }\n",
       "</style>\n",
       "<table border=\"1\" class=\"dataframe\">\n",
       "  <thead>\n",
       "    <tr style=\"text-align: right;\">\n",
       "      <th></th>\n",
       "      <th>TV</th>\n",
       "    </tr>\n",
       "  </thead>\n",
       "  <tbody>\n",
       "    <tr>\n",
       "      <th>0</th>\n",
       "      <td>50</td>\n",
       "    </tr>\n",
       "  </tbody>\n",
       "</table>\n",
       "</div>"
      ],
      "text/plain": [
       "   TV\n",
       "0  50"
      ]
     },
     "execution_count": 12,
     "metadata": {},
     "output_type": "execute_result"
    }
   ],
   "source": [
    "# you have to create a DataFrame since the Statsmodels formula interface expects it\n",
    "X_new = pd.DataFrame({'TV': [50]})\n",
    "X_new.head()"
   ]
  },
  {
   "cell_type": "code",
   "execution_count": 13,
   "metadata": {},
   "outputs": [
    {
     "data": {
      "text/plain": [
       "0    9.409426\n",
       "dtype: float64"
      ]
     },
     "execution_count": 13,
     "metadata": {},
     "output_type": "execute_result"
    }
   ],
   "source": [
    "# use the model to make predictions on a new value\n",
    "lm.predict(X_new)"
   ]
  },
  {
   "cell_type": "markdown",
   "metadata": {},
   "source": [
    "## Plotting the Least Squares Line\n",
    "\n",
    "Let's make predictions for the **smallest and largest observed values of x**, and then use the predicted values to plot the least squares line:"
   ]
  },
  {
   "cell_type": "code",
   "execution_count": 16,
   "metadata": {},
   "outputs": [
    {
     "data": {
      "text/html": [
       "<div>\n",
       "<style scoped>\n",
       "    .dataframe tbody tr th:only-of-type {\n",
       "        vertical-align: middle;\n",
       "    }\n",
       "\n",
       "    .dataframe tbody tr th {\n",
       "        vertical-align: top;\n",
       "    }\n",
       "\n",
       "    .dataframe thead th {\n",
       "        text-align: right;\n",
       "    }\n",
       "</style>\n",
       "<table border=\"1\" class=\"dataframe\">\n",
       "  <thead>\n",
       "    <tr style=\"text-align: right;\">\n",
       "      <th></th>\n",
       "      <th>TV</th>\n",
       "    </tr>\n",
       "  </thead>\n",
       "  <tbody>\n",
       "    <tr>\n",
       "      <th>0</th>\n",
       "      <td>0.7</td>\n",
       "    </tr>\n",
       "    <tr>\n",
       "      <th>1</th>\n",
       "      <td>296.4</td>\n",
       "    </tr>\n",
       "  </tbody>\n",
       "</table>\n",
       "</div>"
      ],
      "text/plain": [
       "      TV\n",
       "0    0.7\n",
       "1  296.4"
      ]
     },
     "execution_count": 16,
     "metadata": {},
     "output_type": "execute_result"
    }
   ],
   "source": [
    "# create a DataFrame with the minimum and maximum values of TV\n",
    "X_new = pd.DataFrame({'TV': [data.TV.min(), data.TV.max()]})\n",
    "X_new.head()"
   ]
  },
  {
   "cell_type": "code",
   "execution_count": 17,
   "metadata": {},
   "outputs": [
    {
     "data": {
      "text/plain": [
       "0     7.065869\n",
       "1    21.122454\n",
       "dtype: float64"
      ]
     },
     "execution_count": 17,
     "metadata": {},
     "output_type": "execute_result"
    }
   ],
   "source": [
    "# make predictions for those x values and store them\n",
    "preds = lm.predict(X_new)\n",
    "preds"
   ]
  },
  {
   "cell_type": "code",
   "execution_count": 18,
   "metadata": {},
   "outputs": [
    {
     "data": {
      "text/plain": [
       "[<matplotlib.lines.Line2D at 0x1a243bc080>]"
      ]
     },
     "execution_count": 18,
     "metadata": {},
     "output_type": "execute_result"
    },
    {
     "data": {
      "image/png": "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\n",
      "text/plain": [
       "<Figure size 432x288 with 1 Axes>"
      ]
     },
     "metadata": {
      "needs_background": "light"
     },
     "output_type": "display_data"
    }
   ],
   "source": [
    "# first, plot the observed data\n",
    "data.plot(kind='scatter', x='TV', y='sales')\n",
    "\n",
    "# then, plot the least squares line\n",
    "plt.plot(X_new, preds, c='red', linewidth=2)"
   ]
  },
  {
   "cell_type": "markdown",
   "metadata": {},
   "source": [
    "## Multiple Linear Regression\n",
    "\n",
    "Simple linear regression can easily be extended to include multiple features. This is called **multiple linear regression**:\n",
    "\n",
    "$y = \\beta_0 + \\beta_1x_1 + ... + \\beta_nx_n$\n",
    "\n",
    "Each $x$ represents a different feature, and each feature has its own coefficient. In this case:\n",
    "\n",
    "$y = \\beta_0 + \\beta_1 \\times TV + \\beta_2 \\times Radio + \\beta_3 \\times Newspaper$\n",
    "\n",
    "Let's use Statsmodels to estimate these coefficients:"
   ]
  },
  {
   "cell_type": "code",
   "execution_count": 9,
   "metadata": {},
   "outputs": [
    {
     "data": {
      "text/plain": [
       "Intercept    2.938889\n",
       "TV           0.045765\n",
       "radio        0.188530\n",
       "newspaper   -0.001037\n",
       "dtype: float64"
      ]
     },
     "execution_count": 9,
     "metadata": {},
     "output_type": "execute_result"
    }
   ],
   "source": [
    "# create a fitted model with all three features\n",
    "lm = smf.ols(formula='sales ~ TV + radio + newspaper', data=data).fit()\n",
    "\n",
    "# print the coefficients\n",
    "lm.params"
   ]
  },
  {
   "cell_type": "markdown",
   "metadata": {},
   "source": [
    "How do we interpret these coefficients? For a given amount of Radio and Newspaper ad spending, an **increase of $1000 in TV ad spending** is associated with an **increase in Sales of 45.765 widgets**.\n",
    "\n",
    "A lot of the information we have been reviewing piece-by-piece is available in the model summary output:"
   ]
  },
  {
   "cell_type": "code",
   "execution_count": 12,
   "metadata": {},
   "outputs": [
    {
     "data": {
      "text/html": [
       "<table class=\"simpletable\">\n",
       "<caption>OLS Regression Results</caption>\n",
       "<tr>\n",
       "  <th>Dep. Variable:</th>          <td>sales</td>      <th>  R-squared:         </th> <td>   0.897</td>\n",
       "</tr>\n",
       "<tr>\n",
       "  <th>Model:</th>                   <td>OLS</td>       <th>  Adj. R-squared:    </th> <td>   0.896</td>\n",
       "</tr>\n",
       "<tr>\n",
       "  <th>Method:</th>             <td>Least Squares</td>  <th>  F-statistic:       </th> <td>   570.3</td>\n",
       "</tr>\n",
       "<tr>\n",
       "  <th>Date:</th>             <td>Tue, 15 Sep 2020</td> <th>  Prob (F-statistic):</th> <td>1.58e-96</td>\n",
       "</tr>\n",
       "<tr>\n",
       "  <th>Time:</th>                 <td>11:52:20</td>     <th>  Log-Likelihood:    </th> <td> -386.18</td>\n",
       "</tr>\n",
       "<tr>\n",
       "  <th>No. Observations:</th>      <td>   200</td>      <th>  AIC:               </th> <td>   780.4</td>\n",
       "</tr>\n",
       "<tr>\n",
       "  <th>Df Residuals:</th>          <td>   196</td>      <th>  BIC:               </th> <td>   793.6</td>\n",
       "</tr>\n",
       "<tr>\n",
       "  <th>Df Model:</th>              <td>     3</td>      <th>                     </th>     <td> </td>   \n",
       "</tr>\n",
       "<tr>\n",
       "  <th>Covariance Type:</th>      <td>nonrobust</td>    <th>                     </th>     <td> </td>   \n",
       "</tr>\n",
       "</table>\n",
       "<table class=\"simpletable\">\n",
       "<tr>\n",
       "      <td></td>         <th>coef</th>     <th>std err</th>      <th>t</th>      <th>P>|t|</th>  <th>[0.025</th>    <th>0.975]</th>  \n",
       "</tr>\n",
       "<tr>\n",
       "  <th>Intercept</th> <td>    2.9389</td> <td>    0.312</td> <td>    9.422</td> <td> 0.000</td> <td>    2.324</td> <td>    3.554</td>\n",
       "</tr>\n",
       "<tr>\n",
       "  <th>TV</th>        <td>    0.0458</td> <td>    0.001</td> <td>   32.809</td> <td> 0.000</td> <td>    0.043</td> <td>    0.049</td>\n",
       "</tr>\n",
       "<tr>\n",
       "  <th>radio</th>     <td>    0.1885</td> <td>    0.009</td> <td>   21.893</td> <td> 0.000</td> <td>    0.172</td> <td>    0.206</td>\n",
       "</tr>\n",
       "<tr>\n",
       "  <th>newspaper</th> <td>   -0.0010</td> <td>    0.006</td> <td>   -0.177</td> <td> 0.860</td> <td>   -0.013</td> <td>    0.011</td>\n",
       "</tr>\n",
       "</table>\n",
       "<table class=\"simpletable\">\n",
       "<tr>\n",
       "  <th>Omnibus:</th>       <td>60.414</td> <th>  Durbin-Watson:     </th> <td>   2.084</td>\n",
       "</tr>\n",
       "<tr>\n",
       "  <th>Prob(Omnibus):</th> <td> 0.000</td> <th>  Jarque-Bera (JB):  </th> <td> 151.241</td>\n",
       "</tr>\n",
       "<tr>\n",
       "  <th>Skew:</th>          <td>-1.327</td> <th>  Prob(JB):          </th> <td>1.44e-33</td>\n",
       "</tr>\n",
       "<tr>\n",
       "  <th>Kurtosis:</th>      <td> 6.332</td> <th>  Cond. No.          </th> <td>    454.</td>\n",
       "</tr>\n",
       "</table><br/><br/>Warnings:<br/>[1] Standard Errors assume that the covariance matrix of the errors is correctly specified."
      ],
      "text/plain": [
       "<class 'statsmodels.iolib.summary.Summary'>\n",
       "\"\"\"\n",
       "                            OLS Regression Results                            \n",
       "==============================================================================\n",
       "Dep. Variable:                  sales   R-squared:                       0.897\n",
       "Model:                            OLS   Adj. R-squared:                  0.896\n",
       "Method:                 Least Squares   F-statistic:                     570.3\n",
       "Date:                Tue, 15 Sep 2020   Prob (F-statistic):           1.58e-96\n",
       "Time:                        11:52:20   Log-Likelihood:                -386.18\n",
       "No. Observations:                 200   AIC:                             780.4\n",
       "Df Residuals:                     196   BIC:                             793.6\n",
       "Df Model:                           3                                         \n",
       "Covariance Type:            nonrobust                                         \n",
       "==============================================================================\n",
       "                 coef    std err          t      P>|t|      [0.025      0.975]\n",
       "------------------------------------------------------------------------------\n",
       "Intercept      2.9389      0.312      9.422      0.000       2.324       3.554\n",
       "TV             0.0458      0.001     32.809      0.000       0.043       0.049\n",
       "radio          0.1885      0.009     21.893      0.000       0.172       0.206\n",
       "newspaper     -0.0010      0.006     -0.177      0.860      -0.013       0.011\n",
       "==============================================================================\n",
       "Omnibus:                       60.414   Durbin-Watson:                   2.084\n",
       "Prob(Omnibus):                  0.000   Jarque-Bera (JB):              151.241\n",
       "Skew:                          -1.327   Prob(JB):                     1.44e-33\n",
       "Kurtosis:                       6.332   Cond. No.                         454.\n",
       "==============================================================================\n",
       "\n",
       "Warnings:\n",
       "[1] Standard Errors assume that the covariance matrix of the errors is correctly specified.\n",
       "\"\"\""
      ]
     },
     "execution_count": 12,
     "metadata": {},
     "output_type": "execute_result"
    }
   ],
   "source": [
    "# print a summary of the fitted model\n",
    "lm.summary()"
   ]
  },
  {
   "cell_type": "markdown",
   "metadata": {},
   "source": [
    "What are a few key things we learn from this output?\n",
    "\n",
    "- TV and Radio have significant **p-values**, whereas Newspaper does not. Thus we reject the null hypothesis for TV and Radio (that there is no association between those features and Sales), and fail to reject the null hypothesis for Newspaper.\n",
    "- TV and Radio ad spending are both **positively associated** with Sales, whereas Newspaper ad spending is **slightly negatively associated** with Sales. (However, this is irrelevant since we have failed to reject the null hypothesis for Newspaper.)\n",
    "- This model has a higher **R-squared** (0.897) than the previous model, which means that this model provides a better fit to the data than a model that only includes TV."
   ]
  },
  {
   "cell_type": "markdown",
   "metadata": {},
   "source": [
    "How do I decide **which features to include** in a linear model? Here's one idea:\n",
    "- Try different models, and only keep predictors in the model if they have small p-values.\n",
    "- Check whether the Adj. R-squared value goes up when you add new predictors.\n",
    "\n",
    "> The adjusted R-squared increases only if the new term improves the model more than would be expected by chance. It decreases when a predictor improves the model by less than expected by chance.\n",
    "\n",
    "> Is there a better approach to feature selection? Cross-validation. It provides a more reliable estimate of out-of-sample error, and thus is a better way to choose which of your models will best generalize to out-of-sample data. There is extensive functionality for cross-validation in scikit-learn, including automated methods for searching different sets of parameters and different models.\n"
   ]
  },
  {
   "cell_type": "code",
   "execution_count": 15,
   "metadata": {},
   "outputs": [
    {
     "data": {
      "text/plain": [
       "0.8961505479974428"
      ]
     },
     "execution_count": 15,
     "metadata": {},
     "output_type": "execute_result"
    }
   ],
   "source": [
    "# only include TV and Radio in the model\n",
    "lm = smf.ols(formula='sales ~ TV + radio', data=data).fit()\n",
    "lm.rsquared_adj"
   ]
  },
  {
   "cell_type": "code",
   "execution_count": 16,
   "metadata": {},
   "outputs": [
    {
     "data": {
      "text/plain": [
       "0.8956373316204668"
      ]
     },
     "execution_count": 16,
     "metadata": {},
     "output_type": "execute_result"
    }
   ],
   "source": [
    "# add Newspaper to the model (which we believe has no association with Sales)\n",
    "lm = smf.ols(formula='sales ~ TV + radio + newspaper', data=data).fit()\n",
    "lm.rsquared_adj"
   ]
  },
  {
   "cell_type": "markdown",
   "metadata": {},
   "source": [
    "### Example: Capital Asset Pricing Model (CAPM)\n",
    "\n",
    "We briefly explore the mathematical and explanatory description of key asset pricing models (i.e., CAPM, Fama-French 3 Factor, Fama-French 5 factor), and how to run these models in Python.\n",
    "\n",
    "https://mba.tuck.dartmouth.edu/pages/faculty/ken.french/index.html"
   ]
  },
  {
   "cell_type": "markdown",
   "metadata": {},
   "source": [
    "All finance students should have some knowledge of one of the most important topics in finance, that is the Capital Asset Pricing Model (CAPM). The Capital Asset Pricing Model (CAPM) describes the relationship between systematic risk and expected return for assets, particularly stocks. CAPM is widely used throughout finance for pricing risky securities and generating expected returns for assets given the risk of those assets and cost of capital.\n",
    "\n",
    "The formula for calculating the expected return of an asset given its risk is as follows:\n",
    "\n",
    "### $ r_i = r_f + \\beta_i (r_m − r_f)$\n",
    "\n",
    "where:\n",
    "\n",
    "\n",
    "$r_i$ : The expected return of the investment in asset i. This can be the return of the any stock (i.e., Apple, Google, Tesla) or investment portfolio (i.e., any mutual/hedge fund portfolio).\n",
    "\n",
    "$r_f$: The return of the risk-free asset. The risk-free asset is usually given by the US 3-month Treasury bill. It is assumed that the US government will not default on a short-term government security, thus the US 3-month Treasury bill is widely assumed in finance to be risk-free. \n",
    "\n",
    "$r_m$ : The return of the market. This is usually given by the S&P500 return as it is the largest market index in the world.\n",
    "\n",
    "$(r_m − r_f)$ : Market risk premium\n",
    "\n",
    "\n",
    "Investors expect to be compensated for risk and the time value of money. The risk-free rate in the CAPM formula accounts for the time value of money. The other components of the CAPM formula account for the investor taking on additional risk.\n",
    "\n",
    "The beta of a potential investment is a measure of how much risk the investment will add to a portfolio that looks like the market. If a stock is riskier than the market, it will have a beta greater than one. If a stock has a beta of less than one, the formula assumes it will reduce the risk of a portfolio.\n",
    "\n",
    "A beta coefficient can measure the volatility of an individual stock compared to the systematic risk of the entire market. In statistical terms, beta represents the slope of the line through a regression of data points. In finance, each of these data points represents an individual stock's returns against those of the market as a whole.\n",
    "\n",
    "A stock’s beta is then multiplied by the market risk premium, which is the return expected from the market above the risk-free rate. The risk-free rate is then added to the product of the stock’s beta and the market risk premium. The result should give an investor the required return or discount rate they can use to find the value of an asset.\n",
    "\n",
    "The goal of the CAPM formula is to evaluate whether a stock is fairly valued when its risk and the time value of money are compared to its expected return.\n"
   ]
  },
  {
   "cell_type": "markdown",
   "metadata": {},
   "source": [
    "### Factor Investing and Fama-French model"
   ]
  },
  {
   "cell_type": "markdown",
   "metadata": {},
   "source": [
    "#### FF3 Factor Asset Pricing Model\n",
    "\n",
    "The Fama and French Three-Factor Model (or the Fama French Model for short) is an asset pricing model developed in 1992 that expands on the capital asset pricing model (CAPM) by adding size risk and value risk factors to the market risk factor in CAPM. This model considers the fact that value and small-cap stocks outperform markets on a regular basis. By including these two additional factors, the model adjusts for this outperforming tendency, which is thought to make it a better tool for evaluating manager performance. The model is essentially the result of an econometric regression of historical stock prices.\n",
    "\n",
    "The Formula for the Fama French Model Is:\n",
    "\n",
    "### $ r_{it} - r_{ft} = \\alpha_{it} + \\beta_1 (r_{mt} − r_{ft}) + \\beta_2 SMB_t + \\beta_3 HML_t + \\epsilon_{it}$\n",
    "\n",
    "$SMB$ : Size premium (small minus big)\n",
    "\n",
    "$HML$ : Value premium (High minus low)\n",
    "\n",
    "\n",
    "SMB accounts for traded companies with small market caps that generate higher returns, while HML accounts for value stocks with high book-to-market ratios that generate higher returns in comparison to the market.\n",
    "\n",
    "\n",
    "#### FF5 Factor Asset Pricing Model\n",
    "\n",
    "The theoretical starting point for the five-factor model is the dividend discount model as the model states that the value of a stock today is dependent upon future dividends. Fama and French use the dividend discount model to get two new factors from it, investment and profitability (Fama and French, 2014).\n",
    "\n",
    "### $ r_{it} - r_{ft} = \\alpha_{it} + \\beta_1 (r_{mt} − r_{ft}) + \\beta_2 SMB_t + \\beta_3 HML_t + \\beta_4 RMW_t + \\beta_5 CMA_t + \\epsilon_{it}$\n",
    "\n",
    "$RMW$ : Return spread of the most profitable firms minus the least profitables\n",
    "\n",
    "$CMA$ : Return spread of firms that invest conservatively minus aggressively\n",
    "\n"
   ]
  },
  {
   "cell_type": "markdown",
   "metadata": {},
   "source": [
    "## Statistical Analysis with statsmodels\n",
    "\n",
    "https://www.statsmodels.org"
   ]
  },
  {
   "cell_type": "markdown",
   "metadata": {},
   "source": [
    "statsmodels provides a large range of cross-sectional models as well as some time-series models. Basic linear regression is provided by OLS. Estimating a model requires specifying the model and then calling a method to estimate the parameters (named fit in most models). "
   ]
  },
  {
   "cell_type": "code",
   "execution_count": 3,
   "metadata": {},
   "outputs": [
    {
     "name": "stdout",
     "output_type": "stream",
     "text": [
      "Requirement already satisfied: yfinance in /anaconda3/lib/python3.7/site-packages (0.1.54)\n",
      "Requirement already satisfied: numpy>=1.15 in /anaconda3/lib/python3.7/site-packages (from yfinance) (1.15.4)\n",
      "Requirement already satisfied: requests>=2.20 in /anaconda3/lib/python3.7/site-packages (from yfinance) (2.25.0)\n",
      "Requirement already satisfied: multitasking>=0.0.7 in /anaconda3/lib/python3.7/site-packages (from yfinance) (0.0.7)\n",
      "Requirement already satisfied: pandas>=0.24 in /anaconda3/lib/python3.7/site-packages (from yfinance) (1.1.2)\n",
      "Requirement already satisfied: certifi>=2017.4.17 in /anaconda3/lib/python3.7/site-packages (from requests>=2.20->yfinance) (2018.11.29)\n",
      "Requirement already satisfied: urllib3<1.27,>=1.21.1 in /anaconda3/lib/python3.7/site-packages (from requests>=2.20->yfinance) (1.24.1)\n",
      "Requirement already satisfied: idna<3,>=2.5 in /anaconda3/lib/python3.7/site-packages (from requests>=2.20->yfinance) (2.8)\n",
      "Requirement already satisfied: chardet<4,>=3.0.2 in /anaconda3/lib/python3.7/site-packages (from requests>=2.20->yfinance) (3.0.4)\n",
      "Requirement already satisfied: pytz>=2017.2 in /anaconda3/lib/python3.7/site-packages (from pandas>=0.24->yfinance) (2018.7)\n",
      "Requirement already satisfied: python-dateutil>=2.7.3 in /anaconda3/lib/python3.7/site-packages (from pandas>=0.24->yfinance) (2.7.5)\n",
      "Requirement already satisfied: six>=1.5 in /anaconda3/lib/python3.7/site-packages (from python-dateutil>=2.7.3->pandas>=0.24->yfinance) (1.12.0)\n",
      "Requirement already up-to-date: pandas-datareader in /anaconda3/lib/python3.7/site-packages (0.9.0)\n",
      "Requirement already satisfied, skipping upgrade: pandas>=0.23 in /anaconda3/lib/python3.7/site-packages (from pandas-datareader) (1.1.2)\n",
      "Requirement already satisfied, skipping upgrade: lxml in /anaconda3/lib/python3.7/site-packages (from pandas-datareader) (4.2.5)\n",
      "Requirement already satisfied, skipping upgrade: requests>=2.19.0 in /anaconda3/lib/python3.7/site-packages (from pandas-datareader) (2.25.0)\n",
      "Requirement already satisfied, skipping upgrade: pytz>=2017.2 in /anaconda3/lib/python3.7/site-packages (from pandas>=0.23->pandas-datareader) (2018.7)\n",
      "Requirement already satisfied, skipping upgrade: python-dateutil>=2.7.3 in /anaconda3/lib/python3.7/site-packages (from pandas>=0.23->pandas-datareader) (2.7.5)\n",
      "Requirement already satisfied, skipping upgrade: numpy>=1.15.4 in /anaconda3/lib/python3.7/site-packages (from pandas>=0.23->pandas-datareader) (1.15.4)\n",
      "Requirement already satisfied, skipping upgrade: chardet<4,>=3.0.2 in /anaconda3/lib/python3.7/site-packages (from requests>=2.19.0->pandas-datareader) (3.0.4)\n",
      "Requirement already satisfied, skipping upgrade: urllib3<1.27,>=1.21.1 in /anaconda3/lib/python3.7/site-packages (from requests>=2.19.0->pandas-datareader) (1.24.1)\n",
      "Requirement already satisfied, skipping upgrade: certifi>=2017.4.17 in /anaconda3/lib/python3.7/site-packages (from requests>=2.19.0->pandas-datareader) (2018.11.29)\n",
      "Requirement already satisfied, skipping upgrade: idna<3,>=2.5 in /anaconda3/lib/python3.7/site-packages (from requests>=2.19.0->pandas-datareader) (2.8)\n",
      "Requirement already satisfied, skipping upgrade: six>=1.5 in /anaconda3/lib/python3.7/site-packages (from python-dateutil>=2.7.3->pandas>=0.23->pandas-datareader) (1.12.0)\n"
     ]
    }
   ],
   "source": [
    "! pip install yfinance\n",
    "! pip install pandas-datareader --upgrade\n",
    "import yfinance as yf\n",
    "import bs4 as bs\n",
    "import numpy as np\n",
    "import os\n",
    "import requests\n",
    "import pandas as pd\n",
    "import datetime\n",
    "import matplotlib.pyplot as plt\n",
    "from matplotlib.dates import DateFormatter\n",
    "import statsmodels.formula.api as sm # module for stats models\n",
    "from statsmodels.iolib.summary2 import summary_col # module for presenting stats models outputs nicely\n",
    "%matplotlib inline"
   ]
  },
  {
   "cell_type": "code",
   "execution_count": 10,
   "metadata": {},
   "outputs": [
    {
     "name": "stdout",
     "output_type": "stream",
     "text": [
      "[*********************100%***********************]  506 of 506 completed\n",
      "\n",
      "3 Failed downloads:\n",
      "- BF.B: No data found for this date range, symbol may be delisted\n",
      "- VNT: Data doesn't exist for startDate = 1136091600, endDate = 1593489600\n",
      "- BRK.B: No data found, symbol may be delisted\n",
      "                    A        AAL         AAP       AAPL       ABBV        ABC  \\\n",
      "Date                                                                            \n",
      "2006-01-03  20.752956  35.305672   41.007545   2.302969        NaN  16.858438   \n",
      "2006-01-04  20.808710  36.955460   41.299648   2.309747        NaN  16.746733   \n",
      "2006-01-05  21.353859  37.436264   41.497532   2.291571        NaN  16.539299   \n",
      "2006-01-06  21.465374  36.766911   41.450405   2.350724        NaN  16.355791   \n",
      "2006-01-09  21.403425  36.399246   41.987503   2.343021        NaN  16.355791   \n",
      "...               ...        ...         ...        ...        ...        ...   \n",
      "2020-06-24  86.223152  13.040000  142.547577  89.698242  92.729996  98.027679   \n",
      "2020-06-25  86.920433  13.170000  142.457855  90.889038  94.533134  99.842644   \n",
      "2020-06-26  85.565720  12.380000  139.547089  88.096405  93.694923  98.364883   \n",
      "2020-06-29  87.132896  13.320000  142.298355  90.126732  93.997070  98.176453   \n",
      "2020-06-30        NaN        NaN         NaN        NaN        NaN        NaN   \n",
      "\n",
      "                  ABMD        ABT         ACN        ADBE  ...       XLNX  \\\n",
      "Date                                                       ...              \n",
      "2006-01-03    9.350000  13.123610   22.026203   38.520000  ...  18.501081   \n",
      "2006-01-04    9.620000  13.143523   22.146482   38.419998  ...  19.333887   \n",
      "2006-01-05    9.550000  13.312750   22.311872   38.070000  ...  20.496935   \n",
      "2006-01-06    9.750000  13.568257   23.416941   39.000000  ...  20.906160   \n",
      "2006-01-09   10.150000  14.072625   23.349283   38.380001  ...  20.884611   \n",
      "...                ...        ...         ...         ...  ...        ...   \n",
      "2020-06-24  241.660004  86.673508  200.318817  431.679993  ...  92.290344   \n",
      "2020-06-25  241.750000  88.976860  215.682159  436.950012  ...  92.687759   \n",
      "2020-06-26  239.270004  88.073387  210.868698  426.920013  ...  90.432411   \n",
      "2020-06-29  240.220001  88.371239  211.116806  424.200012  ...  91.366348   \n",
      "2020-06-30         NaN        NaN         NaN         NaN  ...        NaN   \n",
      "\n",
      "                  XOM       XRAY        XRX        XYL        YUM         ZBH  \\\n",
      "Date                                                                            \n",
      "2006-01-03  36.244297  24.628942  27.373835        NaN  12.616449   63.187962   \n",
      "2006-01-04  36.306290  24.856865  27.337107        NaN  12.724398   63.787724   \n",
      "2006-01-05  36.126522  24.574240  27.043371        NaN  13.266838   63.114136   \n",
      "2006-01-06  36.839401  24.957150  26.878132        NaN  13.229057   62.791172   \n",
      "2006-01-09  36.820793  25.203304  27.245319        NaN  13.331607   65.014938   \n",
      "...               ...        ...        ...        ...        ...         ...   \n",
      "2020-06-24  42.611038  42.577591  14.844720  62.072720  85.753098  117.576492   \n",
      "2020-06-25  43.252594  42.637337  15.017443  61.784473  85.198318  114.672386   \n",
      "2020-06-26  41.768391  42.936058  14.451291  62.778431  83.999603  115.041138   \n",
      "2020-06-29  42.438679  43.722687  14.929422  63.871788  86.169189  116.506187   \n",
      "2020-06-30        NaN        NaN        NaN        NaN        NaN         NaN   \n",
      "\n",
      "                  ZBRA       ZION         ZTS  \n",
      "Date                                           \n",
      "2006-01-03   42.830002  61.661987         NaN  \n",
      "2006-01-04   42.410000  62.097343         NaN  \n",
      "2006-01-05   42.529999  62.661716         NaN  \n",
      "2006-01-06   44.119999  63.314800         NaN  \n",
      "2006-01-09   44.790001  62.790722         NaN  \n",
      "...                ...        ...         ...  \n",
      "2020-06-24  250.500000  32.618225  133.944412  \n",
      "2020-06-25  253.639999  33.629562  134.951736  \n",
      "2020-06-26  246.419998  31.705069  132.308762  \n",
      "2020-06-29  252.050003  32.451302  131.630539  \n",
      "2020-06-30         NaN        NaN         NaN  \n",
      "\n",
      "[3654 rows x 506 columns]\n"
     ]
    }
   ],
   "source": [
    "### Historical Stock Price Data\n",
    "\n",
    "resp = requests.get('http://en.wikipedia.org/wiki/List_of_S%26P_500_companies')\n",
    "soup = bs.BeautifulSoup(resp.text, 'lxml')\n",
    "table = soup.find('table', {'class': 'wikitable sortable'})\n",
    "tickers = []\n",
    "for row in table.findAll('tr')[1:]:\n",
    "    ticker = row.findAll('td')[0].text\n",
    "    tickers.append(ticker)\n",
    "\n",
    "tickers = [s.replace('\\n', '') for s in tickers]\n",
    "start = datetime.datetime(2006,1,1)\n",
    "end = datetime.datetime(2020,6,30)\n",
    "tickers=tickers+[\"SPY\"];\n",
    "\n",
    "data = yf.download(tickers, start=start, end=end)['Adj Close']\n",
    "\n",
    "print(data)"
   ]
  },
  {
   "cell_type": "code",
   "execution_count": 3,
   "metadata": {},
   "outputs": [],
   "source": [
    "if not os.path.exists('Stock_Data'):\n",
    "    os.makedirs('Stock_Data')\n",
    "data.to_csv('Stock_Data/SP500Prices.csv')\n",
    "data.to_hdf('Stock_Data/SP500Prices.h5', 'fixed', mode='w', complib='blosc', complevel=9)"
   ]
  },
  {
   "cell_type": "code",
   "execution_count": 11,
   "metadata": {},
   "outputs": [
    {
     "data": {
      "text/html": [
       "<div>\n",
       "<style scoped>\n",
       "    .dataframe tbody tr th:only-of-type {\n",
       "        vertical-align: middle;\n",
       "    }\n",
       "\n",
       "    .dataframe tbody tr th {\n",
       "        vertical-align: top;\n",
       "    }\n",
       "\n",
       "    .dataframe thead th {\n",
       "        text-align: right;\n",
       "    }\n",
       "</style>\n",
       "<table border=\"1\" class=\"dataframe\">\n",
       "  <thead>\n",
       "    <tr style=\"text-align: right;\">\n",
       "      <th></th>\n",
       "      <th>A</th>\n",
       "      <th>AAL</th>\n",
       "      <th>AAP</th>\n",
       "      <th>AAPL</th>\n",
       "      <th>ABC</th>\n",
       "      <th>ABMD</th>\n",
       "      <th>ABT</th>\n",
       "      <th>ACN</th>\n",
       "      <th>ADBE</th>\n",
       "      <th>ADI</th>\n",
       "      <th>...</th>\n",
       "      <th>WYNN</th>\n",
       "      <th>XEL</th>\n",
       "      <th>XLNX</th>\n",
       "      <th>XOM</th>\n",
       "      <th>XRAY</th>\n",
       "      <th>XRX</th>\n",
       "      <th>YUM</th>\n",
       "      <th>ZBH</th>\n",
       "      <th>ZBRA</th>\n",
       "      <th>ZION</th>\n",
       "    </tr>\n",
       "    <tr>\n",
       "      <th>Date</th>\n",
       "      <th></th>\n",
       "      <th></th>\n",
       "      <th></th>\n",
       "      <th></th>\n",
       "      <th></th>\n",
       "      <th></th>\n",
       "      <th></th>\n",
       "      <th></th>\n",
       "      <th></th>\n",
       "      <th></th>\n",
       "      <th></th>\n",
       "      <th></th>\n",
       "      <th></th>\n",
       "      <th></th>\n",
       "      <th></th>\n",
       "      <th></th>\n",
       "      <th></th>\n",
       "      <th></th>\n",
       "      <th></th>\n",
       "      <th></th>\n",
       "      <th></th>\n",
       "    </tr>\n",
       "  </thead>\n",
       "  <tbody>\n",
       "    <tr>\n",
       "      <th>2006-01-03</th>\n",
       "      <td>20.752956</td>\n",
       "      <td>35.305672</td>\n",
       "      <td>41.007545</td>\n",
       "      <td>2.302969</td>\n",
       "      <td>16.858438</td>\n",
       "      <td>9.350000</td>\n",
       "      <td>13.123610</td>\n",
       "      <td>22.026203</td>\n",
       "      <td>38.520000</td>\n",
       "      <td>24.942032</td>\n",
       "      <td>...</td>\n",
       "      <td>29.771486</td>\n",
       "      <td>10.370291</td>\n",
       "      <td>18.501081</td>\n",
       "      <td>36.244297</td>\n",
       "      <td>24.628942</td>\n",
       "      <td>27.373835</td>\n",
       "      <td>12.616449</td>\n",
       "      <td>63.187962</td>\n",
       "      <td>42.830002</td>\n",
       "      <td>61.661987</td>\n",
       "    </tr>\n",
       "    <tr>\n",
       "      <th>2006-01-04</th>\n",
       "      <td>20.808710</td>\n",
       "      <td>36.955460</td>\n",
       "      <td>41.299648</td>\n",
       "      <td>2.309747</td>\n",
       "      <td>16.746733</td>\n",
       "      <td>9.620000</td>\n",
       "      <td>13.143523</td>\n",
       "      <td>22.146482</td>\n",
       "      <td>38.419998</td>\n",
       "      <td>25.173103</td>\n",
       "      <td>...</td>\n",
       "      <td>29.716314</td>\n",
       "      <td>10.420551</td>\n",
       "      <td>19.333887</td>\n",
       "      <td>36.306290</td>\n",
       "      <td>24.856865</td>\n",
       "      <td>27.337107</td>\n",
       "      <td>12.724398</td>\n",
       "      <td>63.787724</td>\n",
       "      <td>42.410000</td>\n",
       "      <td>62.097343</td>\n",
       "    </tr>\n",
       "    <tr>\n",
       "      <th>2006-01-05</th>\n",
       "      <td>21.353859</td>\n",
       "      <td>37.436264</td>\n",
       "      <td>41.497532</td>\n",
       "      <td>2.291571</td>\n",
       "      <td>16.539299</td>\n",
       "      <td>9.550000</td>\n",
       "      <td>13.312750</td>\n",
       "      <td>22.311872</td>\n",
       "      <td>38.070000</td>\n",
       "      <td>25.975050</td>\n",
       "      <td>...</td>\n",
       "      <td>29.539719</td>\n",
       "      <td>10.414965</td>\n",
       "      <td>20.496935</td>\n",
       "      <td>36.126522</td>\n",
       "      <td>24.574240</td>\n",
       "      <td>27.043371</td>\n",
       "      <td>13.266838</td>\n",
       "      <td>63.114136</td>\n",
       "      <td>42.529999</td>\n",
       "      <td>62.661716</td>\n",
       "    </tr>\n",
       "    <tr>\n",
       "      <th>2006-01-06</th>\n",
       "      <td>21.465374</td>\n",
       "      <td>36.766911</td>\n",
       "      <td>41.450405</td>\n",
       "      <td>2.350724</td>\n",
       "      <td>16.355791</td>\n",
       "      <td>9.750000</td>\n",
       "      <td>13.568257</td>\n",
       "      <td>23.416941</td>\n",
       "      <td>39.000000</td>\n",
       "      <td>26.076996</td>\n",
       "      <td>...</td>\n",
       "      <td>29.821154</td>\n",
       "      <td>10.454056</td>\n",
       "      <td>20.906160</td>\n",
       "      <td>36.839401</td>\n",
       "      <td>24.957150</td>\n",
       "      <td>26.878132</td>\n",
       "      <td>13.229057</td>\n",
       "      <td>62.791172</td>\n",
       "      <td>44.119999</td>\n",
       "      <td>63.314800</td>\n",
       "    </tr>\n",
       "    <tr>\n",
       "      <th>2006-01-09</th>\n",
       "      <td>21.403425</td>\n",
       "      <td>36.399246</td>\n",
       "      <td>41.987503</td>\n",
       "      <td>2.343021</td>\n",
       "      <td>16.355791</td>\n",
       "      <td>10.150000</td>\n",
       "      <td>14.072625</td>\n",
       "      <td>23.349283</td>\n",
       "      <td>38.380001</td>\n",
       "      <td>26.443987</td>\n",
       "      <td>...</td>\n",
       "      <td>31.228340</td>\n",
       "      <td>10.426137</td>\n",
       "      <td>20.884611</td>\n",
       "      <td>36.820793</td>\n",
       "      <td>25.203304</td>\n",
       "      <td>27.245319</td>\n",
       "      <td>13.331607</td>\n",
       "      <td>65.014938</td>\n",
       "      <td>44.790001</td>\n",
       "      <td>62.790722</td>\n",
       "    </tr>\n",
       "    <tr>\n",
       "      <th>...</th>\n",
       "      <td>...</td>\n",
       "      <td>...</td>\n",
       "      <td>...</td>\n",
       "      <td>...</td>\n",
       "      <td>...</td>\n",
       "      <td>...</td>\n",
       "      <td>...</td>\n",
       "      <td>...</td>\n",
       "      <td>...</td>\n",
       "      <td>...</td>\n",
       "      <td>...</td>\n",
       "      <td>...</td>\n",
       "      <td>...</td>\n",
       "      <td>...</td>\n",
       "      <td>...</td>\n",
       "      <td>...</td>\n",
       "      <td>...</td>\n",
       "      <td>...</td>\n",
       "      <td>...</td>\n",
       "      <td>...</td>\n",
       "      <td>...</td>\n",
       "    </tr>\n",
       "    <tr>\n",
       "      <th>2020-06-23</th>\n",
       "      <td>88.932564</td>\n",
       "      <td>14.000000</td>\n",
       "      <td>149.495514</td>\n",
       "      <td>91.310051</td>\n",
       "      <td>100.665817</td>\n",
       "      <td>252.580002</td>\n",
       "      <td>90.644806</td>\n",
       "      <td>205.836899</td>\n",
       "      <td>440.549988</td>\n",
       "      <td>122.075447</td>\n",
       "      <td>...</td>\n",
       "      <td>84.510002</td>\n",
       "      <td>63.369690</td>\n",
       "      <td>94.635109</td>\n",
       "      <td>44.717655</td>\n",
       "      <td>44.475010</td>\n",
       "      <td>15.669960</td>\n",
       "      <td>87.100418</td>\n",
       "      <td>125.274361</td>\n",
       "      <td>260.769989</td>\n",
       "      <td>34.837280</td>\n",
       "    </tr>\n",
       "    <tr>\n",
       "      <th>2020-06-24</th>\n",
       "      <td>86.223152</td>\n",
       "      <td>13.040000</td>\n",
       "      <td>142.547577</td>\n",
       "      <td>89.698242</td>\n",
       "      <td>98.027679</td>\n",
       "      <td>241.660004</td>\n",
       "      <td>86.673508</td>\n",
       "      <td>200.318817</td>\n",
       "      <td>431.679993</td>\n",
       "      <td>118.331467</td>\n",
       "      <td>...</td>\n",
       "      <td>75.209999</td>\n",
       "      <td>62.866207</td>\n",
       "      <td>92.290344</td>\n",
       "      <td>42.611038</td>\n",
       "      <td>42.577591</td>\n",
       "      <td>14.844720</td>\n",
       "      <td>85.753098</td>\n",
       "      <td>117.576492</td>\n",
       "      <td>250.500000</td>\n",
       "      <td>32.618225</td>\n",
       "    </tr>\n",
       "    <tr>\n",
       "      <th>2020-06-25</th>\n",
       "      <td>86.920433</td>\n",
       "      <td>13.170000</td>\n",
       "      <td>142.457855</td>\n",
       "      <td>90.889038</td>\n",
       "      <td>99.842644</td>\n",
       "      <td>241.750000</td>\n",
       "      <td>88.976860</td>\n",
       "      <td>215.682159</td>\n",
       "      <td>436.950012</td>\n",
       "      <td>118.955460</td>\n",
       "      <td>...</td>\n",
       "      <td>73.559998</td>\n",
       "      <td>62.096176</td>\n",
       "      <td>92.687759</td>\n",
       "      <td>43.252594</td>\n",
       "      <td>42.637337</td>\n",
       "      <td>15.017443</td>\n",
       "      <td>85.198318</td>\n",
       "      <td>114.672386</td>\n",
       "      <td>253.639999</td>\n",
       "      <td>33.629562</td>\n",
       "    </tr>\n",
       "    <tr>\n",
       "      <th>2020-06-26</th>\n",
       "      <td>85.565720</td>\n",
       "      <td>12.380000</td>\n",
       "      <td>139.547089</td>\n",
       "      <td>88.096405</td>\n",
       "      <td>98.364883</td>\n",
       "      <td>239.270004</td>\n",
       "      <td>88.073387</td>\n",
       "      <td>210.868698</td>\n",
       "      <td>426.920013</td>\n",
       "      <td>116.746719</td>\n",
       "      <td>...</td>\n",
       "      <td>69.050003</td>\n",
       "      <td>61.513714</td>\n",
       "      <td>90.432411</td>\n",
       "      <td>41.768391</td>\n",
       "      <td>42.936058</td>\n",
       "      <td>14.451291</td>\n",
       "      <td>83.999603</td>\n",
       "      <td>115.041138</td>\n",
       "      <td>246.419998</td>\n",
       "      <td>31.705069</td>\n",
       "    </tr>\n",
       "    <tr>\n",
       "      <th>2020-06-29</th>\n",
       "      <td>87.132896</td>\n",
       "      <td>13.320000</td>\n",
       "      <td>142.298355</td>\n",
       "      <td>90.126732</td>\n",
       "      <td>98.176453</td>\n",
       "      <td>240.220001</td>\n",
       "      <td>88.371239</td>\n",
       "      <td>211.116806</td>\n",
       "      <td>424.200012</td>\n",
       "      <td>117.865944</td>\n",
       "      <td>...</td>\n",
       "      <td>74.220001</td>\n",
       "      <td>61.661797</td>\n",
       "      <td>91.366348</td>\n",
       "      <td>42.438679</td>\n",
       "      <td>43.722687</td>\n",
       "      <td>14.929422</td>\n",
       "      <td>86.169189</td>\n",
       "      <td>116.506187</td>\n",
       "      <td>252.050003</td>\n",
       "      <td>32.451302</td>\n",
       "    </tr>\n",
       "  </tbody>\n",
       "</table>\n",
       "<p>3647 rows × 423 columns</p>\n",
       "</div>"
      ],
      "text/plain": [
       "                    A        AAL         AAP       AAPL         ABC  \\\n",
       "Date                                                                  \n",
       "2006-01-03  20.752956  35.305672   41.007545   2.302969   16.858438   \n",
       "2006-01-04  20.808710  36.955460   41.299648   2.309747   16.746733   \n",
       "2006-01-05  21.353859  37.436264   41.497532   2.291571   16.539299   \n",
       "2006-01-06  21.465374  36.766911   41.450405   2.350724   16.355791   \n",
       "2006-01-09  21.403425  36.399246   41.987503   2.343021   16.355791   \n",
       "...               ...        ...         ...        ...         ...   \n",
       "2020-06-23  88.932564  14.000000  149.495514  91.310051  100.665817   \n",
       "2020-06-24  86.223152  13.040000  142.547577  89.698242   98.027679   \n",
       "2020-06-25  86.920433  13.170000  142.457855  90.889038   99.842644   \n",
       "2020-06-26  85.565720  12.380000  139.547089  88.096405   98.364883   \n",
       "2020-06-29  87.132896  13.320000  142.298355  90.126732   98.176453   \n",
       "\n",
       "                  ABMD        ABT         ACN        ADBE         ADI  ...  \\\n",
       "Date                                                                   ...   \n",
       "2006-01-03    9.350000  13.123610   22.026203   38.520000   24.942032  ...   \n",
       "2006-01-04    9.620000  13.143523   22.146482   38.419998   25.173103  ...   \n",
       "2006-01-05    9.550000  13.312750   22.311872   38.070000   25.975050  ...   \n",
       "2006-01-06    9.750000  13.568257   23.416941   39.000000   26.076996  ...   \n",
       "2006-01-09   10.150000  14.072625   23.349283   38.380001   26.443987  ...   \n",
       "...                ...        ...         ...         ...         ...  ...   \n",
       "2020-06-23  252.580002  90.644806  205.836899  440.549988  122.075447  ...   \n",
       "2020-06-24  241.660004  86.673508  200.318817  431.679993  118.331467  ...   \n",
       "2020-06-25  241.750000  88.976860  215.682159  436.950012  118.955460  ...   \n",
       "2020-06-26  239.270004  88.073387  210.868698  426.920013  116.746719  ...   \n",
       "2020-06-29  240.220001  88.371239  211.116806  424.200012  117.865944  ...   \n",
       "\n",
       "                 WYNN        XEL       XLNX        XOM       XRAY        XRX  \\\n",
       "Date                                                                           \n",
       "2006-01-03  29.771486  10.370291  18.501081  36.244297  24.628942  27.373835   \n",
       "2006-01-04  29.716314  10.420551  19.333887  36.306290  24.856865  27.337107   \n",
       "2006-01-05  29.539719  10.414965  20.496935  36.126522  24.574240  27.043371   \n",
       "2006-01-06  29.821154  10.454056  20.906160  36.839401  24.957150  26.878132   \n",
       "2006-01-09  31.228340  10.426137  20.884611  36.820793  25.203304  27.245319   \n",
       "...               ...        ...        ...        ...        ...        ...   \n",
       "2020-06-23  84.510002  63.369690  94.635109  44.717655  44.475010  15.669960   \n",
       "2020-06-24  75.209999  62.866207  92.290344  42.611038  42.577591  14.844720   \n",
       "2020-06-25  73.559998  62.096176  92.687759  43.252594  42.637337  15.017443   \n",
       "2020-06-26  69.050003  61.513714  90.432411  41.768391  42.936058  14.451291   \n",
       "2020-06-29  74.220001  61.661797  91.366348  42.438679  43.722687  14.929422   \n",
       "\n",
       "                  YUM         ZBH        ZBRA       ZION  \n",
       "Date                                                      \n",
       "2006-01-03  12.616449   63.187962   42.830002  61.661987  \n",
       "2006-01-04  12.724398   63.787724   42.410000  62.097343  \n",
       "2006-01-05  13.266838   63.114136   42.529999  62.661716  \n",
       "2006-01-06  13.229057   62.791172   44.119999  63.314800  \n",
       "2006-01-09  13.331607   65.014938   44.790001  62.790722  \n",
       "...               ...         ...         ...        ...  \n",
       "2020-06-23  87.100418  125.274361  260.769989  34.837280  \n",
       "2020-06-24  85.753098  117.576492  250.500000  32.618225  \n",
       "2020-06-25  85.198318  114.672386  253.639999  33.629562  \n",
       "2020-06-26  83.999603  115.041138  246.419998  31.705069  \n",
       "2020-06-29  86.169189  116.506187  252.050003  32.451302  \n",
       "\n",
       "[3647 rows x 423 columns]"
      ]
     },
     "execution_count": 11,
     "metadata": {},
     "output_type": "execute_result"
    }
   ],
   "source": [
    "cleaned_data = data.copy()\n",
    "\n",
    "# Remove companies (columns) with all missing values for whole time range\n",
    "cleaned_data.dropna(axis='columns', how='all', inplace=True)\n",
    "\n",
    "# Remove days (rows) with missing values for all of companies\n",
    "cleaned_data.dropna(axis='index', how='all', inplace=True)\n",
    "\n",
    "# Finally, remove the columns with at least one Nan (missing value)\n",
    "cleaned_data.dropna(axis='columns', how='any', inplace=True)\n",
    "\n",
    "cleaned_data"
   ]
  },
  {
   "cell_type": "code",
   "execution_count": 12,
   "metadata": {},
   "outputs": [
    {
     "name": "stdout",
     "output_type": "stream",
     "text": [
      "(3646, 423)\n"
     ]
    },
    {
     "data": {
      "text/html": [
       "<div>\n",
       "<style scoped>\n",
       "    .dataframe tbody tr th:only-of-type {\n",
       "        vertical-align: middle;\n",
       "    }\n",
       "\n",
       "    .dataframe tbody tr th {\n",
       "        vertical-align: top;\n",
       "    }\n",
       "\n",
       "    .dataframe thead th {\n",
       "        text-align: right;\n",
       "    }\n",
       "</style>\n",
       "<table border=\"1\" class=\"dataframe\">\n",
       "  <thead>\n",
       "    <tr style=\"text-align: right;\">\n",
       "      <th></th>\n",
       "      <th>A</th>\n",
       "      <th>AAL</th>\n",
       "      <th>AAP</th>\n",
       "      <th>AAPL</th>\n",
       "      <th>ABC</th>\n",
       "      <th>ABMD</th>\n",
       "      <th>ABT</th>\n",
       "      <th>ACN</th>\n",
       "      <th>ADBE</th>\n",
       "      <th>ADI</th>\n",
       "      <th>...</th>\n",
       "      <th>WYNN</th>\n",
       "      <th>XEL</th>\n",
       "      <th>XLNX</th>\n",
       "      <th>XOM</th>\n",
       "      <th>XRAY</th>\n",
       "      <th>XRX</th>\n",
       "      <th>YUM</th>\n",
       "      <th>ZBH</th>\n",
       "      <th>ZBRA</th>\n",
       "      <th>ZION</th>\n",
       "    </tr>\n",
       "    <tr>\n",
       "      <th>Date</th>\n",
       "      <th></th>\n",
       "      <th></th>\n",
       "      <th></th>\n",
       "      <th></th>\n",
       "      <th></th>\n",
       "      <th></th>\n",
       "      <th></th>\n",
       "      <th></th>\n",
       "      <th></th>\n",
       "      <th></th>\n",
       "      <th></th>\n",
       "      <th></th>\n",
       "      <th></th>\n",
       "      <th></th>\n",
       "      <th></th>\n",
       "      <th></th>\n",
       "      <th></th>\n",
       "      <th></th>\n",
       "      <th></th>\n",
       "      <th></th>\n",
       "      <th></th>\n",
       "    </tr>\n",
       "  </thead>\n",
       "  <tbody>\n",
       "    <tr>\n",
       "      <th>2006-01-04</th>\n",
       "      <td>0.002683</td>\n",
       "      <td>0.045670</td>\n",
       "      <td>0.007098</td>\n",
       "      <td>0.002939</td>\n",
       "      <td>-0.006648</td>\n",
       "      <td>0.028468</td>\n",
       "      <td>0.001516</td>\n",
       "      <td>0.005446</td>\n",
       "      <td>-0.002599</td>\n",
       "      <td>0.009222</td>\n",
       "      <td>...</td>\n",
       "      <td>-0.001855</td>\n",
       "      <td>0.004835</td>\n",
       "      <td>0.044030</td>\n",
       "      <td>0.001709</td>\n",
       "      <td>0.009212</td>\n",
       "      <td>-0.001343</td>\n",
       "      <td>0.008520</td>\n",
       "      <td>0.009447</td>\n",
       "      <td>-0.009855</td>\n",
       "      <td>0.007036</td>\n",
       "    </tr>\n",
       "    <tr>\n",
       "      <th>2006-01-05</th>\n",
       "      <td>0.025861</td>\n",
       "      <td>0.012926</td>\n",
       "      <td>0.004780</td>\n",
       "      <td>-0.007901</td>\n",
       "      <td>-0.012464</td>\n",
       "      <td>-0.007303</td>\n",
       "      <td>0.012793</td>\n",
       "      <td>0.007440</td>\n",
       "      <td>-0.009152</td>\n",
       "      <td>0.031360</td>\n",
       "      <td>...</td>\n",
       "      <td>-0.005960</td>\n",
       "      <td>-0.000536</td>\n",
       "      <td>0.058416</td>\n",
       "      <td>-0.004964</td>\n",
       "      <td>-0.011435</td>\n",
       "      <td>-0.010803</td>\n",
       "      <td>0.041746</td>\n",
       "      <td>-0.010616</td>\n",
       "      <td>0.002826</td>\n",
       "      <td>0.009047</td>\n",
       "    </tr>\n",
       "    <tr>\n",
       "      <th>2006-01-06</th>\n",
       "      <td>0.005209</td>\n",
       "      <td>-0.018042</td>\n",
       "      <td>-0.001136</td>\n",
       "      <td>0.025486</td>\n",
       "      <td>-0.011157</td>\n",
       "      <td>0.020726</td>\n",
       "      <td>0.019011</td>\n",
       "      <td>0.048341</td>\n",
       "      <td>0.024135</td>\n",
       "      <td>0.003917</td>\n",
       "      <td>...</td>\n",
       "      <td>0.009482</td>\n",
       "      <td>0.003746</td>\n",
       "      <td>0.019769</td>\n",
       "      <td>0.019541</td>\n",
       "      <td>0.015462</td>\n",
       "      <td>-0.006129</td>\n",
       "      <td>-0.002852</td>\n",
       "      <td>-0.005130</td>\n",
       "      <td>0.036703</td>\n",
       "      <td>0.010368</td>\n",
       "    </tr>\n",
       "    <tr>\n",
       "      <th>2006-01-09</th>\n",
       "      <td>-0.002890</td>\n",
       "      <td>-0.010050</td>\n",
       "      <td>0.012874</td>\n",
       "      <td>-0.003282</td>\n",
       "      <td>0.000000</td>\n",
       "      <td>0.040206</td>\n",
       "      <td>0.036498</td>\n",
       "      <td>-0.002893</td>\n",
       "      <td>-0.016025</td>\n",
       "      <td>0.013975</td>\n",
       "      <td>...</td>\n",
       "      <td>0.046108</td>\n",
       "      <td>-0.002674</td>\n",
       "      <td>-0.001031</td>\n",
       "      <td>-0.000505</td>\n",
       "      <td>0.009815</td>\n",
       "      <td>0.013569</td>\n",
       "      <td>0.007722</td>\n",
       "      <td>0.034803</td>\n",
       "      <td>0.015072</td>\n",
       "      <td>-0.008312</td>\n",
       "    </tr>\n",
       "    <tr>\n",
       "      <th>2006-01-10</th>\n",
       "      <td>0.012941</td>\n",
       "      <td>-0.021202</td>\n",
       "      <td>0.001121</td>\n",
       "      <td>0.061328</td>\n",
       "      <td>0.000244</td>\n",
       "      <td>0.005894</td>\n",
       "      <td>-0.009715</td>\n",
       "      <td>-0.021807</td>\n",
       "      <td>0.005975</td>\n",
       "      <td>0.000000</td>\n",
       "      <td>...</td>\n",
       "      <td>0.001236</td>\n",
       "      <td>0.004809</td>\n",
       "      <td>0.005485</td>\n",
       "      <td>0.007714</td>\n",
       "      <td>-0.008537</td>\n",
       "      <td>-0.005406</td>\n",
       "      <td>-0.000810</td>\n",
       "      <td>-0.004266</td>\n",
       "      <td>0.036607</td>\n",
       "      <td>-0.011753</td>\n",
       "    </tr>\n",
       "    <tr>\n",
       "      <th>2006-01-11</th>\n",
       "      <td>-0.000286</td>\n",
       "      <td>-0.082691</td>\n",
       "      <td>-0.008554</td>\n",
       "      <td>0.036906</td>\n",
       "      <td>-0.000244</td>\n",
       "      <td>0.032758</td>\n",
       "      <td>-0.007095</td>\n",
       "      <td>0.008193</td>\n",
       "      <td>0.018476</td>\n",
       "      <td>0.004871</td>\n",
       "      <td>...</td>\n",
       "      <td>0.029562</td>\n",
       "      <td>-0.007491</td>\n",
       "      <td>-0.006517</td>\n",
       "      <td>0.006826</td>\n",
       "      <td>0.022724</td>\n",
       "      <td>0.024098</td>\n",
       "      <td>-0.008053</td>\n",
       "      <td>0.025748</td>\n",
       "      <td>-0.009516</td>\n",
       "      <td>0.005829</td>\n",
       "    </tr>\n",
       "    <tr>\n",
       "      <th>2006-01-12</th>\n",
       "      <td>-0.022252</td>\n",
       "      <td>0.005445</td>\n",
       "      <td>0.002935</td>\n",
       "      <td>0.004637</td>\n",
       "      <td>0.007774</td>\n",
       "      <td>0.015052</td>\n",
       "      <td>-0.002174</td>\n",
       "      <td>-0.001633</td>\n",
       "      <td>0.003807</td>\n",
       "      <td>-0.008476</td>\n",
       "      <td>...</td>\n",
       "      <td>-0.009469</td>\n",
       "      <td>0.010152</td>\n",
       "      <td>-0.008640</td>\n",
       "      <td>-0.010508</td>\n",
       "      <td>-0.001606</td>\n",
       "      <td>0.014445</td>\n",
       "      <td>-0.016304</td>\n",
       "      <td>0.005956</td>\n",
       "      <td>0.010591</td>\n",
       "      <td>-0.015227</td>\n",
       "    </tr>\n",
       "    <tr>\n",
       "      <th>2006-01-13</th>\n",
       "      <td>-0.007627</td>\n",
       "      <td>-0.027233</td>\n",
       "      <td>0.000224</td>\n",
       "      <td>0.015305</td>\n",
       "      <td>0.002417</td>\n",
       "      <td>-0.041951</td>\n",
       "      <td>-0.003635</td>\n",
       "      <td>-0.012500</td>\n",
       "      <td>-0.016344</td>\n",
       "      <td>0.006428</td>\n",
       "      <td>...</td>\n",
       "      <td>0.009298</td>\n",
       "      <td>0.000531</td>\n",
       "      <td>-0.000694</td>\n",
       "      <td>0.022056</td>\n",
       "      <td>0.004988</td>\n",
       "      <td>-0.022414</td>\n",
       "      <td>-0.000208</td>\n",
       "      <td>-0.025453</td>\n",
       "      <td>-0.007554</td>\n",
       "      <td>0.010308</td>\n",
       "    </tr>\n",
       "    <tr>\n",
       "      <th>2006-01-17</th>\n",
       "      <td>-0.005907</td>\n",
       "      <td>-0.126633</td>\n",
       "      <td>-0.019572</td>\n",
       "      <td>-0.010335</td>\n",
       "      <td>-0.012390</td>\n",
       "      <td>-0.036692</td>\n",
       "      <td>-0.002918</td>\n",
       "      <td>0.020639</td>\n",
       "      <td>0.015330</td>\n",
       "      <td>-0.031236</td>\n",
       "      <td>...</td>\n",
       "      <td>-0.025164</td>\n",
       "      <td>0.011097</td>\n",
       "      <td>-0.013639</td>\n",
       "      <td>0.009306</td>\n",
       "      <td>-0.004096</td>\n",
       "      <td>-0.024976</td>\n",
       "      <td>-0.012355</td>\n",
       "      <td>0.001416</td>\n",
       "      <td>-0.020132</td>\n",
       "      <td>-0.004815</td>\n",
       "    </tr>\n",
       "    <tr>\n",
       "      <th>2006-01-18</th>\n",
       "      <td>0.020523</td>\n",
       "      <td>0.032790</td>\n",
       "      <td>-0.008308</td>\n",
       "      <td>-0.026556</td>\n",
       "      <td>0.003904</td>\n",
       "      <td>0.045417</td>\n",
       "      <td>0.003646</td>\n",
       "      <td>0.004852</td>\n",
       "      <td>0.007326</td>\n",
       "      <td>-0.004505</td>\n",
       "      <td>...</td>\n",
       "      <td>-0.022932</td>\n",
       "      <td>0.002624</td>\n",
       "      <td>0.013986</td>\n",
       "      <td>-0.014073</td>\n",
       "      <td>0.002139</td>\n",
       "      <td>0.001366</td>\n",
       "      <td>0.005673</td>\n",
       "      <td>0.009993</td>\n",
       "      <td>-0.006876</td>\n",
       "      <td>0.002345</td>\n",
       "    </tr>\n",
       "  </tbody>\n",
       "</table>\n",
       "<p>10 rows × 423 columns</p>\n",
       "</div>"
      ],
      "text/plain": [
       "                   A       AAL       AAP      AAPL       ABC      ABMD  \\\n",
       "Date                                                                     \n",
       "2006-01-04  0.002683  0.045670  0.007098  0.002939 -0.006648  0.028468   \n",
       "2006-01-05  0.025861  0.012926  0.004780 -0.007901 -0.012464 -0.007303   \n",
       "2006-01-06  0.005209 -0.018042 -0.001136  0.025486 -0.011157  0.020726   \n",
       "2006-01-09 -0.002890 -0.010050  0.012874 -0.003282  0.000000  0.040206   \n",
       "2006-01-10  0.012941 -0.021202  0.001121  0.061328  0.000244  0.005894   \n",
       "2006-01-11 -0.000286 -0.082691 -0.008554  0.036906 -0.000244  0.032758   \n",
       "2006-01-12 -0.022252  0.005445  0.002935  0.004637  0.007774  0.015052   \n",
       "2006-01-13 -0.007627 -0.027233  0.000224  0.015305  0.002417 -0.041951   \n",
       "2006-01-17 -0.005907 -0.126633 -0.019572 -0.010335 -0.012390 -0.036692   \n",
       "2006-01-18  0.020523  0.032790 -0.008308 -0.026556  0.003904  0.045417   \n",
       "\n",
       "                 ABT       ACN      ADBE       ADI  ...      WYNN       XEL  \\\n",
       "Date                                                ...                       \n",
       "2006-01-04  0.001516  0.005446 -0.002599  0.009222  ... -0.001855  0.004835   \n",
       "2006-01-05  0.012793  0.007440 -0.009152  0.031360  ... -0.005960 -0.000536   \n",
       "2006-01-06  0.019011  0.048341  0.024135  0.003917  ...  0.009482  0.003746   \n",
       "2006-01-09  0.036498 -0.002893 -0.016025  0.013975  ...  0.046108 -0.002674   \n",
       "2006-01-10 -0.009715 -0.021807  0.005975  0.000000  ...  0.001236  0.004809   \n",
       "2006-01-11 -0.007095  0.008193  0.018476  0.004871  ...  0.029562 -0.007491   \n",
       "2006-01-12 -0.002174 -0.001633  0.003807 -0.008476  ... -0.009469  0.010152   \n",
       "2006-01-13 -0.003635 -0.012500 -0.016344  0.006428  ...  0.009298  0.000531   \n",
       "2006-01-17 -0.002918  0.020639  0.015330 -0.031236  ... -0.025164  0.011097   \n",
       "2006-01-18  0.003646  0.004852  0.007326 -0.004505  ... -0.022932  0.002624   \n",
       "\n",
       "                XLNX       XOM      XRAY       XRX       YUM       ZBH  \\\n",
       "Date                                                                     \n",
       "2006-01-04  0.044030  0.001709  0.009212 -0.001343  0.008520  0.009447   \n",
       "2006-01-05  0.058416 -0.004964 -0.011435 -0.010803  0.041746 -0.010616   \n",
       "2006-01-06  0.019769  0.019541  0.015462 -0.006129 -0.002852 -0.005130   \n",
       "2006-01-09 -0.001031 -0.000505  0.009815  0.013569  0.007722  0.034803   \n",
       "2006-01-10  0.005485  0.007714 -0.008537 -0.005406 -0.000810 -0.004266   \n",
       "2006-01-11 -0.006517  0.006826  0.022724  0.024098 -0.008053  0.025748   \n",
       "2006-01-12 -0.008640 -0.010508 -0.001606  0.014445 -0.016304  0.005956   \n",
       "2006-01-13 -0.000694  0.022056  0.004988 -0.022414 -0.000208 -0.025453   \n",
       "2006-01-17 -0.013639  0.009306 -0.004096 -0.024976 -0.012355  0.001416   \n",
       "2006-01-18  0.013986 -0.014073  0.002139  0.001366  0.005673  0.009993   \n",
       "\n",
       "                ZBRA      ZION  \n",
       "Date                            \n",
       "2006-01-04 -0.009855  0.007036  \n",
       "2006-01-05  0.002826  0.009047  \n",
       "2006-01-06  0.036703  0.010368  \n",
       "2006-01-09  0.015072 -0.008312  \n",
       "2006-01-10  0.036607 -0.011753  \n",
       "2006-01-11 -0.009516  0.005829  \n",
       "2006-01-12  0.010591 -0.015227  \n",
       "2006-01-13 -0.007554  0.010308  \n",
       "2006-01-17 -0.020132 -0.004815  \n",
       "2006-01-18 -0.006876  0.002345  \n",
       "\n",
       "[10 rows x 423 columns]"
      ]
     },
     "execution_count": 12,
     "metadata": {},
     "output_type": "execute_result"
    }
   ],
   "source": [
    "# This converts prices to arithmetic or log returns.\n",
    "\n",
    "prices = cleaned_data\n",
    "return_values = np.log(prices).diff()\n",
    "return_values = return_values.iloc[1:]  # removes first row which is NaN after diff()\n",
    "print(return_values.shape)\n",
    "return_values.head(10)"
   ]
  },
  {
   "cell_type": "code",
   "execution_count": 13,
   "metadata": {},
   "outputs": [],
   "source": [
    "def assetPriceReg(df_stk):\n",
    "    import pandas_datareader.data as web  # module for reading datasets directly from the web\n",
    "    \n",
    "    # Reading in factor data\n",
    "    df_factors = web.DataReader('F-F_Research_Data_5_Factors_2x3_daily', 'famafrench')[0]\n",
    "    df_factors.rename(columns={'Mkt-RF': 'MKT'}, inplace=True)\n",
    "    df_factors['MKT'] = df_factors['MKT']/100\n",
    "    df_factors['SMB'] = df_factors['SMB']/100\n",
    "    df_factors['HML'] = df_factors['HML']/100\n",
    "    df_factors['RMW'] = df_factors['RMW']/100\n",
    "    df_factors['CMA'] = df_factors['CMA']/100\n",
    "    \n",
    "    df_stock_factor = pd.merge(df_stk,df_factors,left_index=True,right_index=True) # Merging the stock and factor returns dataframes together\n",
    "    df_stock_factor['XsRet'] = df_stock_factor['Returns'] - df_stock_factor['RF'] # Calculating excess returns\n",
    "\n",
    "    # Running CAPM, FF3, and FF5 models.\n",
    "    CAPM = sm.ols(formula = 'XsRet ~ MKT', data=df_stock_factor).fit(cov_type='HAC',cov_kwds={'maxlags':1})\n",
    "    FF3 = sm.ols( formula = 'XsRet ~ MKT + SMB + HML', data=df_stock_factor).fit(cov_type='HAC',cov_kwds={'maxlags':1})\n",
    "    FF5 = sm.ols( formula = 'XsRet ~ MKT + SMB + HML + RMW + CMA', data=df_stock_factor).fit(cov_type='HAC',cov_kwds={'maxlags':1})\n",
    "\n",
    "    CAPMtstat = CAPM.tvalues\n",
    "    FF3tstat = FF3.tvalues\n",
    "    FF5tstat = FF5.tvalues\n",
    "\n",
    "    CAPMcoeff = CAPM.params\n",
    "    FF3coeff = FF3.params\n",
    "    FF5coeff = FF5.params\n",
    "\n",
    "    # DataFrame with coefficients and t-stats\n",
    "    results_df = pd.DataFrame({'CAPMcoeff':CAPMcoeff,'CAPMtstat':CAPMtstat,\n",
    "                               'FF3coeff':FF3coeff, 'FF3tstat':FF3tstat,\n",
    "                               'FF5coeff':FF5coeff, 'FF5tstat':FF5tstat},\n",
    "    index = ['Intercept', 'MKT', 'SMB', 'HML', 'RMW', 'CMA'])\n",
    "\n",
    "\n",
    "    dfoutput = summary_col([CAPM,FF3, FF5],stars=True,float_format='%0.4f',\n",
    "                  model_names=['CAPM','FF3','FF5'],\n",
    "                  info_dict={'N':lambda x: \"{0:d}\".format(int(x.nobs)),\n",
    "                             'Adjusted R2':lambda x: \"{:.4f}\".format(x.rsquared_adj)}, \n",
    "                             regressor_order = ['Intercept', 'MKT', 'SMB', 'HML', 'RMW', 'CMA'])\n",
    "\n",
    "    print(dfoutput)\n",
    "    \n",
    "    return results_df"
   ]
  },
  {
   "cell_type": "code",
   "execution_count": 14,
   "metadata": {},
   "outputs": [
    {
     "name": "stdout",
     "output_type": "stream",
     "text": [
      "[*********************100%***********************]  1 of 1 completed\n"
     ]
    },
    {
     "data": {
      "text/html": [
       "<div>\n",
       "<style scoped>\n",
       "    .dataframe tbody tr th:only-of-type {\n",
       "        vertical-align: middle;\n",
       "    }\n",
       "\n",
       "    .dataframe tbody tr th {\n",
       "        vertical-align: top;\n",
       "    }\n",
       "\n",
       "    .dataframe thead th {\n",
       "        text-align: right;\n",
       "    }\n",
       "</style>\n",
       "<table border=\"1\" class=\"dataframe\">\n",
       "  <thead>\n",
       "    <tr style=\"text-align: right;\">\n",
       "      <th></th>\n",
       "      <th>Open</th>\n",
       "      <th>High</th>\n",
       "      <th>Low</th>\n",
       "      <th>Close</th>\n",
       "      <th>Adj Close</th>\n",
       "      <th>Volume</th>\n",
       "    </tr>\n",
       "    <tr>\n",
       "      <th>Date</th>\n",
       "      <th></th>\n",
       "      <th></th>\n",
       "      <th></th>\n",
       "      <th></th>\n",
       "      <th></th>\n",
       "      <th></th>\n",
       "    </tr>\n",
       "  </thead>\n",
       "  <tbody>\n",
       "    <tr>\n",
       "      <th>2006-01-03</th>\n",
       "      <td>2.585000</td>\n",
       "      <td>2.669643</td>\n",
       "      <td>2.580357</td>\n",
       "      <td>2.669643</td>\n",
       "      <td>2.302969</td>\n",
       "      <td>807234400</td>\n",
       "    </tr>\n",
       "    <tr>\n",
       "      <th>2006-01-04</th>\n",
       "      <td>2.683214</td>\n",
       "      <td>2.713571</td>\n",
       "      <td>2.660714</td>\n",
       "      <td>2.677500</td>\n",
       "      <td>2.309747</td>\n",
       "      <td>619603600</td>\n",
       "    </tr>\n",
       "    <tr>\n",
       "      <th>2006-01-05</th>\n",
       "      <td>2.672500</td>\n",
       "      <td>2.675000</td>\n",
       "      <td>2.633929</td>\n",
       "      <td>2.656429</td>\n",
       "      <td>2.291571</td>\n",
       "      <td>449422400</td>\n",
       "    </tr>\n",
       "    <tr>\n",
       "      <th>2006-01-06</th>\n",
       "      <td>2.687500</td>\n",
       "      <td>2.739286</td>\n",
       "      <td>2.662500</td>\n",
       "      <td>2.725000</td>\n",
       "      <td>2.350724</td>\n",
       "      <td>704457600</td>\n",
       "    </tr>\n",
       "    <tr>\n",
       "      <th>2006-01-09</th>\n",
       "      <td>2.740357</td>\n",
       "      <td>2.757143</td>\n",
       "      <td>2.705000</td>\n",
       "      <td>2.716071</td>\n",
       "      <td>2.343021</td>\n",
       "      <td>675040800</td>\n",
       "    </tr>\n",
       "  </tbody>\n",
       "</table>\n",
       "</div>"
      ],
      "text/plain": [
       "                Open      High       Low     Close  Adj Close     Volume\n",
       "Date                                                                    \n",
       "2006-01-03  2.585000  2.669643  2.580357  2.669643   2.302969  807234400\n",
       "2006-01-04  2.683214  2.713571  2.660714  2.677500   2.309747  619603600\n",
       "2006-01-05  2.672500  2.675000  2.633929  2.656429   2.291571  449422400\n",
       "2006-01-06  2.687500  2.739286  2.662500  2.725000   2.350724  704457600\n",
       "2006-01-09  2.740357  2.757143  2.705000  2.716071   2.343021  675040800"
      ]
     },
     "execution_count": 14,
     "metadata": {},
     "output_type": "execute_result"
    }
   ],
   "source": [
    "df_stk = yf.download('AAPL', start=start, end=end)\n",
    "df_stk.head()"
   ]
  },
  {
   "cell_type": "code",
   "execution_count": 15,
   "metadata": {},
   "outputs": [
    {
     "data": {
      "text/plain": [
       "<matplotlib.axes._subplots.AxesSubplot at 0x1a2331e080>"
      ]
     },
     "execution_count": 15,
     "metadata": {},
     "output_type": "execute_result"
    },
    {
     "data": {
      "image/png": "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\n",
      "text/plain": [
       "<Figure size 432x288 with 1 Axes>"
      ]
     },
     "metadata": {
      "needs_background": "light"
     },
     "output_type": "display_data"
    }
   ],
   "source": [
    "df_stk.drop(['Volume'],axis=1,inplace=True)\n",
    "df_stk.plot()"
   ]
  },
  {
   "cell_type": "code",
   "execution_count": 16,
   "metadata": {},
   "outputs": [
    {
     "data": {
      "text/html": [
       "<div>\n",
       "<style scoped>\n",
       "    .dataframe tbody tr th:only-of-type {\n",
       "        vertical-align: middle;\n",
       "    }\n",
       "\n",
       "    .dataframe tbody tr th {\n",
       "        vertical-align: top;\n",
       "    }\n",
       "\n",
       "    .dataframe thead th {\n",
       "        text-align: right;\n",
       "    }\n",
       "</style>\n",
       "<table border=\"1\" class=\"dataframe\">\n",
       "  <thead>\n",
       "    <tr style=\"text-align: right;\">\n",
       "      <th></th>\n",
       "      <th>Open</th>\n",
       "      <th>High</th>\n",
       "      <th>Low</th>\n",
       "      <th>Close</th>\n",
       "      <th>Adj Close</th>\n",
       "      <th>Returns</th>\n",
       "    </tr>\n",
       "    <tr>\n",
       "      <th>Date</th>\n",
       "      <th></th>\n",
       "      <th></th>\n",
       "      <th></th>\n",
       "      <th></th>\n",
       "      <th></th>\n",
       "      <th></th>\n",
       "    </tr>\n",
       "  </thead>\n",
       "  <tbody>\n",
       "    <tr>\n",
       "      <th>2006-01-04</th>\n",
       "      <td>2.683214</td>\n",
       "      <td>2.713571</td>\n",
       "      <td>2.660714</td>\n",
       "      <td>2.677500</td>\n",
       "      <td>2.309747</td>\n",
       "      <td>0.002939</td>\n",
       "    </tr>\n",
       "    <tr>\n",
       "      <th>2006-01-05</th>\n",
       "      <td>2.672500</td>\n",
       "      <td>2.675000</td>\n",
       "      <td>2.633929</td>\n",
       "      <td>2.656429</td>\n",
       "      <td>2.291571</td>\n",
       "      <td>-0.007901</td>\n",
       "    </tr>\n",
       "    <tr>\n",
       "      <th>2006-01-06</th>\n",
       "      <td>2.687500</td>\n",
       "      <td>2.739286</td>\n",
       "      <td>2.662500</td>\n",
       "      <td>2.725000</td>\n",
       "      <td>2.350724</td>\n",
       "      <td>0.025486</td>\n",
       "    </tr>\n",
       "    <tr>\n",
       "      <th>2006-01-09</th>\n",
       "      <td>2.740357</td>\n",
       "      <td>2.757143</td>\n",
       "      <td>2.705000</td>\n",
       "      <td>2.716071</td>\n",
       "      <td>2.343021</td>\n",
       "      <td>-0.003282</td>\n",
       "    </tr>\n",
       "    <tr>\n",
       "      <th>2006-01-10</th>\n",
       "      <td>2.723214</td>\n",
       "      <td>2.924643</td>\n",
       "      <td>2.708214</td>\n",
       "      <td>2.887857</td>\n",
       "      <td>2.491213</td>\n",
       "      <td>0.061328</td>\n",
       "    </tr>\n",
       "  </tbody>\n",
       "</table>\n",
       "</div>"
      ],
      "text/plain": [
       "                Open      High       Low     Close  Adj Close   Returns\n",
       "Date                                                                   \n",
       "2006-01-04  2.683214  2.713571  2.660714  2.677500   2.309747  0.002939\n",
       "2006-01-05  2.672500  2.675000  2.633929  2.656429   2.291571 -0.007901\n",
       "2006-01-06  2.687500  2.739286  2.662500  2.725000   2.350724  0.025486\n",
       "2006-01-09  2.740357  2.757143  2.705000  2.716071   2.343021 -0.003282\n",
       "2006-01-10  2.723214  2.924643  2.708214  2.887857   2.491213  0.061328"
      ]
     },
     "execution_count": 16,
     "metadata": {},
     "output_type": "execute_result"
    }
   ],
   "source": [
    "df_stk['Returns'] = np.log(df_stk[['Adj Close']]).diff()\n",
    "df_stk = df_stk.dropna()\n",
    "df_stk.head()"
   ]
  },
  {
   "cell_type": "code",
   "execution_count": 17,
   "metadata": {},
   "outputs": [
    {
     "data": {
      "text/plain": [
       "<matplotlib.axes._subplots.AxesSubplot at 0x1a23007278>"
      ]
     },
     "execution_count": 17,
     "metadata": {},
     "output_type": "execute_result"
    },
    {
     "data": {
      "image/png": "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\n",
      "text/plain": [
       "<Figure size 432x288 with 1 Axes>"
      ]
     },
     "metadata": {
      "needs_background": "light"
     },
     "output_type": "display_data"
    }
   ],
   "source": [
    "df_stk['Returns'].plot()"
   ]
  },
  {
   "cell_type": "markdown",
   "metadata": {},
   "source": [
    "Empirical properties of asset returns:\n",
    "stylized facts and statistical issues\n",
    "\n",
    "http://www.cmap.polytechnique.fr/~rama/papers/empirical.pdf"
   ]
  },
  {
   "cell_type": "code",
   "execution_count": 18,
   "metadata": {},
   "outputs": [
    {
     "data": {
      "text/plain": [
       "<matplotlib.axes._subplots.AxesSubplot at 0x1a23000390>"
      ]
     },
     "execution_count": 18,
     "metadata": {},
     "output_type": "execute_result"
    },
    {
     "data": {
      "image/png": "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\n",
      "text/plain": [
       "<Figure size 432x288 with 1 Axes>"
      ]
     },
     "metadata": {
      "needs_background": "light"
     },
     "output_type": "display_data"
    }
   ],
   "source": [
    "df_stk['Returns'].hist(bins=20)"
   ]
  },
  {
   "cell_type": "code",
   "execution_count": 19,
   "metadata": {},
   "outputs": [
    {
     "data": {
      "text/plain": [
       "count    3646.000000\n",
       "mean        0.001006\n",
       "std         0.020630\n",
       "min        -0.197470\n",
       "25%        -0.008248\n",
       "50%         0.000951\n",
       "75%         0.011390\n",
       "max         0.130194\n",
       "Name: Returns, dtype: float64"
      ]
     },
     "execution_count": 19,
     "metadata": {},
     "output_type": "execute_result"
    }
   ],
   "source": [
    "df_stk['Returns'].describe()"
   ]
  },
  {
   "cell_type": "code",
   "execution_count": 20,
   "metadata": {},
   "outputs": [
    {
     "name": "stderr",
     "output_type": "stream",
     "text": [
      "/anaconda3/lib/python3.7/site-packages/statsmodels/compat/pandas.py:49: FutureWarning: The Panel class is removed from pandas. Accessing it from the top-level namespace will also be removed in the next version\n",
      "  data_klasses = (pandas.Series, pandas.DataFrame, pandas.Panel)\n"
     ]
    },
    {
     "name": "stdout",
     "output_type": "stream",
     "text": [
      "\n",
      "============================================\n",
      "               CAPM       FF3        FF5    \n",
      "--------------------------------------------\n",
      "Intercept   -0.0041*** -0.0043*** -0.0043***\n",
      "            (0.0004)   (0.0004)   (0.0004)  \n",
      "MKT         1.1307***  1.2145***  1.1735*** \n",
      "            (0.0366)   (0.0347)   (0.0357)  \n",
      "SMB                    -0.2240*** -0.2386***\n",
      "                       (0.0632)   (0.0639)  \n",
      "HML                    -0.4371*** -0.3320***\n",
      "                       (0.0547)   (0.0571)  \n",
      "RMW                               0.4680*** \n",
      "                                  (0.1018)  \n",
      "CMA                               -0.5962***\n",
      "                                  (0.1499)  \n",
      "N           1130       1130       1130      \n",
      "Adjusted R2 0.5723     0.6177     0.6349    \n",
      "============================================\n",
      "Standard errors in parentheses.\n",
      "* p<.1, ** p<.05, ***p<.01\n"
     ]
    }
   ],
   "source": [
    "df_regOutput = assetPriceReg(df_stk)"
   ]
  },
  {
   "cell_type": "code",
   "execution_count": 21,
   "metadata": {},
   "outputs": [],
   "source": [
    "    import pandas_datareader.data as web  # module for reading datasets directly from the web\n",
    "    \n",
    "    # Reading in factor data\n",
    "    df_factors = web.DataReader('F-F_Research_Data_5_Factors_2x3_daily', 'famafrench')[0]\n",
    "    df_factors.rename(columns={'Mkt-RF': 'MKT'}, inplace=True)\n",
    "    df_factors['MKT'] = df_factors['MKT']/100\n",
    "    df_factors['SMB'] = df_factors['SMB']/100\n",
    "    df_factors['HML'] = df_factors['HML']/100\n",
    "    df_factors['RMW'] = df_factors['RMW']/100\n",
    "    df_factors['CMA'] = df_factors['CMA']/100\n",
    "    \n",
    "    df_stock_factor = pd.merge(df_stk,df_factors,left_index=True,right_index=True) # Merging the stock and factor returns dataframes together\n",
    "    df_stock_factor['XsRet'] = df_stock_factor['Returns'] - df_stock_factor['RF'] # Calculating excess returns\n",
    "\n",
    "    # Running CAPM, FF3, and FF5 models.\n",
    "    FF5 = sm.ols( formula = 'XsRet ~ MKT + SMB + HML + RMW + CMA', data=df_stock_factor).fit(cov_type='HAC',cov_kwds={'maxlags':1})"
   ]
  },
  {
   "cell_type": "code",
   "execution_count": 22,
   "metadata": {},
   "outputs": [
    {
     "data": {
      "text/html": [
       "<table class=\"simpletable\">\n",
       "<caption>OLS Regression Results</caption>\n",
       "<tr>\n",
       "  <th>Dep. Variable:</th>          <td>XsRet</td>      <th>  R-squared:         </th> <td>   0.637</td> \n",
       "</tr>\n",
       "<tr>\n",
       "  <th>Model:</th>                   <td>OLS</td>       <th>  Adj. R-squared:    </th> <td>   0.635</td> \n",
       "</tr>\n",
       "<tr>\n",
       "  <th>Method:</th>             <td>Least Squares</td>  <th>  F-statistic:       </th> <td>   290.6</td> \n",
       "</tr>\n",
       "<tr>\n",
       "  <th>Date:</th>             <td>Sat, 02 Jan 2021</td> <th>  Prob (F-statistic):</th> <td>1.32e-199</td>\n",
       "</tr>\n",
       "<tr>\n",
       "  <th>Time:</th>                 <td>23:22:35</td>     <th>  Log-Likelihood:    </th> <td>  3471.5</td> \n",
       "</tr>\n",
       "<tr>\n",
       "  <th>No. Observations:</th>      <td>  1130</td>      <th>  AIC:               </th> <td>  -6931.</td> \n",
       "</tr>\n",
       "<tr>\n",
       "  <th>Df Residuals:</th>          <td>  1124</td>      <th>  BIC:               </th> <td>  -6901.</td> \n",
       "</tr>\n",
       "<tr>\n",
       "  <th>Df Model:</th>              <td>     5</td>      <th>                     </th>     <td> </td>    \n",
       "</tr>\n",
       "<tr>\n",
       "  <th>Covariance Type:</th>         <td>HAC</td>       <th>                     </th>     <td> </td>    \n",
       "</tr>\n",
       "</table>\n",
       "<table class=\"simpletable\">\n",
       "<tr>\n",
       "      <td></td>         <th>coef</th>     <th>std err</th>      <th>z</th>      <th>P>|z|</th>  <th>[0.025</th>    <th>0.975]</th>  \n",
       "</tr>\n",
       "<tr>\n",
       "  <th>Intercept</th> <td>   -0.0043</td> <td>    0.000</td> <td>  -11.876</td> <td> 0.000</td> <td>   -0.005</td> <td>   -0.004</td>\n",
       "</tr>\n",
       "<tr>\n",
       "  <th>MKT</th>       <td>    1.1735</td> <td>    0.036</td> <td>   32.836</td> <td> 0.000</td> <td>    1.103</td> <td>    1.244</td>\n",
       "</tr>\n",
       "<tr>\n",
       "  <th>SMB</th>       <td>   -0.2386</td> <td>    0.064</td> <td>   -3.734</td> <td> 0.000</td> <td>   -0.364</td> <td>   -0.113</td>\n",
       "</tr>\n",
       "<tr>\n",
       "  <th>HML</th>       <td>   -0.3320</td> <td>    0.057</td> <td>   -5.814</td> <td> 0.000</td> <td>   -0.444</td> <td>   -0.220</td>\n",
       "</tr>\n",
       "<tr>\n",
       "  <th>RMW</th>       <td>    0.4680</td> <td>    0.102</td> <td>    4.596</td> <td> 0.000</td> <td>    0.268</td> <td>    0.668</td>\n",
       "</tr>\n",
       "<tr>\n",
       "  <th>CMA</th>       <td>   -0.5962</td> <td>    0.150</td> <td>   -3.976</td> <td> 0.000</td> <td>   -0.890</td> <td>   -0.302</td>\n",
       "</tr>\n",
       "</table>\n",
       "<table class=\"simpletable\">\n",
       "<tr>\n",
       "  <th>Omnibus:</th>       <td>136.316</td> <th>  Durbin-Watson:     </th> <td>   1.674</td> \n",
       "</tr>\n",
       "<tr>\n",
       "  <th>Prob(Omnibus):</th> <td> 0.000</td>  <th>  Jarque-Bera (JB):  </th> <td>1163.046</td> \n",
       "</tr>\n",
       "<tr>\n",
       "  <th>Skew:</th>          <td> 0.171</td>  <th>  Prob(JB):          </th> <td>2.80e-253</td>\n",
       "</tr>\n",
       "<tr>\n",
       "  <th>Kurtosis:</th>      <td> 7.958</td>  <th>  Cond. No.          </th> <td>    353.</td> \n",
       "</tr>\n",
       "</table><br/><br/>Warnings:<br/>[1] Standard Errors are heteroscedasticity and autocorrelation robust (HAC) using 1 lags and without small sample correction"
      ],
      "text/plain": [
       "<class 'statsmodels.iolib.summary.Summary'>\n",
       "\"\"\"\n",
       "                            OLS Regression Results                            \n",
       "==============================================================================\n",
       "Dep. Variable:                  XsRet   R-squared:                       0.637\n",
       "Model:                            OLS   Adj. R-squared:                  0.635\n",
       "Method:                 Least Squares   F-statistic:                     290.6\n",
       "Date:                Sat, 02 Jan 2021   Prob (F-statistic):          1.32e-199\n",
       "Time:                        23:22:35   Log-Likelihood:                 3471.5\n",
       "No. Observations:                1130   AIC:                            -6931.\n",
       "Df Residuals:                    1124   BIC:                            -6901.\n",
       "Df Model:                           5                                         \n",
       "Covariance Type:                  HAC                                         \n",
       "==============================================================================\n",
       "                 coef    std err          z      P>|z|      [0.025      0.975]\n",
       "------------------------------------------------------------------------------\n",
       "Intercept     -0.0043      0.000    -11.876      0.000      -0.005      -0.004\n",
       "MKT            1.1735      0.036     32.836      0.000       1.103       1.244\n",
       "SMB           -0.2386      0.064     -3.734      0.000      -0.364      -0.113\n",
       "HML           -0.3320      0.057     -5.814      0.000      -0.444      -0.220\n",
       "RMW            0.4680      0.102      4.596      0.000       0.268       0.668\n",
       "CMA           -0.5962      0.150     -3.976      0.000      -0.890      -0.302\n",
       "==============================================================================\n",
       "Omnibus:                      136.316   Durbin-Watson:                   1.674\n",
       "Prob(Omnibus):                  0.000   Jarque-Bera (JB):             1163.046\n",
       "Skew:                           0.171   Prob(JB):                    2.80e-253\n",
       "Kurtosis:                       7.958   Cond. No.                         353.\n",
       "==============================================================================\n",
       "\n",
       "Warnings:\n",
       "[1] Standard Errors are heteroscedasticity and autocorrelation robust (HAC) using 1 lags and without small sample correction\n",
       "\"\"\""
      ]
     },
     "execution_count": 22,
     "metadata": {},
     "output_type": "execute_result"
    }
   ],
   "source": [
    "FF5.summary()"
   ]
  },
  {
   "cell_type": "markdown",
   "metadata": {},
   "source": [
    "## Parameter Terminology\n",
    "\n",
    "In general, we do not know the underlying true values of the coefficients β. We will denote $\\widehat{\\beta}$ the estimation of the unknown parameter β.\n",
    "\n",
    "We note that we can talk about $\\widehat{\\beta}$ in two ways:\n",
    "\n",
    "- $\\widehat{\\beta}$ as a concrete estimated value, or more generally, as a result. Then we say that $\\widehat{\\beta}$ is an estimate of β based on an observed data sample;\n",
    "\n",
    "- $\\widehat{\\beta}$ as a random variable, or more generally, as a rule for calculating an estimate based on observed data. Then we say that $\\widehat{\\beta}$ is an estimator of β.\n",
    "\n",
    "When we are talking about $\\widehat{\\beta}$ as an estimator, we can also talk about its mean, $\\mathbb{E}(\\widehat{\\beta}_1)$ , variance $\\mathbb{V}{\\rm ar}(\\widehat{\\beta}_1)$ and distribution, which are very important when determining if a particular estimation method is better than an alternative one."
   ]
  },
  {
   "cell_type": "markdown",
   "metadata": {},
   "source": [
    "## Key assumptions in Regression Analysis\n",
    "\n",
    "<p>Let our <em>(random) samples</em> of <span class=\"math inline\">\\(\\epsilon\\)</span>, <span class=\"math inline\">\\(X\\)</span> and <span class=\"math inline\">\\(Y\\)</span> be: <span class=\"math inline\">\\(\\boldsymbol{\\varepsilon} = (\\epsilon_1, ..., \\epsilon_N)^\\top\\)</span>, <span class=\"math inline\">\\(\\mathbf{X} = (X_1,....,X_N)^\\top\\)</span>, and <span class=\"math inline\">\\(\\mathbf{Y} = (Y_1, ..., Y_N)^\\top\\)</span>.</p>\n",
    "<p>The required conditions are:</p>\n",
    "\n",
    "\n",
    "<p>\n",
    "<strong>(UR.1)</strong> The Data Generating Process (<strong>DGP</strong>), or in other words, the population, is described by a linear (<em>in terms of the coefficients</em>) model: <span class=\"math display\"><span class=\"math display\">\\[Y = \\beta_0 + \\beta_1 X + \\epsilon\\]</span></span>\n",
    "</p>\n",
    "</div>\n",
    "\n",
    "<p>Another example of a linear model is: <span class=\"math display\">\\[\\log (Y) = \\beta_0 + \\beta_1 \\dfrac{1}{X} + \\epsilon \\iff U = \\beta_0 + \\beta_1 V + \\epsilon,\\ \\text{where}\\ U = \\log(Y),\\ V = \\dfrac{1}{X}\\]</span> In a linear model <span class=\"math inline\">\\(\\epsilon\\)</span> and <span class=\"math inline\">\\(Y\\)</span> are <strong>always dependent</strong>, thus <span class=\"math inline\">\\(\\mathbb{C}{\\rm ov} (Y, \\epsilon) \\neq 0\\)</span>. However, <span class=\"math inline\">\\(\\epsilon\\)</span> may (or may not) depend on <span class=\"math inline\">\\(X\\)</span>. This leads us to further requirements for <span class=\"math inline\">\\(\\epsilon\\)</span>.</p>\n",
    "\n",
    "\n",
    "<p>\n",
    "<strong>(UR.2)</strong> The error term <span class=\"math inline\"><span class=\"math inline\">\\(\\epsilon\\)</span></span> has an expected value of zero, given any value of the explanatory variable: <span class=\"math display\"><span class=\"math display\">\\[\\mathbb{E}(\\epsilon_i| X_j) = 0,\\ \\forall i,j = 1,...,N\\]</span></span>\n",
    "</p>\n",
    "</div>\n",
    "\n",
    "\n",
    "<p>This means that whatever are the observations, <span class=\"math inline\">\\(X_j\\)</span>, the errors, <span class=\"math inline\">\\(\\epsilon_j\\)</span>, are on average 0. This also implies that <span class=\"math inline\">\\(\\mathbb{E}(\\epsilon_i X_i) = 0\\)</span> and <span class=\"math inline\">\\(\\mathbb{E}(\\epsilon_i) = \\mathbb{E}\\left( \\mathbb{E}\\left( \\epsilon_i | X_i\\right) \\right)=0\\)</span>. An example would be the case, where <span class=\"math inline\">\\(X_j\\)</span> and <span class=\"math inline\">\\(\\epsilon_i\\)</span> are independent r.v.’s and <span class=\"math inline\">\\(\\mathbb{E}(\\epsilon_i) = 0\\)</span> <span class=\"math inline\">\\(\\forall i,j = 1,...,N\\)</span>. Furthermore, This property implies that:\n",
    "<span class=\"math display\">\\[\\mathbb{E}(Y_i|X_i) = \\beta_0 + \\beta_1 X_i\\]</span>\n",
    "On the other hand, if <span class=\"math inline\">\\(\\mathbb{C}{\\rm ov}(X_i, \\epsilon_i) \\neq 0\\)</span>, then expressing the covariance as <span class=\"math inline\">\\(\\mathbb{C}{\\rm ov}(X_i, \\epsilon_i) = \\mathbb{E}\\left[ (X_i - \\mathbb{E}(X_i))(\\epsilon_i - \\mathbb{E}(\\epsilon_i))\\right] = \\mathbb{E}\\left[ (X_i - \\mathbb{E}(X_i))\\epsilon_i\\right] = \\mathbb{E} \\left[ (X_i - \\mathbb{E}(X_i))\\mathbb{E}(\\epsilon_i | X_i) \\right] \\neq 0\\)</span>, which implies that <span class=\"math inline\">\\(\\mathbb{E}(\\epsilon_i| X_j) \\neq 0\\)</span>, i.e. assumption <strong>(UR.2)</strong> does not hold.</p>\n",
    "\n",
    "\n",
    "<p>\n",
    "<strong>(UR.3)</strong> The error term <span class=\"math inline\"><span class=\"math inline\">\\(\\epsilon\\)</span></span> has the same variance given any value of the explanatory variable (i.e. homoskedasticity): <span class=\"math display\"><span class=\"math display\">\\[\\mathbb{V}{\\rm ar} (\\epsilon_i | \\mathbf{X} ) = \\sigma^2_\\epsilon,\\ \\forall i = 1,..,N\\]</span></span> and the error terms are not correlated across observations (i.e. no autocorrelation): <span class=\"math display\"><span class=\"math display\">\\[\\mathbb{C}{\\rm ov} (\\epsilon_i, \\epsilon_j) = 0,\\ i \\neq j\\]</span></span>\n",
    "</p>\n",
    "</div>\n",
    "<p>This implies that the conditional variance-covariance matrix of a <em>vector</em> of disturbances <span class=\"math inline\">\\(\\boldsymbol{\\varepsilon}\\)</span> is a unit (or identity) matrix, times a constant, <span class=\"math inline\">\\(\\sigma^2_\\epsilon\\)</span>:\n",
    "\n",
    "    \n",
    "$\\mathbb{V}{\\rm ar}\\left( \\boldsymbol{\\varepsilon} | \\mathbf{X} \\right) =\n",
    "\\begin{bmatrix}\n",
    "\\mathbb{V}{\\rm ar} (\\epsilon_1) & \\mathbb{C}{\\rm ov} (\\epsilon_1, \\epsilon_2) & ... & \\mathbb{C}{\\rm ov} (\\epsilon_1, \\epsilon_N) \\\\\n",
    "\\mathbb{C}{\\rm ov} (\\epsilon_2, \\epsilon_1) & \\mathbb{V}{\\rm ar} (\\epsilon_2) & ... & \\mathbb{C}{\\rm ov} (\\epsilon_2, \\epsilon_N) \\\\\n",
    "\\vdots & \\vdots & \\ddots & \\vdots \\\\\n",
    "\\mathbb{C}{\\rm ov} (\\epsilon_N, \\epsilon_1) & \\mathbb{C}{\\rm ov} (\\epsilon_N, \\epsilon_2) & ... & \\mathbb{V}{\\rm ar} (\\epsilon_N)\n",
    "\\end{bmatrix} =\n",
    "\\sigma^2_\\epsilon  \\mathbf{I}$\n",
    "    \n",
    "    \n",
    "This means that the disturbances $\\epsilon_i$ and $\\epsilon_j$ are independent $\\forall i \\neq j$ and independent of $\\mathbf{X}$, thus:\n",
    "\n",
    "$\\mathbb{C}{\\rm ov} (\\epsilon_i, \\epsilon_j | \\mathbf{X} ) = \\mathbb{E} (\\epsilon_i \\epsilon_j | \\mathbf{X} ) = 0,\\ \\forall i \\neq j.$\n",
    "</p>\n",
    "\n",
    "\n",
    "<div class=\"THEOREM\">\n",
    "<p>\n",
    "<strong>(UR.4) (optional)</strong> The residuals are normal: <span class=\"math display\"><span class=\"math display\">\\[\\boldsymbol{\\varepsilon} | \\mathbf{X} \\sim \\mathcal{N} \\left( \\mathbf{0}, \\sigma^2_\\epsilon \\mathbf{I} \\right)\\]</span></span>\n",
    "</p>\n",
    "</div>\n",
    "<p>This <strong>optional condition</strong> simplifies some statistical properties of the parameter estimators.</p>\n",
    "<p>We can combine the requirements and restate them as the following:</p>\n",
    "<div class=\"THEOREM\">\n",
    "<p>\n",
    "The Data Generating Process <span class=\"math inline\"><span class=\"math inline\">\\(Y = \\beta_0 + \\beta_1 X + \\epsilon\\)</span></span> satisfies <strong>(UR.2)</strong> and <strong>(UR.3)</strong>, if: (conditionally on all <span class=\"math inline\"><span class=\"math inline\">\\(\\mathbf{X}\\)</span></span>’s) <span class=\"math inline\"><span class=\"math inline\">\\(\\mathbb{E} (\\epsilon_i) = 0\\)</span></span>, <span class=\"math inline\"><span class=\"math inline\">\\(\\mathbb{V}{\\rm ar}(\\epsilon_i) = \\sigma^2_\\epsilon\\)</span></span> and <span class=\"math inline\"><span class=\"math inline\">\\(\\mathbb{C}{\\rm ov} (\\epsilon_i, \\epsilon_j) = 0\\)</span></span>, <span class=\"math inline\"><span class=\"math inline\">\\(\\forall i \\neq j\\)</span></span> and <span class=\"math inline\"><span class=\"math inline\">\\(\\mathbb{C}{\\rm ov} (\\epsilon_i, X_j) = \\mathbb{E} (\\epsilon_i X_j) = 0\\)</span></span>, <span class=\"math inline\"><span class=\"math inline\">\\(\\forall i,j\\)</span></span>.\n",
    "</p>\n",
    "</div>\n",
    "<p>The linear relationship <span class=\"math inline\">\\(Y = \\beta_0 + \\beta_1 X + \\epsilon\\)</span> is also referred as the <em>regression line</em> with an <em>intercept</em> <span class=\"math inline\">\\(\\beta_0\\)</span> and a <em>slope</em> <span class=\"math inline\">\\(\\beta_1\\)</span>. From <strong>(UR.2)</strong> we have that the regression line coincides with the expected value of <span class=\"math inline\">\\(Y_i\\)</span>, given <span class=\"math inline\">\\(X_i\\)</span>.</p>\n",
    "<p>In general, we do not know the true coefficient <span class=\"math inline\">\\(\\beta_0\\)</span> and <span class=\"math inline\">\\(\\beta_1\\)</span> values but we would like to estimate them from our sample data, which consists of points <span class=\"math inline\">\\((X_i, Y_i)\\)</span>, <span class=\"math inline\">\\(i = 1,...,N\\)</span>. We would also like to use the data in the <em>best</em> way possible to obtain an <em>estimate of the regression</em>: <span class=\"math display\">\\[\\widehat{Y} = \\widehat{\\beta}_0 + \\widehat{\\beta}_1 X\\]</span></p>\n",
    "</div>"
   ]
  },
  {
   "cell_type": "markdown",
   "metadata": {},
   "source": [
    "## Properties of the OLS estimator\n",
    "\n",
    "From the construction of the OLS estimators the following properties apply to the sample:\n",
    "\n",
    "1. The sum (and by extension, the sample average) of the OLS residuals is zero:\n",
    "\n",
    "$\\begin{equation}\n",
    "\\sum_{i = 1}^N \\widehat{\\epsilon}_i = 0\n",
    "\\end{equation}$\n"
   ]
  },
  {
   "cell_type": "code",
   "execution_count": 23,
   "metadata": {},
   "outputs": [
    {
     "data": {
      "text/plain": [
       "<matplotlib.axes._subplots.AxesSubplot at 0x1a236de828>"
      ]
     },
     "execution_count": 23,
     "metadata": {},
     "output_type": "execute_result"
    },
    {
     "data": {
      "image/png": "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\n",
      "text/plain": [
       "<Figure size 432x288 with 1 Axes>"
      ]
     },
     "metadata": {
      "needs_background": "light"
     },
     "output_type": "display_data"
    }
   ],
   "source": [
    "FF5.resid.plot()"
   ]
  },
  {
   "cell_type": "code",
   "execution_count": 25,
   "metadata": {},
   "outputs": [
    {
     "data": {
      "text/plain": [
       "-1.436689408707376e-15"
      ]
     },
     "execution_count": 25,
     "metadata": {},
     "output_type": "execute_result"
    }
   ],
   "source": [
    "FF5.resid.mean()"
   ]
  },
  {
   "cell_type": "markdown",
   "metadata": {},
   "source": [
    "2. The sample covariance between the regressors and the OLS residuals is zero:\n",
    "\n",
    "$\\begin{equation}\n",
    "\\sum_{i = 1}^N X_i \\widehat{\\epsilon}_i = 0\n",
    "\\end{equation}$"
   ]
  },
  {
   "cell_type": "code",
   "execution_count": 53,
   "metadata": {},
   "outputs": [
    {
     "data": {
      "text/plain": [
       "-7.109926796616817e-16"
      ]
     },
     "execution_count": 53,
     "metadata": {},
     "output_type": "execute_result"
    }
   ],
   "source": [
    "sum(FF5.resid.values * df_stock_factor['MKT'].values)"
   ]
  },
  {
   "cell_type": "code",
   "execution_count": 52,
   "metadata": {},
   "outputs": [
    {
     "data": {
      "text/plain": [
       "array([[1.25456703e-04, 5.17198916e-20],\n",
       "       [5.17198916e-20, 1.54769773e-04]])"
      ]
     },
     "execution_count": 52,
     "metadata": {},
     "output_type": "execute_result"
    }
   ],
   "source": [
    "np.cov(FF5.resid.values, df_stock_factor['MKT'].values)"
   ]
  },
  {
   "cell_type": "markdown",
   "metadata": {},
   "source": [
    "We see that both the sum and the sample covariance are very close to zero."
   ]
  },
  {
   "cell_type": "markdown",
   "metadata": {},
   "source": [
    "<ol start=\"3\" style=\"list-style-type: decimal\">\n",
    "<li>The point <span class=\"math inline\">\\((\\overline{X}, \\overline{Y})\\)</span> is <strong>always on the OLS regression line</strong> - if we calculate <span class=\"math inline\">\\(\\widehat{\\beta}_0 + \\widehat{\\beta}_1 \\overline{X}\\)</span>, the resulting value would be equal to <span class=\"math inline\">\\(\\overline{Y}\\)</span>.</li>\n",
    "</ol>\n",
    "\n",
    "However, these properties are not the only ones, which justify the use of the OLS method, instead of some other competing estimator. The main advantage of the OLS estimators can be summarized by the following Gauss-Markov theorem:"
   ]
  },
  {
   "cell_type": "markdown",
   "metadata": {},
   "source": [
    "## Gauss-Markov theorem\n",
    "\n",
    "<p>\n",
    "Under the assumption that the conditions <strong>(UR.1) - (UR.3)</strong> hold true, the OLS estimators <span class=\"math inline\"></span> and <span class=\"math inline\"><span class=\"math inline\">\\(\\widehat{\\beta}\\)</span></span> are <strong>BLUE</strong> (<strong>B</strong>est <strong>L</strong>inear <strong>U</strong>nbiased <strong>E</strong>stimator) and <strong>Consistent</strong>.\n",
    "</p>\n",
    "\n",
    "## What is an Estimator?\n",
    "\n",
    "\n",
    "<p> An <strong>estimator</strong> is a rule that can be applied to any sample of data to produce an <strong>estimate</strong>. In other words the <strong>estimator</strong> is the rule and the <strong>estimate</strong> is the result.</p>\n",
    "\n",
    "<p>The remaining components of the acronym <strong>BLUE</strong> are provided below.</p>\n",
    "\n",
    "### OLS estimators are Linear\n",
    "\n",
    "\n",
    "<p>From the specification of the relationship between <span class=\"math inline\">\\(\\mathbf{Y}\\)</span> and <span class=\"math inline\">\\(\\mathbf{X}\\)</span> (using the matrix notation for generality):\n",
    "<span class=\"math display\">\\[\n",
    "\\mathbf{Y} = \\mathbf{X} \\boldsymbol{\\beta} + \\boldsymbol{\\varepsilon}\n",
    "\\]</span>\n",
    "We see that the relationship is <strong>linear</strong> with respect to <span class=\"math inline\">\\(\\mathbf{Y}\\)</span>.</p>\n",
    "\n",
    "\n",
    "### OLS estimators are Unbiased\n",
    "\n",
    "<p>Using the matrix notation for the sample linear equations (<span class=\"math inline\">\\(\\mathbf{Y} = \\mathbf{X} \\boldsymbol{\\beta} + \\boldsymbol{\\varepsilon}\\)</span>) gives us the following:</p>\n",
    "\n",
    "$\\begin{aligned}\n",
    "\\widehat{\\boldsymbol{\\beta}} &= \\left( \\mathbf{X}^\\top \\mathbf{X}\\right)^{-1} \\mathbf{X}^\\top \\mathbf{Y} \\\\\n",
    "&= \\left( \\mathbf{X}^\\top \\mathbf{X}\\right)^{-1} \\mathbf{X}^\\top \\left( \\mathbf{X} \\boldsymbol{\\beta} + \\boldsymbol{\\varepsilon} \\right) \\\\\n",
    "&= \\left( \\mathbf{X}^\\top \\mathbf{X}\\right)^{-1} \\mathbf{X}^\\top \\mathbf{X} \\boldsymbol{\\beta} + \\left( \\mathbf{X}^\\top  \\mathbf{X}\\right)^{-1} \\mathbf{X}^\\top \\boldsymbol{\\varepsilon} \\\\\n",
    "&= \\boldsymbol{\\beta} + \\left( \\mathbf{X}^\\top  \\mathbf{X}\\right)^{-1} \\mathbf{X}^\\top \\boldsymbol{\\varepsilon} \n",
    "\\end{aligned}$\n",
    "\n",
    "\n",
    "<p>If we take the expectation of both sides and use the law of total expectation:</p>\n",
    "<p>\n",
    "    $\\begin{aligned}\n",
    "\\mathbb{E} \\left[ \\widehat{\\boldsymbol{\\beta}} \\right] &= \\boldsymbol{\\beta} + \\mathbb{E} \\left[ \\left( \\mathbf{X}^\\top \\mathbf{X}\\right)^{-1} \\mathbf{X}^\\top \\boldsymbol{\\varepsilon} \\right] \\\\\n",
    "&= \\boldsymbol{\\beta} + \\mathbb{E} \\left[ \\mathbb{E} \\left( \\left( \\mathbf{X}^\\top \\mathbf{X}\\right)^{-1} \\mathbf{X}^\\top \\boldsymbol{\\varepsilon} \\biggr\\rvert \\mathbf{X}\\right)\\right] \\\\\n",
    "&= \\boldsymbol{\\beta} + \\mathbb{E} \\left[ \\left( \\mathbf{X}^\\top \\mathbf{X}\\right)^{-1} \\mathbf{X}^\\top \\mathbb{E} \\left(  \\boldsymbol{\\varepsilon} | \\mathbf{X}\\right)\\right] \\\\\n",
    "&= \\boldsymbol{\\beta}\n",
    "\\end{aligned}$\n",
    "    \n",
    "    \n",
    "since $\\mathbb{E} \\left( \\boldsymbol{\\varepsilon} | \\mathbf{X}\\right) = \\mathbf{0}$ from <strong>(UR.2)</strong>.</p>\n",
    "<p>We have shown that <span class=\"math inline\">\\(\\mathbb{E} \\left[ \\widehat{\\boldsymbol{\\beta}} \\right] = \\boldsymbol{\\beta}\\)</span> - i.e., the OLS estimator <span class=\"math inline\">\\(\\widehat{\\boldsymbol{\\beta}}\\)</span> is an <strong>unbiased</strong> estimator of <span class=\"math inline\">\\(\\boldsymbol{\\beta}\\)</span>.</p>\n",
    "<p>Unbiasedness does not guarantee that the estimate we get with any particular sample is equal (or even very close) to <span class=\"math inline\">\\(\\boldsymbol{\\beta}\\)</span>. It means that if we could <em>repeatedly</em> draw random samples from the population and compute the estimate each time, then the average of these estimates would be (very close to) <span class=\"math inline\">\\(\\boldsymbol{\\beta}\\)</span>.</p>\n",
    "</div>\n",
    "\n",
    "\n",
    "\n",
    "### OLS estimators are Best (Efficient)\n",
    "\n",
    "<p>When there is more than one unbiased method of estimation to choose from, that estimator which has the lowest variance is the <strong>best</strong>. In other words, we want to show that OLS estimators are <em>best</em> in the sense that <span class=\"math inline\">\\(\\widehat{\\boldsymbol{\\beta}}\\)</span> are <strong>efficient</strong> estimators of <span class=\"math inline\">\\(\\boldsymbol{\\beta}\\)</span> (i.e. they have the <strong>smallest variance</strong>).</p>\n",
    "<p>To do so we will calculate the variance - the average distance of an element from the average - as follows (remember that for OLS estimators, condition <strong>(UR.3)</strong> holds true):</p>\n",
    "<p>From the proof of <strong>unbiasedness</strong> of the OLS we have that:\n",
    "<span class=\"math display\">\\[\n",
    "\\begin{aligned}\n",
    "\\widehat{\\boldsymbol{\\beta}} =  \\boldsymbol{\\beta} + \\left( \\mathbf{X}^\\top  \\mathbf{X}\\right)^{-1} \\mathbf{X}^\\top \\boldsymbol{\\varepsilon} \\Longrightarrow \\widehat{\\boldsymbol{\\beta}} - \\boldsymbol{\\beta} = \\left( \\mathbf{X}^\\top  \\mathbf{X}\\right)^{-1} \\mathbf{X}^\\top \\boldsymbol{\\varepsilon} \n",
    "\\end{aligned}\n",
    "\\]</span>\n",
    "Which we can then use this expression for calculating the <strong>variance-covariance matrix</strong> of the OLS estimator:\n",
    "    \n",
    "$\\begin{aligned}\n",
    "\\mathbb{V}{\\rm ar} (\\widehat{\\boldsymbol{\\beta}}) &= \\mathbb{E} \\left[(\\widehat{\\boldsymbol{\\beta}} - \\mathbb{E}(\\widehat{\\boldsymbol{\\beta}}))(\\widehat{\\boldsymbol{\\beta}} - \\mathbb{E}(\\widehat{\\boldsymbol{\\beta}}))^\\top \\right] \\\\\n",
    "&= \\mathbb{E} \\left[(\\widehat{\\boldsymbol{\\beta}} - \\boldsymbol{\\beta})(\\widehat{\\boldsymbol{\\beta}} - \\boldsymbol{\\beta})^\\top \\right] \\\\\n",
    "&= \\mathbb{E} \\left[  \\left( \\mathbf{X}^\\top  \\mathbf{X}\\right)^{-1} \\mathbf{X}^\\top \\boldsymbol{\\varepsilon}  \\left( \\left( \\mathbf{X}^\\top  \\mathbf{X}\\right)^{-1} \\mathbf{X}^\\top \\boldsymbol{\\varepsilon} \\right)^\\top \\right] \\\\\n",
    "&= \\mathbb{E} \\left[  \\left( \\mathbf{X}^\\top  \\mathbf{X}\\right)^{-1} \\mathbf{X}^\\top \\boldsymbol{\\varepsilon} \\boldsymbol{\\varepsilon}^\\top \\mathbf{X} \\left( \\mathbf{X}^\\top  \\mathbf{X}\\right)^{-1} \\right] \\\\\n",
    "&= \\left( \\mathbf{X}^\\top  \\mathbf{X}\\right)^{-1} \\mathbf{X}^\\top  \\mathbb{E} \\left[  \\boldsymbol{\\varepsilon} \\boldsymbol{\\varepsilon}^\\top\\right]  \\mathbf{X} \\left( \\mathbf{X}^\\top  \\mathbf{X}\\right)^{-1} \\\\\n",
    "&= \\left( \\mathbf{X}^\\top  \\mathbf{X}\\right)^{-1} \\mathbf{X}^\\top  \\left(\\sigma^2 \\mathbf{I} \\right)  \\mathbf{X} \\left( \\mathbf{X}^\\top  \\mathbf{X}\\right)^{-1} \\\\\n",
    "&= \\sigma^2 \\left( \\mathbf{X}^\\top  \\mathbf{X}\\right)^{-1} \\mathbf{X}^\\top \\mathbf{X} \\left( \\mathbf{X}^\\top  \\mathbf{X}\\right)^{-1} \\\\\n",
    "&= \\sigma^2 \\left( \\mathbf{X}^\\top  \\mathbf{X}\\right)^{-1}\n",
    "\\end{aligned}$\n",
    "\n",
    "\n",
    "### Estimating the variance parameter of the error term\n",
    "\n",
    "\n",
    "<p>We see an immediate problem from the OLS estimator variance formulas - we do not know the true error variance <span class=\"math inline\">\\(\\sigma^2\\)</span>. However, we can estimate it by calculating the <strong>sample</strong> residual variance:\n",
    "<span class=\"math display\">\\[\n",
    "\\widehat{\\sigma}^2 = s^2 = \\dfrac{\\widehat{\\boldsymbol{\\varepsilon}}^\\top \\widehat{\\boldsymbol{\\varepsilon}}}{N - k} = \\dfrac{1}{N-k} \\sum_{i = 1}^N \\widehat{\\epsilon}_i^2\n",
    "\\]</span></p>\n",
    "\n",
    "<p>Note that this is an <strong>estimated variance</strong>. Nevertheless, it is a key component in assessing the accuracy of the parameter estimates (when calculating test statistics and confidence intervals).</p>\n",
    "<p>Since we estimate <span class=\"math inline\">\\(\\widehat{\\boldsymbol{\\beta}}\\)</span> from the a random sample, the estimator <span class=\"math inline\">\\(\\widehat{\\boldsymbol{\\beta}}\\)</span> is a random variable as well. We can measure the uncertainty of <span class=\"math inline\">\\(\\widehat{\\boldsymbol{\\beta}}\\)</span> via its standard deviation. This is the <em>standard error</em> of our estimate of <span class=\"math inline\">\\(\\boldsymbol{\\beta}\\)</span>:</p>"
   ]
  },
  {
   "cell_type": "markdown",
   "metadata": {},
   "source": [
    "<p>\n",
    "The square roots of the diagonal elements of the variance-covariance matrix <span class=\"math inline\"><span class=\"math inline\">\\(\\widehat{\\mathbb{V}{\\rm ar}} (\\widehat{\\boldsymbol{\\beta}})\\)</span></span> are called <strong>the standard errors (se)</strong> of the corresponding OLS estimators <span class=\"math inline\"><span class=\"math inline\">\\(\\widehat{\\boldsymbol{\\beta}}\\)</span></span>, which we use to <strong>estimate</strong> the standard <strong>deviation</strong> of <span class=\"math inline\"><span class=\"math inline\">\\(\\widehat{\\beta}_i\\)</span></span> from <span class=\"math inline\"><span class=\"math inline\">\\(\\beta_i\\)</span></span> <span class=\"math display\"><span class=\"math display\">\\[\n",
    "\\text{se}(\\widehat{\\beta}_i) = \\sqrt{\\widehat{\\mathbb{V}{\\rm ar}} (\\mathbf{\\widehat{\\beta}_i})}\n",
    "\\]</span></span>\n",
    "</p>\n",
    "<p>\n",
    "The standard errors describe the accuracy of an estimator (the smaller the better). The standard errors are measures of the <strong>sampling variability</strong> of the least squares estimates <span class=\"math inline\"><span class=\"math inline\">\\(\\widehat{\\beta}_1\\)</span></span> and <span class=\"math inline\"><span class=\"math inline\">\\(\\widehat{\\beta}_2\\)</span></span> in <strong>repeated samples</strong> - if we collect a number of different data samples, the OLS estimates will be different for each sample. As such, the OLS estimators are <strong>random variables</strong> and have their own distribution.\n",
    "</p>"
   ]
  },
  {
   "cell_type": "code",
   "execution_count": 55,
   "metadata": {},
   "outputs": [
    {
     "data": {
      "text/plain": [
       "Intercept    0.000365\n",
       "MKT          0.035705\n",
       "SMB          0.063897\n",
       "HML          0.057064\n",
       "RMW          0.101819\n",
       "CMA          0.149880\n",
       "dtype: float64"
      ]
     },
     "execution_count": 55,
     "metadata": {},
     "output_type": "execute_result"
    }
   ],
   "source": [
    "FF5.bse\n",
    "\n",
    "# Note: the b in bse stands for the parameter vector β, and se - standard errors."
   ]
  },
  {
   "cell_type": "markdown",
   "metadata": {},
   "source": [
    "## Confidence Intervals\n",
    "\n",
    "In this section we will introduce the notion of interval estimation - a procedure for creating ranges of values, called confidence intervals, in which the unknown parameters are likely to be located. Confidence interval creation procedures rely heavily on (UR.4) assumption."
   ]
  },
  {
   "cell_type": "code",
   "execution_count": 57,
   "metadata": {},
   "outputs": [
    {
     "data": {
      "text/html": [
       "<div>\n",
       "<style scoped>\n",
       "    .dataframe tbody tr th:only-of-type {\n",
       "        vertical-align: middle;\n",
       "    }\n",
       "\n",
       "    .dataframe tbody tr th {\n",
       "        vertical-align: top;\n",
       "    }\n",
       "\n",
       "    .dataframe thead th {\n",
       "        text-align: right;\n",
       "    }\n",
       "</style>\n",
       "<table border=\"1\" class=\"dataframe\">\n",
       "  <thead>\n",
       "    <tr style=\"text-align: right;\">\n",
       "      <th></th>\n",
       "      <th>0</th>\n",
       "      <th>1</th>\n",
       "    </tr>\n",
       "  </thead>\n",
       "  <tbody>\n",
       "    <tr>\n",
       "      <th>Intercept</th>\n",
       "      <td>-0.005060</td>\n",
       "      <td>-0.003629</td>\n",
       "    </tr>\n",
       "    <tr>\n",
       "      <th>MKT</th>\n",
       "      <td>1.104115</td>\n",
       "      <td>1.244078</td>\n",
       "    </tr>\n",
       "    <tr>\n",
       "      <th>SMB</th>\n",
       "      <td>-0.363729</td>\n",
       "      <td>-0.113258</td>\n",
       "    </tr>\n",
       "    <tr>\n",
       "      <th>HML</th>\n",
       "      <td>-0.444311</td>\n",
       "      <td>-0.220624</td>\n",
       "    </tr>\n",
       "    <tr>\n",
       "      <th>RMW</th>\n",
       "      <td>0.269044</td>\n",
       "      <td>0.668167</td>\n",
       "    </tr>\n",
       "    <tr>\n",
       "      <th>CMA</th>\n",
       "      <td>-0.890928</td>\n",
       "      <td>-0.303408</td>\n",
       "    </tr>\n",
       "  </tbody>\n",
       "</table>\n",
       "</div>"
      ],
      "text/plain": [
       "                  0         1\n",
       "Intercept -0.005060 -0.003629\n",
       "MKT        1.104115  1.244078\n",
       "SMB       -0.363729 -0.113258\n",
       "HML       -0.444311 -0.220624\n",
       "RMW        0.269044  0.668167\n",
       "CMA       -0.890928 -0.303408"
      ]
     },
     "execution_count": 57,
     "metadata": {},
     "output_type": "execute_result"
    }
   ],
   "source": [
    "FF5.conf_int()"
   ]
  },
  {
   "cell_type": "markdown",
   "metadata": {},
   "source": [
    "## Hypothesis Testing\n",
    "\n",
    "in practice, we usually want to answer very specific questions about the effects of specific variables:\n",
    "\n",
    "Does income affect expenditure?\n",
    "Do more years in education lead to an increase in wage?\n",
    "Hypothesis tests use the information about a parameter from the sample data to answer such yes/no questions (though not necessarily in such strong certainty)."
   ]
  },
  {
   "cell_type": "markdown",
   "metadata": {},
   "source": [
    "### The Null Hypothesis\n",
    "\n",
    "<p>The <strong>null hypothesis</strong> is denoted by <span class=\"math inline\">\\(H_0\\)</span>, and for the univariate regression can be stated as:\n",
    "<span class=\"math display\">\\[\n",
    "H_0: \\beta_i = c\n",
    "\\]</span>\n",
    "where <span class=\"math inline\">\\(c\\)</span> is a constant value, which we are interested in. When testing the null hypothesis, we may either <strong>reject</strong> or <strong>fail to reject</strong> the null hypothesis.</p>\n",
    "<div class=\"THEOREM\">\n",
    "<p>\n",
    "<strong>The null hypothesis, is presumed to be true, until the data provides sufficient evidence that it is not.</strong>\n",
    "</p>\n",
    "</div>\n",
    "<p>If we fail to reject the null hypothesis, it does not mean the null hypothesis is true. A hypothesis test does not determine which hypothesis is <strong>true</strong>, or which is most likely: it only assesses whether available evidence exists to <strong>reject</strong> the null hypothesis.</p>\n",
    "</div>\n",
    "\n",
    "\n",
    "###  The Alternative Hypothesis\n",
    "\n",
    "<p>Once, we state our null hypothesis, we must test it <em>against</em> and <strong>alternative hypothesis</strong>, denoted <span class=\"math inline\">\\(H_1\\)</span>.</p>\n",
    "<p>For the null hypothesis <span class=\"math inline\">\\(H_0: \\beta_i = c\\)</span> we may specify the alternative hypothesis in thee possible ways:</p>\n",
    "<ul>\n",
    "<li><span class=\"math inline\">\\(H_1: \\beta_i &gt; c\\)</span> - rejecting <span class=\"math inline\">\\(H_0\\)</span>, leads us to “accept” the conclusion that <span class=\"math inline\">\\(\\beta_i &gt; c\\)</span>. Economic theory frequently provides information about the <strong>signs</strong> of the variable parameters. For example: economic theory strongly suggests that food expenditure will rise if income increases, so we would test <span class=\"math inline\">\\(H_0: \\beta_{INCOME} = 0\\)</span> against <span class=\"math inline\">\\(H_1: \\beta_{INCOME} &gt; 0\\)</span>.</li>\n",
    "<li><span class=\"math inline\">\\(H_1: \\beta_i &lt; c\\)</span> - rejecting <span class=\"math inline\">\\(H_0\\)</span>, leads us to “accept” the conclusion that <span class=\"math inline\">\\(\\beta_i &lt; c\\)</span>.</li>\n",
    "<li><span class=\"math inline\">\\(H_1: \\beta_i \\neq c\\)</span> - rejecting <span class=\"math inline\">\\(H_0\\)</span>, leads us to “accept” the conclusion that <span class=\"math inline\">\\(\\beta_i\\)</span> is either greater <em>or</em> smaller than <span class=\"math inline\">\\(c\\)</span>.</li>\n",
    "</ul>\n",
    "<div class=\"THEOREM\">\n",
    "<p>\n",
    "<strong>We usually talk about hypothesis testing in terms of the null</strong>, i.e. we either <strong>reject</strong> or <strong>fail to reject</strong> the null - we <strong>never</strong> <em>accept</em> the null. As such, if we reject the null, then we “accept” (i.e. we are left with) the alternative.\n",
    "</p>\n",
    "</div>\n",
    "</div>\n",
    "\n",
    "\n",
    "\n",
    "### The Test Statistic\n",
    "\n",
    "\n",
    "<p>The <strong>test statistic</strong> is calculated under the null hypothesis (i.e. assuming the null hypothesis is <em>true</em>). Under the null hypothesis the distribution of the statistic is <em>known</em>. Based on the value of the test statistic, we decide whether to reject, or fail to reject the null.</p>\n",
    "<p>Under the null hypothesis <span class=\"math inline\">\\(H_0: \\beta_i = c\\)</span> of our univariate regression model, we can calculate the following <strong><span class=\"math inline\">\\(t\\)</span>-statistic</strong>:\n",
    "<span class=\"math display\">\\[\n",
    "t_i = \\dfrac{\\widehat{\\beta}_i - c}{\\text{se}(\\widehat{\\beta}_i)} \\sim t_{(N-2)}\n",
    "\\]</span>\n",
    "If the null hypothesis is <em>not true</em>, then the <span class=\"math inline\">\\(t\\)</span>-statistic does not have a <span class=\"math inline\">\\(t\\)</span>-distribution with <span class=\"math inline\">\\(N-2\\)</span> degrees of freedom, but some other distribution.</p>\n",
    "</div>\n",
    "\n",
    "\n",
    "### The Rejection Regions\n",
    "<p>The <strong>rejection region</strong> consists of values that have low probability of occurring when the null hypothesis is true. The rejection region depends on the specification of the alternative hypothesis. If the calculated <em>test statistic</em> value falls in the rejection region (i.e. an unlikely event to occur under the null), then it is unlikely that the null hypothesis is holds.</p>\n",
    "<p>The size of the rejection regions are determined by choosing a <strong>level of significance <span class=\"math inline\">\\(\\alpha\\)</span></strong> - a probability of the unlikely event, usually <span class=\"math inline\">\\(0.01\\)</span>, <span class=\"math inline\">\\(0.05\\)</span>, <span class=\"math inline\">\\(0.1\\)</span>.</p>\n",
    "<div class=\"THEOREM\">\n",
    "<p>\n",
    "To determine, whether to reject the null hypothesis or not, we will compare the calculated <span class=\"math inline\"><span class=\"math inline\">\\(t\\)</span></span>-statistic <span class=\"math inline\"><span class=\"math inline\">\\(t_i\\)</span></span> to the critical value <span class=\"math inline\"><span class=\"math inline\">\\(t_c\\)</span></span>.\n",
    "</p>\n",
    "</div>\n",
    "\n",
    "\n",
    "### Type I and Type II Errors\n",
    "<p>When deciding whether to reject the null hypothesis or not, we may commit one of two types of errors:</p>\n",
    "<ul>\n",
    "<li><strong>Type I error</strong> - <strong>to reject the null hypothesis when it is true</strong>. The probability of committing Type I error is <span class=\"math inline\">\\(\\mathbb{P}(H_0 \\text{ rejected} | H_0 \\text{ is true}) = \\alpha\\)</span>. Any time we reject the null hypothesis, it is possible that we have made such an error. We can specify the amount of Type I error, that we can tolerate, by setting the level of significance <span class=\"math inline\">\\(\\alpha\\)</span>. If we want to avoid making a <strong>Type I</strong> error, then we set <span class=\"math inline\">\\(\\alpha\\)</span> to a very small value.</li>\n",
    "<li><strong>Type II error</strong> - <strong>to not reject the null hypothesis when it is false</strong>. We cannot directly calculate the probability of this type of error, since it depends on the unknown parameter <span class=\"math inline\">\\(\\beta_i\\)</span>. However, we do know that by making <span class=\"math inline\">\\(\\alpha\\)</span> smaller we increase the probability of <strong>Type II</strong> error.</li>\n",
    "</ul>\n",
    "<p>It is believed that a <strong>Type I</strong> error is more severe, hence, it is recommended to make the probability <span class=\"math inline\">\\(\\alpha\\)</span> small.</p>\n",
    "</div>\n",
    "</div>\n",
    "\n",
    "\n",
    "### The <span class=\"math inline\">\\(p\\)</span>-value\n",
    "\n",
    "<p>When reporting the outcome of statistical hypothesis tests, we usually report the <span class=\"math inline\">\\(p\\)</span>-value of the test. The <span class=\"math inline\">\\(p\\)</span>-value is defined as the probability, under the null hypothesis, of obtaining a result, which is equal to, or more extreme, than what was actually observed.</p>\n",
    "<p>Having the <span class=\"math inline\">\\(p\\)</span>-value allows us to easier determine the outcome of the test, as we do not need to directly compare the critical values.</p>\n",
    "<div class=\"THEOREM\">\n",
    "<ul>\n",
    "<li>\n",
    "If <span class=\"math inline\"><span class=\"math inline\">\\(p \\leq \\alpha\\)</span></span>, we <strong>reject</strong> <span class=\"math inline\"><span class=\"math inline\">\\(H_0\\)</span></span>.\n",
    "</li>\n",
    "<li>\n",
    "If <span class=\"math inline\"><span class=\"math inline\">\\(p \\geq \\alpha\\)</span></span>, we <strong>do not reject</strong> <span class=\"math inline\"><span class=\"math inline\">\\(H_0\\)</span></span>.\n",
    "</li>\n",
    "</ul>\n",
    "</div>\n",
    "</div>"
   ]
  },
  {
   "cell_type": "code",
   "execution_count": 58,
   "metadata": {},
   "outputs": [
    {
     "data": {
      "text/plain": [
       "Intercept     1.147488e-32\n",
       "MKT          3.858437e-237\n",
       "SMB           1.896132e-04\n",
       "HML           5.669656e-09\n",
       "RMW           4.177710e-06\n",
       "CMA           6.767988e-05\n",
       "dtype: float64"
      ]
     },
     "execution_count": 58,
     "metadata": {},
     "output_type": "execute_result"
    }
   ],
   "source": [
    "FF5.pvalues"
   ]
  },
  {
   "cell_type": "markdown",
   "metadata": {},
   "source": [
    "## Goodness-Of-Fit\n",
    "\n",
    "<p>In order to have an accurate prediction of <span class=\"math inline\">\\(Y\\)</span>, we hope that the independent variable <span class=\"math inline\">\\(X\\)</span> helps us <em>explain</em> as much variation in <span class=\"math inline\">\\(Y\\)</span> as possible (hence why <span class=\"math inline\">\\(X\\)</span> is usually referred to as an <em>explanatory</em> variable). Ideally, the variance of <span class=\"math inline\">\\(X\\)</span> will help <em>explain</em> the variance in <span class=\"math inline\">\\(Y\\)</span>. Having said that, we would like to have a way to <strong>measure</strong> just how <em>good</em> our model is - how much of the variation in <span class=\"math inline\">\\(Y\\)</span> can be explained by the variation in <span class=\"math inline\">\\(X\\)</span> using our model - we need a <strong>goodness-of-fit</strong> measure.</p>\n",
    "<p>Another way to look at it is - a <strong>goodness-of-fit</strong> measure aims to quantify how well the estimated model <em>fits</em> the data. Fortunately, there are many ways to measure the goodness-of-fit of the estimated model.</p>"
   ]
  },
  {
   "cell_type": "markdown",
   "metadata": {},
   "source": [
    "### R-squared, <span class=\"math inline\">\\(R^2\\)</span>\n",
    "\n",
    "\n",
    "<p>It is often useful to compute a number that summarizes how well the OLS regression fits the data. This measure is called the <strong>coefficient of determination</strong>, <span class=\"math inline\">\\(R^2\\)</span>, which is the ratio of explained variation, compared to the total variation, i.e. the proportion of variation in <span class=\"math inline\">\\(Y\\)</span> that is explained by <span class=\"math inline\">\\(X\\)</span> in our regression model:\n",
    "<span class=\"math display\">\\[\n",
    "R^2 = \\dfrac{\\text{ESS}}{\\text{TSS}} = 1 - \\dfrac{\\text{RSS}}{\\text{TSS}}\n",
    "\\]</span></p>\n",
    "<ul>\n",
    "<li>The closer <span class=\"math inline\">\\(R^2\\)</span> is to <span class=\"math inline\">\\(1\\)</span>, the closer the sample values of <span class=\"math inline\">\\(Y_i\\)</span> are to the fitted values <span class=\"math inline\">\\(\\widehat{Y}\\)</span> of our regression. Ir <span class=\"math inline\">\\(R^2 = 1\\)</span>, then all the sample data fall exactly on the fitted regression. In such a case our model would be a <em>perfect fit</em> for our data.</li>\n",
    "<li>If the sample data of <span class=\"math inline\">\\(Y\\)</span> and <span class=\"math inline\">\\(X\\)</span> do not have a linear relationship, then <span class=\"math inline\">\\(R^2 = 0\\)</span> of a univariate regression.</li>\n",
    "<li>Values <span class=\"math inline\">\\(0 &lt; R^2 &lt; 1\\)</span>, the interpretation of <span class=\"math inline\">\\(R^2\\)</span> is as <em>the proportion of the variation in <span class=\"math inline\">\\(Y\\)</span> around its mean, that is explained by the regression model</em>. For example <span class=\"math inline\">\\(R^2 = 0.17\\)</span> means that <span class=\"math inline\">\\(17\\%\\)</span> of the variation in <span class=\"math inline\">\\(Y\\)</span> is explained by <span class=\"math inline\">\\(X\\)</span>.</li>\n",
    "</ul>\n",
    "<div class=\"THEOREM\">\n",
    "<p>\n",
    "When comparing <span class=\"math inline\"><span class=\"math inline\">\\(\\text{RSS}\\)</span></span> of different models, we want to choose the model, which better fits our data. If we want to choose a model based on its <span class=\"math inline\"><span class=\"math inline\">\\(R^2\\)</span></span> value we should note a couple of things:\n",
    "</p>\n",
    "<ul>\n",
    "<li>\n",
    "<p>\n",
    "<span class=\"math inline\"><span class=\"math inline\">\\(R^2\\)</span></span> comparison <strong>is not valid</strong> for comparing models, that <strong>do not have have the same transformation of the dependent variable</strong>, for example two models - one with <span class=\"math inline\"><span class=\"math inline\">\\(Y\\)</span></span> and the other with <span class=\"math inline\"><span class=\"math inline\">\\(\\log(Y)\\)</span></span> dependent variables cannot be compared via <span class=\"math inline\"><span class=\"math inline\">\\(R^2\\)</span></span>.\n",
    "</p>\n",
    "</li>\n",
    "<li>\n",
    "<p>\n",
    "<span class=\"math inline\"><span class=\"math inline\">\\(R^2\\)</span></span> does not measure the predictability power of the model. For example, a linear model may be a good fit for the data, but its forecasts may not make economic sense (e.g. forecasting negative wage for low values of years in education via a simple linear model).\n",
    "</p>\n",
    "</li>\n",
    "<li>\n",
    "<p>\n",
    "<span class=\"math inline\"><span class=\"math inline\">\\(R^2\\)</span></span> is based on the sample data, so it says nothing whether our model is close to the true population DGP.\n",
    "</p>\n",
    "</li>\n",
    "<li>\n",
    "<p>\n",
    "<span class=\"math inline\"><span class=\"math inline\">\\(R^2\\)</span></span> may be low if: the error variance, <span class=\"math inline\"><span class=\"math inline\">\\(\\sigma^2\\)</span></span>, is large; or if the variance of <span class=\"math inline\"><span class=\"math inline\">\\(X\\)</span></span> is small.\n",
    "</p>\n",
    "</li>\n",
    "<li>\n",
    "<p>\n",
    "<span class=\"math inline\"><span class=\"math inline\">\\(R^2\\)</span></span> may be large even if the model is wrong. For example, even if the true relationship is non-linear, a linear model may have a larger <span class=\"math inline\"><span class=\"math inline\">\\(R^2\\)</span></span>, compared to the quadratic, or even the log-linear model.\n",
    "</p>\n",
    "</li>\n",
    "<li>\n",
    "<p>\n",
    "On the other hand, <strong>the goodness-of-fit</strong> of the model does not depend on the unit of measurement of our variables (e.g. dollars vs thousands of dollars). Furthermore, comparisons of <span class=\"math inline\"><span class=\"math inline\">\\(R^2\\)</span></span> are valid, if we compare a simple linear model to a linear-log model, as they both have the same dependent variable, <span class=\"math inline\"><span class=\"math inline\">\\(Y\\)</span></span>.\n",
    "</p>\n",
    "</li>\n",
    "</ul>\n",
    "<p>\n",
    "In any case, a model should not be chosen <strong>only</strong> on the basis of model fit with <span class=\"math inline\"><span class=\"math inline\">\\(R^2\\)</span></span> as the criterion.\n",
    "</p>\n",
    "</div>"
   ]
  },
  {
   "cell_type": "code",
   "execution_count": 59,
   "metadata": {},
   "outputs": [
    {
     "data": {
      "text/plain": [
       "0.6371536242060707"
      ]
     },
     "execution_count": 59,
     "metadata": {},
     "output_type": "execute_result"
    }
   ],
   "source": [
    "FF5.rsquared"
   ]
  },
  {
   "cell_type": "code",
   "execution_count": 60,
   "metadata": {},
   "outputs": [
    {
     "data": {
      "text/plain": [
       "0.6355438354935865"
      ]
     },
     "execution_count": 60,
     "metadata": {},
     "output_type": "execute_result"
    }
   ],
   "source": [
    "FF5.rsquared_adj"
   ]
  },
  {
   "cell_type": "markdown",
   "metadata": {},
   "source": [
    "### Regression Diagnostics and Graphics"
   ]
  },
  {
   "cell_type": "markdown",
   "metadata": {},
   "source": [
    "<p>In many cases while carrying out statistical/econometric analysis, we are not sure, whether we have correctly specified our model. As we have seen, the <span class=\"math inline\">\\(R^2\\)</span> can be artificially small (or large), regardless of the specified model. As such, there are a number of regression diagnostics and specification tests.</p>\n",
    "<p>For the univariate regression, the most crucial assumptions come from <strong>(UR.3)</strong> and <strong>(UR.4)</strong>, namely:</p>\n",
    "<ul>\n",
    "<li><span class=\"math inline\">\\(\\mathbb{V}{\\rm ar} (\\epsilon_i | \\mathbf{X} ) = \\sigma^2_\\epsilon,\\ \\forall i = 1,..,N\\)</span></li>\n",
    "<li><span class=\"math inline\">\\(\\mathbb{C}{\\rm ov} (\\epsilon_i, \\epsilon_j) = 0,\\ i \\neq j\\)</span></li>\n",
    "<li><span class=\"math inline\">\\(\\boldsymbol{\\varepsilon} | \\mathbf{X} \\sim \\mathcal{N} \\left( \\mathbf{0}, \\sigma^2_\\epsilon \\mathbf{I} \\right)\\)</span></li>\n",
    "</ul>\n",
    "<p>We note that the residuals are defined as:\n",
    "    \n",
    "    \n",
    "$\\begin{aligned}\n",
    "\\widehat{\\boldsymbol{\\varepsilon}} &= \\mathbf{Y} - \\widehat{\\mathbf{Y} } \\\\\n",
    "&= \\mathbf{Y} - \\mathbf{X} \\widehat{\\boldsymbol{\\beta}} \\\\\n",
    "&= \\mathbf{Y} - \\mathbf{X} \\left( \\mathbf{X}^\\top \\mathbf{X}\\right)^{-1} \\mathbf{X}^\\top \\mathbf{Y} \\\\\n",
    "&= \\left[ \\mathbf{I} - \\mathbf{X} \\left( \\mathbf{X}^\\top \\mathbf{X}\\right)^{-1} \\mathbf{X}^\\top \\right]\\mathbf{Y}\n",
    "\\end{aligned}$\n",
    "    \n",
    "   \n",
    "Hence, for the OLS <strong>residuals</strong> (i.e. not the true unobserved errors) the expected value of the residuals is still zero:\n",
    "\n",
    "\n",
    "$\\begin{aligned}\n",
    "\\mathbb{E} \\left( \\widehat{\\boldsymbol{\\varepsilon}}| \\mathbf{X} \\right) &=  \\mathbb{E} \\left( \\left[ \\mathbf{I} - \\mathbf{X} \\left( \\mathbf{X}^\\top \\mathbf{X}\\right)^{-1} \\mathbf{X}^\\top \\right]\\mathbf{Y} | \\mathbf{X} \\right)\\\\\n",
    "&= \\mathbb{E} \\left( \\left[ \\mathbf{I} - \\mathbf{X} \\left( \\mathbf{X}^\\top \\mathbf{X}\\right)^{-1} \\mathbf{X}^\\top \\right] \\left( \\mathbf{X} \\boldsymbol{\\beta} + \\boldsymbol{\\varepsilon} \\right) | \\mathbf{X} \\right) \\\\\n",
    "&= \\mathbf{X} \\boldsymbol{\\beta} + \\mathbb{E} (\\boldsymbol{\\varepsilon}) - \\mathbf{X} \\boldsymbol{\\beta} - \\mathbf{X} \\left( \\mathbf{X}^\\top \\mathbf{X}\\right)^{-1} \\mathbf{X}^\\top \\mathbb{E} (\\boldsymbol{\\varepsilon}) \\\\\n",
    "&= 0\n",
    "\\end{aligned}$\n",
    "\n",
    "\n",
    "For simplicity, let $\\widehat{\\boldsymbol{\\varepsilon}} = \\left[ \\mathbf{I} - \\mathbf{H}\\right]\\mathbf{Y}$, where $\\mathbf{H}\\ = \\mathbf{X} \\left( \\mathbf{X}^\\top \\mathbf{X}\\right)^{-1} \\mathbf{X}^\\top$.</p>\n",
    "\n",
    "\n",
    "<p>Consequently, the variance-covariance matrix of the residuals is:</p>\n",
    "\n",
    "$\\begin{equation}\n",
    "\\begin{aligned}\n",
    "\\mathbb{V}{\\rm ar} \\left( \\widehat{\\boldsymbol{\\varepsilon}}| \\mathbf{X}\\right) &= \\mathbb{V}{\\rm ar} \\left( \\left[ \\mathbf{I} - \\mathbf{H}\\right]\\mathbf{Y}|\\mathbf{X}\\right) \\\\\n",
    "&= \\left[ \\mathbf{I} - \\mathbf{H}\\right]\\mathbb{V}{\\rm ar} \\left( \\mathbf{Y} | \\mathbf{X}\\right) \\left[ \\mathbf{I} - \\mathbf{H}\\right]^\\top \\\\\n",
    "&= \\left[ \\mathbf{I} - \\mathbf{H}\\right] \\sigma^2 \\left[ \\mathbf{I} - \\mathbf{H}\\right]^\\top \\\\\n",
    "&= \\sigma^2 \\left[ \\mathbf{I} - \\mathbf{H}^\\top - \\mathbf{H} + \\mathbf{H} \\mathbf{H}^\\top\\right] \\\\\n",
    "&= \\sigma^2 \\left[ \\mathbf{I} - \\mathbf{H}^\\top - \\mathbf{H} + \\mathbf{H}^\\top\\right] \\\\\n",
    "&= \\sigma^2 \\left[ \\mathbf{I} - \\mathbf{H}\\right]\n",
    "\\end{aligned}\n",
    "\\end{equation}$\n",
    "\n",
    "\n",
    "<div class=\"THEOREM\">\n",
    "<p>\n",
    "This result shows an important distinction of the residuals from the errors - the residuals may have different variances (which are the diagonal elements of <span class=\"math inline\"><span class=\"math inline\">\\(\\mathbb{V}{\\rm ar} \\left( \\widehat{\\boldsymbol{\\varepsilon}}| \\mathbf{X}\\right)\\)</span></span>), even if the true errors (which affect the process <span class=\"math inline\"><span class=\"math inline\">\\(\\mathbf{Y}\\)</span></span>) all have the same variance <span class=\"math inline\"><span class=\"math inline\">\\(\\sigma^2\\)</span></span>.\n",
    "</p>\n",
    "</div>\n",
    "<p>The variance for the fitted values is smallest for observations near the mean and the largest for values, which deviate the most from the process mean.</p>\n",
    "\n",
    "\n",
    "### Residual Diagnostic Plots\n",
    "\n",
    "<p>One way to examine the adequacy of the model is to visualize the residuals. There are a number of ways to do this:</p>\n",
    "<ul>\n",
    "<li>Plotting the residuals <span class=\"math inline\">\\(\\widehat{\\epsilon}_i\\)</span> against the fitted values <span class=\"math inline\">\\(\\widehat{Y}_i\\)</span>;</li>\n",
    "<li>Plotting the residuals <span class=\"math inline\">\\(\\widehat{\\epsilon}_i\\)</span> against <span class=\"math inline\">\\(X_i\\)</span></li>\n",
    "<li>Plotting the residual Q-Q plot, histogram or boxplot.</li>\n",
    "</ul>\n",
    "<p>In all cases, if there are no violations of our <strong>(UR.2)</strong> or <strong>(UR.3)</strong> assumptions - the plots should reveal <strong>no patterns</strong>. The residual histogram, Q-Q plot should be approximately normal so that our assumption <strong>(UR.4)</strong> holds.</p>\n",
    "<p>As we are not guaranteed to specify a correct functional form, residual plots offer a great insight on what possible functional form we may have missed.</p>\n",
    "<p>We should note that when having multiple models, it is only meaningful to compare the residuals of models with the same dependent variable. For example, comparing the residuals of a linear-linear model (with <span class=\"math inline\">\\(Y\\)</span>) and of a log-linear model (with <span class=\"math inline\">\\(\\log(Y)\\)</span>) is <strong>not</strong> meaningful as they have different value scales.</p>\n",
    "<div class=\"THEOREM\">\n",
    "<p>\n",
    "Transforming the dependent or the independent variables may help to alleviate some of the problems of the residuals:\n",
    "</p>\n",
    "<ul>\n",
    "<li>\n",
    "If nonlinearities are present in the residual plots - we must firstly account for them, and only after can we check, whether the errors have a constant variance.\n",
    "</li>\n",
    "<li>\n",
    "Transforming <span class=\"math inline\"><span class=\"math inline\">\\(\\mathbf{Y}\\)</span></span> primarily aims to help with problems with the error terms (and may help with non-linearity);\n",
    "</li>\n",
    "<li>\n",
    "Transforming <span class=\"math inline\"><span class=\"math inline\">\\(\\mathbf{X}\\)</span></span> primarily aims to help with correcting for non-linearity;\n",
    "</li>\n",
    "<li>\n",
    "Sometimes transforming <span class=\"math inline\"><span class=\"math inline\">\\(\\mathbf{X}\\)</span></span> is enough to account for non-linearity and have normally distributed errors, while transforming <span class=\"math inline\"><span class=\"math inline\">\\(\\mathbf{Y}\\)</span></span> may account for non-linearity but might make the errors non-normally distributed.\n",
    "</li>\n",
    "<li>\n",
    "Other times, transforming <span class=\"math inline\"><span class=\"math inline\">\\(\\mathbf{X}\\)</span></span> does not help account for the nonlinear relationship at all;\n",
    "</li>\n",
    "</ul>\n",
    "</div>\n",
    "<p>Remember that the Q-Q plot plots quantiles of the data versus quantiles of a distribution. If the observations come from a normal distribution we would expect the observed order statistics plotted against the expected (theoretical) order statistics to form an approximately straight line.</p>"
   ]
  },
  {
   "cell_type": "code",
   "execution_count": 63,
   "metadata": {},
   "outputs": [
    {
     "data": {
      "image/png": "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\n",
      "text/plain": [
       "<Figure size 432x288 with 1 Axes>"
      ]
     },
     "metadata": {
      "needs_background": "light"
     },
     "output_type": "display_data"
    }
   ],
   "source": [
    "import statsmodels.api as sm\n",
    "from matplotlib import pyplot as plt\n",
    "import scipy.stats as stats\n",
    "\n",
    "fig = sm.qqplot(FF5.resid.values, stats.t, distargs=(6,), fit=True, line=\"45\")\n",
    "plt.show()\n"
   ]
  },
  {
   "cell_type": "markdown",
   "metadata": {},
   "source": [
    "## Residual Heteroskedasticity\n",
    "\n",
    "\n",
    "<p>If <span class=\"math inline\">\\(\\mathbb{V}{\\rm ar} (\\epsilon_i | \\mathbf{X} ) = \\sigma^2_\\epsilon,\\ \\forall i = 1,..,N\\)</span>, we say that the residuals are <strong>homoskedastic</strong>. If this assumption is violated, we say that the residuals are <strong>heteroskedastic</strong> - that is, their variance is not constant throughout observations.</p>\n",
    "<div class=\"THEOREM\">\n",
    "<p>\n",
    "The consequences of heteroskedasticity are as follows:\n",
    "</p>\n",
    "<ul>\n",
    "<li>\n",
    "OLS parameters remain <strong>unbiased</strong>;\n",
    "</li>\n",
    "<li>\n",
    "OLS estimates are no longer efficient (i.e. they no longer have the smallest variance). The reason for this is that OLS gives equal weight to all observations in the data, when in fact, observation with larger error variance contain less information, compared to observations with smaller error variance;\n",
    "</li>\n",
    "<li>\n",
    "The variance estimate of the residuals <strong>is biased</strong>, and hence the standard errors are <strong>biased</strong>. This in turn leads to a bias in test statistics and confidence intervals.\n",
    "</li>\n",
    "<li>\n",
    "Because of standard error bias, we may fail to reject the null hypothesis whether <span class=\"math inline\"><span class=\"math inline\">\\(\\beta_i = 0\\)</span></span> in our estimated model, when the null hypothesis is actually false (i.e. making a Type II error).\n",
    "</li>\n",
    "</ul>\n",
    "<p>\n",
    "There are a few possible corrections to account for heteroskedasticity:\n",
    "</p>\n",
    "<ul>\n",
    "<li>\n",
    "Take logarithms of the data, this may be able to help <strong>linearize</strong> the data and in turn, the residuals;\n",
    "</li>\n",
    "<li>\n",
    "Apply a different estimation method. We will examine this later on, but one possibility is to use a <strong>Weighted Least Squares</strong> estimation method, which gives different observations different weights and allows to account for a non-constant variance;\n",
    "</li>\n",
    "<li>\n",
    "It is possible to correct the the biased standard errors for heteroskedasticity. This would leave the OLS estimates unchanged. <a href=\"https://en.wikipedia.org/wiki/Heteroscedasticity-consistent_standard_errors\">White’s heteroskedasticity-consistent standard errors</a> (or, robust standard errors) give a consistent variance estimator.\n",
    "</li>\n",
    "</ul>\n",
    "</div>"
   ]
  },
  {
   "cell_type": "markdown",
   "metadata": {},
   "source": [
    "<p>There are a number of methods to test for the presence of heteroskedasticity. Some of the tests are:</p>\n",
    "<ul>\n",
    "<li><strong>Goldfeld–Quandt Test</strong>. It divides the dataset into two subsets. The subsets are specified so that the observations for which the explanatory variable takes the lowest values are in one subset, and the highest values - in the other subset. The subsets are not necessarily of equal size, nor do they contain all the observations between them. The test statistic used is the ratio of the mean square residual errors for the regressions on the two subsets. This test statistic corresponds to an F-test of equality of variances. The Goldfeld–Quandt test requires that data be <strong>ordered</strong> along a known explanatory variable, from lowest to highest.</li>\n",
    "</ul>\n",
    "<p>If the error structure depends on an unknown variable or an unobserved variable the Goldfeld–Quandt test provides little guidance. Also, error variance must be a monotonic function of the specified explanatory variable. For example, when faced with a quadratic function mapping the explanatory variable to error variance the Goldfeld–Quandt test may improperly accept the null hypothesis of homoskedastic errors.</p>\n",
    "<p>Unfortunately the Goldfeld–Quandt test is not very robust to specification errors. The Goldfeld–Quandt test detects non-homoskedastic errors but cannot distinguish between heteroskedastic error structure and an underlying specification problem such as an incorrect functional form or an omitted variable.</p>\n",
    "<ul>\n",
    "<li><p><strong>Breusch–Pagan Test</strong>. After estimating the linear regression <span class=\"math inline\">\\(Y = \\beta_0 + \\beta_1 X + \\epsilon\\)</span>, calculate the model residuals <span class=\"math inline\">\\(\\widehat{\\epsilon}_i\\)</span>. The OLS assumptions state that the residual variance does not depend on the independent variables <span class=\"math inline\">\\(\\mathbb{V}{\\rm ar} (\\epsilon_i | \\mathbf{X} ) = \\sigma^2_\\epsilon\\)</span>. If this assumptions is not true, then there may be a linear relationship between <span class=\"math inline\">\\(\\widehat{\\epsilon}_i^2\\)</span> and <span class=\"math inline\">\\(X_i\\)</span>. So, the Breush-Pagan test is the based on the following regression:\n",
    "<span class=\"math display\">\\[\n",
    "\\widehat{\\epsilon}_i^2 = \\gamma_0 + \\gamma_1 X_i + v_i\n",
    "\\]</span>\n",
    "The hypothesis tests is:\n",
    "\n",
    "$\\begin{aligned}\n",
    "H_0&: \\gamma_1 = 0 \\text{ (residuals are homoskedastic)}\\\\\n",
    "H_1&: \\gamma_1 \\neq 0 \\text{ (residuals are heteroskedastic)}\n",
    "\\end{aligned}$\n",
    "\n",
    "It is a chi-squared test, where the test statistic:\n",
    "$\n",
    "LM = N \\cdot R^2_{\\widehat{\\epsilon}}\n",
    "$\n",
    "is distributed as $\\chi^2_1$ under the null. Here $R^2_{\\widehat{\\epsilon}}$is the R-square of the squared residual regression. One weakness of the BP test is that it assumes that the heteroskedasticity is a <strong>linear</strong> relationship of the independent variables. If we fail to reject the null hypothesis, we still do not rule out the possibility of a non-linear relationship between the independent variables and the error variance.</p></li>\n",
    "<li><p><strong>White Test</strong> is more generic than the BP test as it allows the independent variables to have a nonlinear effect on the error variance. For example, a combination of linear, quadratic and cross-products of the independent variables. It is a more commonly used test for homoskedasticity. The test statistic is calculated the same way as in <strong>BP</strong> test:\n",
    "<span class=\"math display\">\\[\n",
    "LM = N \\cdot R^2_{\\widehat{\\epsilon}}\n",
    "\\]</span>\n",
    "the difference from <strong>BP</strong> is that the squared residual model, from which we calculate <span class=\"math inline\">\\(R^2_{\\widehat{\\epsilon}}\\)</span>, may be nonlinear. A shortcoming of the White test is that it can lose its power if the model has many exogenous variables.</p></li>\n",
    "</ul>"
   ]
  },
  {
   "cell_type": "code",
   "execution_count": 73,
   "metadata": {},
   "outputs": [
    {
     "data": {
      "text/plain": [
       "(4.736381826174274,\n",
       " 0.029531116461051936,\n",
       " 4.747868990115543,\n",
       " 0.02954045766211842)"
      ]
     },
     "execution_count": 73,
     "metadata": {},
     "output_type": "execute_result"
    }
   ],
   "source": [
    "import statsmodels.stats.diagnostic as sm_diagnostic\n",
    "\n",
    "# Breusch–Pagan Test\n",
    "sm_diagnostic.het_breuschpagan(resid = FF5.resid.values, exog_het = sm.add_constant(FF5.resid.values))"
   ]
  },
  {
   "cell_type": "code",
   "execution_count": 74,
   "metadata": {},
   "outputs": [
    {
     "name": "stdout",
     "output_type": "stream",
     "text": [
      "(1133.0, 9.379420394983054e-247, 7.973561307442355e+29, 0.0)\n"
     ]
    }
   ],
   "source": [
    "# White Test\n",
    "print(sm_diagnostic.het_white(resid = FF5.resid.values, exog = sm.add_constant(FF5.resid.values)))"
   ]
  },
  {
   "cell_type": "markdown",
   "metadata": {},
   "source": [
    "## Residual Autocorrelation"
   ]
  },
  {
   "cell_type": "markdown",
   "metadata": {},
   "source": [
    "<p>If <span class=\"math inline\">\\(\\mathbb{C}{\\rm ov} (\\epsilon_i, \\epsilon_j) \\neq 0\\)</span> for some <span class=\"math inline\">\\(i \\neq j\\)</span>, then the errors are correlated. Autocorrelation is frequently encountered in time-series models.</p>\n",
    "\n",
    "<br>\n",
    "Assume that our model is defined as follows:\n",
    "</div>\n",
    "\n",
    "<p><span class=\"math display\">\\[\n",
    "\\begin{aligned}\n",
    "Y_t = \\beta_0 + \\beta_1 X_t + \\epsilon_t \\\\\n",
    "\\epsilon_t = \\rho \\epsilon_{t-1} + u_t,\\ |\\rho| &< 1,\\ u_t \\sim \\mathcal{N}(0, \\sigma^2)\n",
    "\\end{aligned}\n",
    "\\]</span>\n",
    "Then we say that the model has <strong>autocorrelated</strong>, or <strong>serially correlated</strong> errors.</p>\n",
    "<p>In this case, we have that:\n",
    "<span class=\"math display\">\\[\n",
    "\\mathbb{C}{\\rm ov}(\\epsilon_t, \\epsilon_{t-1}) = \\mathbb{C}{\\rm ov}(\\rho \\epsilon_{t-1} + u_t, \\epsilon_{t-1}) = \\rho \\mathbb{C}{\\rm ov}(\\epsilon_{t-1},\\epsilon_{t-1}) = \\rho \\sigma^2 \\neq 0\n",
    "\\]</span>\n",
    "Estimating the coefficients via OLS and ignoring the violation will still result in unbiased and consistent OLS estimators. However, the estimators are inefficient and the variance of the regression coefficients will be <strong>biased</strong>.</p>\n",
    "<p>On the other hand, autocorrelation in errors may be a result of a misspecified model.</p>\n",
    "\n",
    "\n",
    "<p>There are a number of tests for the presence of autocorrelation:</p>\n",
    "<ul>\n",
    "<li><p><strong>Durbin–Watson Test</strong> for the hypothesis:\n",
    "<span class=\"math display\">\\[\n",
    "\\begin{aligned}\n",
    "H_0&:\\text{the errors are serially uncorrelated}\\\\\n",
    "H_1&:\\text{the errors follow a first order autoregressive process (i.e. autocorrelation at lag 1)}\n",
    "\\end{aligned}\n",
    "\\]</span>\n",
    "The test statistic:\n",
    "<span class=\"math display\">\\[\n",
    "d = \\dfrac{\\sum_{i = 2}^N (\\widehat{\\epsilon}_i - \\widehat{\\epsilon}_{i-1})^2}{\\sum_{i = 1}^N \\widehat{\\epsilon}_i^2}\n",
    "\\]</span>\n",
    "The value of <span class=\"math inline\">\\(d\\)</span> always lies between 0 and 4. <span class=\"math inline\">\\(d = 2\\)</span> indicates no autocorrelation. If the Durbin–Watson statistic is not close to 2, there is evidence of a serial correlation.</p></li>\n",
    "<li><p><strong>Breusch-Godfrey Test</strong> is a more flexible test, covering autocorrelation of higher orders and applicable whether or not the regressors include lags of the dependent variable. Consider the following linear regression:\n",
    "<span class=\"math display\">\\[\n",
    "Y_i = \\beta_0 + \\beta_1 X_i + \\epsilon_i\n",
    "\\]</span>\n",
    "We then estimate the model via OLS and fit the following model on the residuals <span class=\"math inline\">\\(\\widehat{\\epsilon}_i\\)</span>:\n",
    "<span class=\"math display\">\\[\n",
    "\\widehat{\\epsilon}_i = \\alpha_0 + \\alpha_1 X_i + \\rho_1 \\widehat{\\epsilon}_{i - 1} + \\rho_2 \\widehat{\\epsilon}_{i - 2} + ... + \\rho_p \\widehat{\\epsilon}_{i - p} + u_t\n",
    "\\]</span>\n",
    "and calculate its <span class=\"math inline\">\\(R^2\\)</span> (R-squared), then testing the hypothesis:\n",
    "<span class=\"math display\">\\[\n",
    "\\begin{aligned}\n",
    "H_0&:\\rho_1 = \\rho_2 = ... = \\rho_p = 0\\\\\n",
    "H_1&:\\rho_j \\neq 0 \\text{ for some } j\n",
    "\\end{aligned}\n",
    "\\]</span>\n",
    "Under the null hypothesis the test statistic:\n",
    "<span class=\"math display\">\\[\n",
    "LM = (N-p)R^2 \\sim \\chi^2_p\n",
    "\\]</span></p></li>\n",
    "</ul>\n",
    "\n",
    "Note There is also the Ljung-Box Test for testing the null hypothesis of no autocorrelation of residuals."
   ]
  },
  {
   "cell_type": "code",
   "execution_count": 26,
   "metadata": {},
   "outputs": [
    {
     "name": "stdout",
     "output_type": "stream",
     "text": [
      "1.6737921626623802\n"
     ]
    }
   ],
   "source": [
    "from statsmodels.stats.stattools import durbin_watson\n",
    "# Durbin–Watson Test\n",
    "print(durbin_watson(FF5.resid.values))"
   ]
  },
  {
   "cell_type": "code",
   "execution_count": 28,
   "metadata": {},
   "outputs": [
    {
     "name": "stdout",
     "output_type": "stream",
     "text": [
      "(40.17074024060269, 1.892494342030728e-09, 20.67827145690064, 1.5173694149624436e-09)\n"
     ]
    }
   ],
   "source": [
    "from statsmodels.stats.diagnostic import acorr_breusch_godfrey\n",
    "# Breusch-Godfrey Test\n",
    "print(acorr_breusch_godfrey(FF5, nlags = 2))"
   ]
  },
  {
   "cell_type": "markdown",
   "metadata": {},
   "source": [
    "## Residual Normality Test"
   ]
  },
  {
   "cell_type": "markdown",
   "metadata": {},
   "source": [
    "<p>The normality requirement is necessary if we want to obtain the correct <span class=\"math inline\">\\(p\\)</span>-values and critical <span class=\"math inline\">\\(t\\)</span>-values when testing the hypothesis that <span class=\"math inline\">\\(H_0: \\beta_j = c\\)</span>, especially for significance testing, with <span class=\"math inline\">\\(c = 0\\)</span>. Assume that we want to test whether our residuals <span class=\"math inline\">\\(z_1,...,z_N\\)</span> come from a normal distribution. The hypothesis can be stated as:\n",
    "<span class=\"math display\">\\[\n",
    "\\begin{aligned}\n",
    "H_0:\\text{residuals follow a normal distribution}\\\\\n",
    "H_1:\\text{residuals do not follow a normal distribution}\n",
    "\\end{aligned}\n",
    "\\]</span></p>\n",
    "<p>There are a number of normality tests, like:</p>\n",
    "<ul>\n",
    "<li><p><strong>Anderson-Darling Test</strong>. The test statistic is calculated as:\n",
    "<span class=\"math display\">\\[\n",
    "A^2 = -N - \\sum_{i 1}^N \\dfrac{2i-1}{N}\\left[ \\log(F(z_{(i)}) + \\log\\left(1 - F(z_{(N+1-i)}) \\right)\\right]\n",
    "\\]</span>\n",
    "where <span class=\"math inline\">\\(z_{(i)}\\)</span> are the <strong>ordered data</strong> and <span class=\"math inline\">\\(F(\\cdot)\\)</span> is the cumulative distribution function (cdf) of the distribution being tested (for the univariate regression residuals - we are usually interested in testing for the normal distribution). The test statistic is compared against the critical values from the normal distribution. <a href=\"https://web.archive.org/web/20150630110326/http://instatmy.org.my/downloads/e-jurnal%202/3.pdf\">Empirical testing indicates</a> that the Anderson–Darling test is not quite as good as Shapiro-Wilk, but is better than other tests.</p></li>\n",
    "\n",
    "<br>\n",
    "<li><p><strong>Shapiro-Wilk Test</strong>. The test statistic is:\n",
    "<span class=\"math display\">\\[\n",
    "W = \\dfrac{\\left(\\sum_{i = 1}^N a_i z_{(i)} \\right)^2}{\\sum_{i = 1}^N (z_i - \\overline{z})^2}\n",
    "\\]</span>\n",
    "where <span class=\"math inline\">\\(z_{(i)}\\)</span> is the <span class=\"math inline\">\\(i\\)</span>-th <strong>smallest value in the sample</strong> (i.e. the data are ordered). <span class=\"math inline\">\\(a_i\\)</span> values are calculated using means, variances and covariances of <span class=\"math inline\">\\(z_{(i)}\\)</span>. <span class=\"math inline\">\\(W\\)</span> is compared against tabulated values of this statistic’s distribution. Small values of <span class=\"math inline\">\\(W\\)</span> will lead to the rejection of the null hypothesis. Monte Carlo simulation has found that Shapiro–Wilk has the best power for a given significance, followed closely by Anderson–Darling when comparing the Shapiro–Wilk, Kolmogorov–Smirnov, Lilliefors and Anderson–Darling tests.</p></li>\n",
    "\n",
    "<br>\n",
    "<li><p><strong>Kolmogorov-Smirnov Test</strong>. The test statistic is given by:\n",
    "<span class=\"math display\">\\[\n",
    "D = \\max\\{ D^+; D^-\\}\n",
    "\\]</span>\n",
    "where:\n",
    "<span class=\"math display\">\\[\n",
    "\\begin{aligned}\n",
    "D^+ = \\max_i \\left( \\dfrac{i}{N} - F(z_{(i)})\\right)\\\\\n",
    "D^- = \\max_i \\left( F(z_{(i)}) - \\dfrac{i - 1}{N} \\right)\n",
    "\\end{aligned}\n",
    "\\]</span>\n",
    "where <span class=\"math inline\">\\(F(\\cdot)\\)</span> is the theoretical cdf of the distribution being tested (for the univariate regression residuals - we are usually interested in testing for the normal distribution). The <strong>Lilliefors Test</strong> is based on the Komogorov-Smirnov Test as a special case of this for the normal distribution.. For the normal distribution case, the test statistic is compared against the critical values from a normal distribution in order to determine the <span class=\"math inline\">\\(p\\)</span>-value.</p></li>\n",
    "\n",
    "<br>\n",
    "<li><p><strong>Cramer–von Mises Test</strong> is an alternative to the Kolmogorov–Smirnov test. The test statistic:\n",
    "<span class=\"math display\">\\[\n",
    "W = N\\omega^2 = \\dfrac{1}{12N} + \\sum_{i = 1}^N \\left[ \\dfrac{2i-1}{2N} - F(z_{(i)}) \\right]^2\n",
    "\\]</span>\n",
    "If this value is larger than the tabulated value, then the hypothesis that the data came from the distribution <span class=\"math inline\">\\(F\\)</span> can be rejected.</p></li>\n",
    "\n",
    "<br>\n",
    "<li><p><strong>Jarque–Bera Test</strong> (valid for large samples). The statistic is calculated as:\n",
    "<span class=\"math display\">\\[\n",
    "JB = \\dfrac{N-k+1}{6} \\left(S^2 + \\dfrac{(C - 3)^2}{4}\\right)\n",
    "\\]</span>\n",
    "where\n",
    "<span class=\"math display\">\\[\n",
    "\\begin{aligned}\n",
    "S = \\dfrac{\\dfrac{1}{N}\\sum_{i = 1}^N (z_i - \\overline{z})^3}{\\left( \\dfrac{1}{N}\\sum_{i = 1}^N (z_i - \\overline{z})^2 \\right)^{3/2}}= \\dfrac{\\widehat{\\mu}_3}{\\widehat{\\sigma}^3}\\\\\n",
    "C = \\dfrac{\\dfrac{1}{N}\\sum_{i = 1}^N (z_i - \\overline{z})^4}{\\left( \\dfrac{1}{N}\\sum_{i = 1}^N (z_i - \\overline{z})^2 \\right)^{2}} = \\dfrac{\\widehat{\\mu}_4}{\\widehat{\\sigma}^4}\\\\\n",
    "\\end{aligned}\n",
    "\\]</span>\n",
    "<span class=\"math inline\">\\(N\\)</span> is the sample size, <span class=\"math inline\">\\(S\\)</span> is the skewness and <span class=\"math inline\">\\(C\\)</span> is kurtosis and <span class=\"math inline\">\\(k\\)</span> is the number of regressors (i.e. the number of different independent variables <span class=\"math inline\">\\(X\\)</span>, with <span class=\"math inline\">\\(k = 1\\)</span> outside a regression context). <br> If the data comes from a normal distribution, then the <span class=\"math inline\">\\(JB\\)</span> statistic has a chi-squared distribution with <strong>two degrees of freedom</strong>, <span class=\"math inline\">\\(\\chi^2_2\\)</span>.</p></li>"
   ]
  },
  {
   "cell_type": "code",
   "execution_count": 25,
   "metadata": {},
   "outputs": [
    {
     "data": {
      "text/plain": [
       "(1163.04560231688,\n",
       " 2.804505886896713e-253,\n",
       " 0.1707597112963196,\n",
       " 7.958348312142612)"
      ]
     },
     "execution_count": 25,
     "metadata": {},
     "output_type": "execute_result"
    }
   ],
   "source": [
    "from statsmodels.stats.stattools import jarque_bera\n",
    "jarque_bera(FF5.resid.values)"
   ]
  },
  {
   "cell_type": "markdown",
   "metadata": {},
   "source": [
    "## Standardized Residuals"
   ]
  },
  {
   "cell_type": "markdown",
   "metadata": {},
   "source": [
    "<p>When we compare residuals for different observations, we want to take into account that their variances may be different. One way to account for this is to divide the residuals by an estimate the <strong>residuals standard deviation</strong>. This results in calculating the <strong>standardized</strong> residuals:\n",
    "<span class=\"math display\">\\[\n",
    "s_i = \\dfrac{\\widehat{\\epsilon_i}}{\\widehat{\\sigma}\\sqrt{1 - h_{ii}}}\n",
    "\\]</span>\n",
    "where <span class=\"math inline\">\\(h_{ii}\\)</span> is the <span class=\"math inline\">\\(i\\)</span>-th diagonal element of <span class=\"math inline\">\\(\\mathbf{H}\\)</span>. Standardized residuals are useful in detecting outliers. Generally, any observation with a standardized residual greater than 2 in absolute value should be examined more closely.</p>"
   ]
  },
  {
   "cell_type": "code",
   "execution_count": 29,
   "metadata": {},
   "outputs": [],
   "source": [
    "import pandas as pd"
   ]
  },

 "nbformat": 4,
 "nbformat_minor": 2
}
