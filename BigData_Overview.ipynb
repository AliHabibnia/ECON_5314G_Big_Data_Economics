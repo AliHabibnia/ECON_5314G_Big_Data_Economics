{
 "cells": [
  {
   "cell_type": "markdown",
   "metadata": {},
   "source": [
    "## <center><font color=navy>Big Data Economics</font></center>\n",
    "### <center>An Overview</center>\n",
    "#### <center>Ali Habibnia</center>\n",
    "\n",
    "    \n",
    "<center> Assistant Professor, Department of Economics, </center>\n",
    "<center> and Division of Computational Modeling & Data Analytics at Virginia Tech</center>\n",
    "<center> habibnia@vt.edu </center> "
   ]
  },
  {
   "cell_type": "markdown",
   "metadata": {},
   "source": [
    "### Motivation\n",
    "\n",
    "* #### Today, we find ourselves at the meeting point of three technologies.\n",
    "    * HPC + Big Data + AI & ML\n",
    "<img src=\"images/bigdata.png\" alt=\"Drawing\"/>\n",
    "\n",
    "\n",
    "* ####  You'll often hear the phrase \"big data and machine learning\". This is because many ML algorithms are helpful for big data problems.\n",
    "\n",
    "* #### Computer infrastructure both hardware and software has improved. Parallel computing gpu cluster computing and cloud computing. \n",
    "\n",
    "* #### A resurgence in the field of artificial neural networks --> Deep learning\n",
    "\n",
    "<img src=\"images/bigdata2.png\" alt=\"Drawing\" width=\"500\"/>\n",
    "\n",
    "\n",
    "* #### Building accurate models is a complex and challenging task. \n",
    "\n",
    "\n",
    "<img src=\"images/model.png\" alt=\"Drawing\"/>"
   ]
  },
  {
   "cell_type": "markdown",
   "metadata": {},
   "source": [
    "## What is Big Data?\n",
    "\n",
    "### It depends on who you ask. From an econometric perspective, it could mean:\n",
    "\n",
    "* #### Wild data (unstructured, constract with Census surveys, or twitter)\n",
    "\n",
    "* #### Wide data (a.k.a Larg-P data because p>>N)\n",
    "\n",
    "* #### Long data (a.k.a Large-N data because N is very large and may not even fit onto a single hard drive)\n",
    "\n",
    "* #### Complex model (a.k.a Large-Theta because model/algorithm has many parameters)\n",
    "\n",
    "<img src=\"images/mlp.png\" alt=\"Drawing\" width=\"500\"/>\n"
   ]
  },
  {
   "cell_type": "markdown",
   "metadata": {},
   "source": [
    "## Pillars of Big Data\n",
    "\n",
    "* #### Foundation of basic calculus, linear algebra, probability analysis, and neumerical optimization)\n",
    "\n",
    "* #### Programming (for automation of data collection, manipulation, cleaning, visualization, and modeling)\n",
    "\n",
    "* #### Visualization & exploration\n",
    "\n",
    "* #### Machine learning (to capture nonlinearity and non normality in data, to compress data, and prediction)\n",
    "\n",
    "* #### Causal inference (to be able to make policy prescription)\n"
   ]
  },
  {
   "cell_type": "markdown",
   "metadata": {},
   "source": [
    "## DATA COLLECTION: FROM SURVEYS TO SATELLITES AND SENSORS\n",
    "\n",
    "* #### Traditionally, economists have relied on surveys and national account estimates to assess the impact of policy interventions. Conducting surveys is time-intensive, costly, and prone to error. In many countries, notably in the poorest countries and fragile states survey data is simply unavailable or the quality is in doubt.\n",
    "\n",
    "\n",
    "* #### Big data from satellites, mobile phones, and social media, among other tools, allows researchers to build on, and in some cases, replace traditional methods of acquiring socioeconomic data. \n",
    "\n",
    "* #### Its advantages are frequency and near-real-time data, accuracy and objectiveness. Its disadvantages are the fact that the indicators available are merely proxies for what policymakers are interested in and need for policy design.\n",
    "\n",
    "### Examples\n",
    "\n",
    "* #### Social scientists have started to use nighttime light measures, or luminosity, as proxies for economic activity and population distribution. \n",
    "\n",
    "<img src=\"images/satt.jpg\" alt=\"Drawing\" width=\"500\"/>\n",
    "\n",
    "* #### Mobile phone data can also be used to infer socioeconomic characteristics in a geographically disaggregated way.  Cell phones can provide data on: (i) mobility, (ii) social interactions, and (iii) consumption and expenditure patterns.\n",
    "\n",
    "* #### Digital footprints from social media can also fill gaps in data for policymakers and development practitioners. For example, Google Trends (GT) reports, which provide real-time information on search queries at state and metro levels for several countries, have informed private consumption predictions.\n",
    "\n",
    "<img src=\"images/text.PNG\" alt=\"Drawing\" width=\"500\"/>"
   ]
  },
  {
   "cell_type": "markdown",
   "metadata": {},
   "source": [
    "## Big Data: FROM HYPOTHESIS TESTING TO MACHINE LEARNING\n",
    "\n",
    "* ####  Machine learning (ML) allows researchers to analyze data in novel ways. Computers today can process multiple sets of data in little time and, with the correct classification sets, recognize highly complex patterns among them. \n",
    "\n",
    "* #### Designed to simulate the interactions of biological neurons, “deep learning” uses artificial neural networks to discern features in successive layers of data while iterating on previously recognized trends. \n",
    "\n",
    "\n",
    "### Econometrics vs. Machine Learning\n",
    "\n",
    "#### Goal of econometrics\n",
    "\n",
    "* #### \"the goal of econometrics is to find β hat\" where here we mean β hat to be the causal impact of X on y\n",
    "\n",
    "* #### The primary statistical concern of econometrics is sampling error. In other words, the goal is to quantify the uncertainty around β hat due to randomness in the sampling of the population. \n",
    "\n",
    "* #### The goal is to make counterfactual predictions.\n",
    "\n",
    "        What would happen to Amazon's profits if it changed its website layout?\n",
    "\n",
    "We don't get to observe the world under these alternative policies, so we can't simply find the answers in the data. Knowing the counterfactual requires being able to measure a causal effect. Being able to measure a causal effect requires making assumptions. That's what economics is all about!\n",
    "\n",
    "\n",
    "#### Goal of machine learning\n",
    "\n",
    "* #### In contrast, the goal of machine learning is to come up with the best possible out-of-sample prediction. \n",
    "\n",
    "* #### We refer to this as the primary concern of machine learning being \"y hat\"\n",
    "\n",
    "* #### The goal is to make sure that the best prediction is had by tuning and validating many different kinds of models. This is what cross-validation is all about, and it is what machine learning practitioners obsess about."
   ]
  }
 ],
 "metadata": {
  "kernelspec": {
   "display_name": "Python 3 (ipykernel)",
   "language": "python",
   "name": "python3"
  },
  "language_info": {
   "codemirror_mode": {
    "name": "ipython",
    "version": 3
   },
   "file_extension": ".py",
   "mimetype": "text/x-python",
   "name": "python",
   "nbconvert_exporter": "python",
   "pygments_lexer": "ipython3",
   "version": "3.10.0"
  }
 },
 "nbformat": 4,
 "nbformat_minor": 2
}
